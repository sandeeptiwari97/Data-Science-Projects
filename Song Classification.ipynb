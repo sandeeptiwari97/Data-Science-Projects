{
 "cells": [
  {
   "cell_type": "markdown",
   "metadata": {
    "deletable": true,
    "editable": true
   },
   "source": [
    "# Project 3 - Classification\n",
    "Welcome to the third project of Data 8!  You will build a classifier that guesses whether a song is hip-hop or country, using only the numbers of times words appear in the song's lyrics.  By the end of the project, you should know how to:\n",
    "\n",
    "1. Build a k-nearest-neighbors classifier.\n",
    "2. Test a classifier on data.\n",
    "\n",
    "### Logistics\n",
    "\n",
    "\n",
    "**Deadline.** This project is due at 11:59pm on Thursday 4/27. You can earn an early submission bonus point by submitting your completed project by Wednesday 4/26. Late submissions will be accepted until Tuesday 5/2, but a 10% late penalty will be applied for each day late. It's **much** better to be early than late, so start working now.\n",
    "\n",
    "**Checkpoint.** For full credit, you must also **complete Part 1 of the project (out of 4) and submit them by 11:59pm on Friday 4/21**. You will have some lab time to work on these questions, but we recommend that you start the project before lab and leave time to finish the checkpoint afterward.\n",
    "\n",
    "**Partners.** You may work with one other partner. It's best to work with someone in your lab. Only one of you is required to submit the project. On [okpy.org](http://okpy.org), the person who submits should also designate their partner so that both of you receive credit.\n",
    "\n",
    "**Rules.** Don't share your code with anybody but your partner. You are welcome to discuss questions with other students, but don't share the answers. The experience of solving the problems in this project will prepare you for exams (and life). If someone asks you for the answer, resist! Instead, you can demonstrate how you would solve a similar problem.\n",
    "\n",
    "**Support.** You are not alone! Come to office hours, post on Piazza, and talk to your classmates. If you want to ask about the details of your solution to a problem, make a private Piazza post and the staff will respond. If you're ever feeling overwhelmed or don't know how to make progress, email your TA or tutor for help. You can find contact information for the staff on the [course website](http://data8.org/sp17/staff.html).\n",
    "\n",
    "**Tests.** Passing the tests for a question **does not** mean that you answered the question correctly. Tests usually only check that your table has the correct column labels. However, more tests will be applied to verify the correctness of your submission in order to assign your final score, so be careful and check your work!\n",
    "\n",
    "**Advice.** Develop your answers incrementally. To perform a complicated table manipulation, break it up into steps, perform each step on a different line, give a new name to each result, and check that each intermediate result is what you expect. You can add any additional names or functions you want to the provided cells. \n",
    "\n",
    "To get started, load `datascience`, `numpy`, `plots`, and `ok`."
   ]
  },
  {
   "cell_type": "code",
   "execution_count": 1,
   "metadata": {
    "collapsed": false,
    "deletable": true,
    "editable": true
   },
   "outputs": [
    {
     "name": "stdout",
     "output_type": "stream",
     "text": [
      "=====================================================================\n",
      "Assignment: Project 3 - Classification\n",
      "OK, version v1.9.5\n",
      "=====================================================================\n",
      "\n",
      "Successfully logged in as stiwari@berkeley.edu\n"
     ]
    }
   ],
   "source": [
    "# Run this cell to set up the notebook, but please don't change it.\n",
    "\n",
    "import numpy as np\n",
    "import math\n",
    "from datascience import *\n",
    "\n",
    "# These lines set up the plotting functionality and formatting.\n",
    "import matplotlib\n",
    "matplotlib.use('Agg', warn=False)\n",
    "%matplotlib inline\n",
    "import matplotlib.pyplot as plots\n",
    "plots.style.use('fivethirtyeight')\n",
    "import warnings\n",
    "warnings.simplefilter(action=\"ignore\", category=FutureWarning)\n",
    "\n",
    "# These lines load the tests.\n",
    "from client.api.notebook import Notebook\n",
    "ok = Notebook('project3.ok')\n",
    "_ = ok.auth(inline=True)"
   ]
  },
  {
   "cell_type": "markdown",
   "metadata": {
    "deletable": true,
    "editable": true
   },
   "source": [
    "# 1. The Dataset\n",
    "\n",
    "Our dataset is a table of songs, each with a name, an artist, and a genre.  We'll be trying to predict each song's genre.\n",
    "\n",
    "The only attributes we will use to predict the genre of a song are its lyrics. In particular, we have a list of just under 5,000 words that might occur in a song.  For each song, our dataset tells us the frequency with which each of these words occurs in that song. All words have been converted to lowercase.\n",
    "\n",
    "Run the cell below to read the `lyrics` table. **It may take up to a minute to load.**"
   ]
  },
  {
   "cell_type": "code",
   "execution_count": 2,
   "metadata": {
    "collapsed": false,
    "deletable": true,
    "editable": true
   },
   "outputs": [
    {
     "data": {
      "text/html": [
       "<table border=\"1\" class=\"dataframe\">\n",
       "    <thead>\n",
       "        <tr>\n",
       "            <th>Title</th> <th>Artist</th> <th>Genre</th> <th>i</th> <th>the</th> <th>you</th> <th>like</th> <th>love</th>\n",
       "        </tr>\n",
       "    </thead>\n",
       "    <tbody>\n",
       "        <tr>\n",
       "            <td>In Your Eyes</td> <td>Alison Krauss</td> <td>Country</td> <td>0.107143</td> <td>0   </td> <td>0.0297619</td> <td>0.0119048</td> <td>0.0595238</td>\n",
       "        </tr>\n",
       "    </tbody>\n",
       "</table>"
      ],
      "text/plain": [
       "Title        | Artist        | Genre   | i        | the  | you       | like      | love\n",
       "In Your Eyes | Alison Krauss | Country | 0.107143 | 0    | 0.0297619 | 0.0119048 | 0.0595238"
      ]
     },
     "execution_count": 2,
     "metadata": {},
     "output_type": "execute_result"
    }
   ],
   "source": [
    "lyrics = Table.read_table('lyrics.csv')\n",
    "lyrics.where(\"Title\", \"In Your Eyes\").select(0, 1, 2, 3, 4, 5, \"like\", \"love\")"
   ]
  },
  {
   "cell_type": "markdown",
   "metadata": {
    "deletable": true,
    "editable": true
   },
   "source": [
    "That cell prints a few columns of the row for the country song [\"In Your Eyes\" by Alison Krauss](http://www.azlyrics.com/lyrics/alisonkrauss/inyoureyes.html).  The song contains 168 words. The word \"like\" appears twice:  $\\frac{2}{168} \\approx 0.0119$ of the words in the song. The word \"love\" appears 10 times: $\\frac{10}{168} \\approx 0.0595$ of the words. The word \"the\" doesn't appear at all.\n",
    "\n",
    "Our dataset doesn't contain all information about a song.  For example, it doesn't describe the order of words in the song, let alone the melody, instruments, or rhythm. Nonetheless, you may find that word frequencies alone are sufficient to build an accurate genre classifier."
   ]
  },
  {
   "cell_type": "markdown",
   "metadata": {
    "deletable": true,
    "editable": true
   },
   "source": [
    "All titles are unique. The `row_for_title` function provides fast access to the one row for each title. "
   ]
  },
  {
   "cell_type": "code",
   "execution_count": 3,
   "metadata": {
    "collapsed": false,
    "deletable": true,
    "editable": true
   },
   "outputs": [],
   "source": [
    "title_index = lyrics.index_by('Title')\n",
    "def row_for_title(title):\n",
    "    \"\"\"Return the row for a title, similar to the following expression (but faster)\n",
    "    \n",
    "    lyrics.where('Title', title).row(0)\n",
    "    \"\"\"\n",
    "    return title_index.get(title)[0]"
   ]
  },
  {
   "cell_type": "markdown",
   "metadata": {
    "deletable": true,
    "editable": true
   },
   "source": [
    "For example, the fastest way to find the frequency of \"love\" in the song *In Your Eyes* is to access the `'love'` item from its row."
   ]
  },
  {
   "cell_type": "code",
   "execution_count": 4,
   "metadata": {
    "collapsed": false,
    "deletable": true,
    "editable": true
   },
   "outputs": [
    {
     "data": {
      "text/plain": [
       "0.059523810000000003"
      ]
     },
     "execution_count": 4,
     "metadata": {},
     "output_type": "execute_result"
    }
   ],
   "source": [
    "row_for_title('In Your Eyes').item('love')"
   ]
  },
  {
   "cell_type": "markdown",
   "metadata": {
    "deletable": true,
    "editable": true
   },
   "source": [
    "#### Question 1.1\n",
    "Set `expected_row_sum` to the number that you expect will result from summing all proportions in each row, excluding the first three columns."
   ]
  },
  {
   "cell_type": "code",
   "execution_count": 5,
   "metadata": {
    "collapsed": false,
    "deletable": true,
    "editable": true
   },
   "outputs": [],
   "source": [
    "# Set row_sum to a number that's the (approximate) sum of each row of word proportions.\n",
    "expected_row_sum = 0.15"
   ]
  },
  {
   "cell_type": "code",
   "execution_count": 6,
   "metadata": {
    "collapsed": false,
    "deletable": true,
    "editable": true
   },
   "outputs": [
    {
     "name": "stdout",
     "output_type": "stream",
     "text": [
      "~~~~~~~~~~~~~~~~~~~~~~~~~~~~~~~~~~~~~~~~~~~~~~~~~~~~~~~~~~~~~~~~~~~~~\n",
      "Running tests\n",
      "\n",
      "---------------------------------------------------------------------\n",
      "Test summary\n",
      "    Passed: 1\n",
      "    Failed: 0\n",
      "[ooooooooook] 100.0% passed\n",
      "\n"
     ]
    }
   ],
   "source": [
    "_ = ok.grade(\"q1_1\")"
   ]
  },
  {
   "cell_type": "markdown",
   "metadata": {
    "deletable": true,
    "editable": true
   },
   "source": [
    "Run the cell below to generate a histogram of the actual row sums. It should confirm your answer above, perhaps with a small amount of error."
   ]
  },
  {
   "cell_type": "code",
   "execution_count": 7,
   "metadata": {
    "collapsed": false,
    "deletable": true,
    "editable": true
   },
   "outputs": [
    {
     "data": {
      "image/png": "[encoded data removed]",
      "text/plain": [
       "<matplotlib.figure.Figure at 0x7f215576fcc0>"
      ]
     },
     "metadata": {},
     "output_type": "display_data"
    }
   ],
   "source": [
    "# Run this cell to display a histogram of the sums of proportions in each row.\n",
    "# This computation might take up to a minute; you can skip it if it's too slow.\n",
    "Table().with_column('sums', lyrics.drop([0, 1, 2]).apply(sum)).hist(0)"
   ]
  },
  {
   "cell_type": "markdown",
   "metadata": {
    "collapsed": false,
    "deletable": true,
    "editable": true
   },
   "source": [
    "This dataset was extracted from the [Million Song Dataset](http://labrosa.ee.columbia.edu/millionsong/). Specifically, we are using the complementary datasets from [musiXmatch](http://labrosa.ee.columbia.edu/millionsong/musixmatch) and [Last.fm](http://labrosa.ee.columbia.edu/millionsong/lastfm). \n",
    "\n",
    "The counts of common words in the lyrics for all of these songs are provided by the musiXmatch dataset (called a bag-of-words format). We converted the words to lowercase, removed the naughty ones, and converted the counts to frequencies.\n",
    "\n",
    "The Last.fm dataset contains multiple tags for each song in the Million Song Dataset. Some of the tags are genre-related, such as \"pop\", \"rock\", \"classic\", etc.  To construct the `Genre` column, we first extracted songs with Last.fm tags that included the words \"country\", or both \"hip\" and \"hop\". These songs were then cross-referenced with the musiXmatch dataset, and only songs with musixMatch lyrics were placed into our dataset. "
   ]
  },
  {
   "cell_type": "code",
   "execution_count": 8,
   "metadata": {
    "collapsed": false,
    "deletable": true,
    "editable": true
   },
   "outputs": [
    {
     "name": "stdout",
     "output_type": "stream",
     "text": [
      "Words with frequencies: 4817\n",
      "Songs with genres: 1721\n"
     ]
    }
   ],
   "source": [
    "print('Words with frequencies:', lyrics.drop('Title', 'Artist', 'Genre').num_columns)\n",
    "print('Songs with genres:', lyrics.num_rows)"
   ]
  },
  {
   "cell_type": "markdown",
   "metadata": {
    "deletable": true,
    "editable": true
   },
   "source": [
    "## 1.1. Word Stemming\n",
    "The columns other than Title, Artist, and Genre in the `lyrics` table are all words that appear in some of the songs in our dataset.  Some of those names have been *stemmed*, or abbreviated heuristically, in an attempt to make different [inflected](https://en.wikipedia.org/wiki/Inflection) forms of the same base word into the same string.  For example, the column \"manag\" is the sum of proportions of the words \"manage\", \"manager\", \"managed\", and \"managerial\" (and perhaps others) in each song.  \n",
    "\n",
    "Stemming makes it a little tricky to search for the words you want to use, so we have provided another table that will let you see examples of unstemmed versions of each stemmed word.  Run the code below to load it."
   ]
  },
  {
   "cell_type": "code",
   "execution_count": 9,
   "metadata": {
    "collapsed": false,
    "deletable": true,
    "editable": true,
    "scrolled": true
   },
   "outputs": [
    {
     "data": {
      "text/html": [
       "<table border=\"1\" class=\"dataframe\">\n",
       "    <thead>\n",
       "        <tr>\n",
       "            <th>Stem</th> <th>Word</th>\n",
       "        </tr>\n",
       "    </thead>\n",
       "    <tbody>\n",
       "        <tr>\n",
       "            <td>devant</td> <td>devant     </td>\n",
       "        </tr>\n",
       "    </tbody>\n",
       "        <tr>\n",
       "            <td>devast</td> <td>devastation</td>\n",
       "        </tr>\n",
       "    </tbody>\n",
       "        <tr>\n",
       "            <td>devil </td> <td>devil      </td>\n",
       "        </tr>\n",
       "    </tbody>\n",
       "        <tr>\n",
       "            <td>devot </td> <td>devotion   </td>\n",
       "        </tr>\n",
       "    </tbody>\n",
       "        <tr>\n",
       "            <td>devour</td> <td>devour     </td>\n",
       "        </tr>\n",
       "    </tbody>\n",
       "        <tr>\n",
       "            <td>dew   </td> <td>dew        </td>\n",
       "        </tr>\n",
       "    </tbody>\n",
       "        <tr>\n",
       "            <td>di    </td> <td>di         </td>\n",
       "        </tr>\n",
       "    </tbody>\n",
       "        <tr>\n",
       "            <td>dia   </td> <td>dia        </td>\n",
       "        </tr>\n",
       "    </tbody>\n",
       "        <tr>\n",
       "            <td>diablo</td> <td>diablo     </td>\n",
       "        </tr>\n",
       "    </tbody>\n",
       "        <tr>\n",
       "            <td>dial  </td> <td>dial       </td>\n",
       "        </tr>\n",
       "    </tbody>\n",
       "</table>"
      ],
      "text/plain": [
       "Stem   | Word\n",
       "devant | devant\n",
       "devast | devastation\n",
       "devil  | devil\n",
       "devot  | devotion\n",
       "devour | devour\n",
       "dew    | dew\n",
       "di     | di\n",
       "dia    | dia\n",
       "diablo | diablo\n",
       "dial   | dial"
      ]
     },
     "execution_count": 9,
     "metadata": {},
     "output_type": "execute_result"
    }
   ],
   "source": [
    "# Just run this cell.\n",
    "vocab_mapping = Table.read_table('mxm_reverse_mapping_safe.csv')\n",
    "stemmed = np.take(lyrics.labels, np.arange(3, len(lyrics.labels)))\n",
    "vocab_table = Table().with_column('Stem', stemmed).join('Stem', vocab_mapping)\n",
    "vocab_table.take(np.arange(1100, 1110))"
   ]
  },
  {
   "cell_type": "markdown",
   "metadata": {
    "deletable": true,
    "editable": true
   },
   "source": [
    "#### Question 1.1.1\n",
    "Assign `unchanged` to the **percentage** of words in `vocab_table` that are the same as their stemmed form (such as \"devour\" above).\n",
    "\n",
    "*Hint:* Try using `where` and comparing the number of rows in a table of only unchanged vocabulary with the number of rows in `vocab_table`."
   ]
  },
  {
   "cell_type": "code",
   "execution_count": 10,
   "metadata": {
    "collapsed": false,
    "deletable": true,
    "editable": true
   },
   "outputs": [
    {
     "name": "stdout",
     "output_type": "stream",
     "text": [
      "75.4 percent are unchanged\n"
     ]
    }
   ],
   "source": [
    "count = 0\n",
    "for i in np.arange(vocab_table.num_rows):\n",
    "    if len(vocab_table.column(0).item(i)) == len(vocab_table.column(1).item(i)):\n",
    "        count += 1\n",
    "percent_unchanged = count * 100 / vocab_table.num_rows\n",
    "percent_unchanged\n",
    "print(round(percent_unchanged, 2), 'percent are unchanged')"
   ]
  },
  {
   "cell_type": "code",
   "execution_count": 11,
   "metadata": {
    "collapsed": false,
    "deletable": true,
    "editable": true
   },
   "outputs": [
    {
     "name": "stdout",
     "output_type": "stream",
     "text": [
      "~~~~~~~~~~~~~~~~~~~~~~~~~~~~~~~~~~~~~~~~~~~~~~~~~~~~~~~~~~~~~~~~~~~~~\n",
      "Running tests\n",
      "\n",
      "---------------------------------------------------------------------\n",
      "Test summary\n",
      "    Passed: 1\n",
      "    Failed: 0\n",
      "[ooooooooook] 100.0% passed\n",
      "\n"
     ]
    }
   ],
   "source": [
    "_ = ok.grade(\"q1_1_1\")"
   ]
  },
  {
   "cell_type": "markdown",
   "metadata": {
    "deletable": true,
    "editable": true
   },
   "source": [
    "#### Question 1.1.2\n",
    "Assign `stemmed_message` to the stemmed version of the word \"message\"."
   ]
  },
  {
   "cell_type": "code",
   "execution_count": 12,
   "metadata": {
    "collapsed": false,
    "deletable": true,
    "editable": true
   },
   "outputs": [
    {
     "data": {
      "text/plain": [
       "'messag'"
      ]
     },
     "execution_count": 12,
     "metadata": {},
     "output_type": "execute_result"
    }
   ],
   "source": [
    "# Set stemmed_message to the stemmed version of \"message\" (which\n",
    "# should be a string).  Use vocab_table.\n",
    "stemmed_message = vocab_table.where('Word', are.equal_to('message')).column('Stem')[0]\n",
    "stemmed_message"
   ]
  },
  {
   "cell_type": "code",
   "execution_count": 13,
   "metadata": {
    "collapsed": false,
    "deletable": true,
    "editable": true
   },
   "outputs": [
    {
     "name": "stdout",
     "output_type": "stream",
     "text": [
      "~~~~~~~~~~~~~~~~~~~~~~~~~~~~~~~~~~~~~~~~~~~~~~~~~~~~~~~~~~~~~~~~~~~~~\n",
      "Running tests\n",
      "\n",
      "---------------------------------------------------------------------\n",
      "Test summary\n",
      "    Passed: 1\n",
      "    Failed: 0\n",
      "[ooooooooook] 100.0% passed\n",
      "\n"
     ]
    }
   ],
   "source": [
    "_ = ok.grade(\"q1_1_2\")"
   ]
  },
  {
   "cell_type": "markdown",
   "metadata": {
    "deletable": true,
    "editable": true
   },
   "source": [
    "#### Question 1.1.3\n",
    "Assign `unstemmed_singl` to the word in `vocab_table` that has \"singl\" as its stemmed form. (*Note that multiple English words may stem to \"singl\", but only one example appears in `vocab_table`.*)"
   ]
  },
  {
   "cell_type": "code",
   "execution_count": 14,
   "metadata": {
    "collapsed": false,
    "deletable": true,
    "editable": true
   },
   "outputs": [
    {
     "data": {
      "text/plain": [
       "'single'"
      ]
     },
     "execution_count": 14,
     "metadata": {},
     "output_type": "execute_result"
    }
   ],
   "source": [
    "# Set unstemmed_singl to the unstemmed version of \"singl\" (which\n",
    "# should be a string).\n",
    "unstemmed_singl = vocab_table.where('Stem', are.equal_to('singl')).column('Word')[0]\n",
    "unstemmed_singl"
   ]
  },
  {
   "cell_type": "code",
   "execution_count": 15,
   "metadata": {
    "collapsed": false,
    "deletable": true,
    "editable": true
   },
   "outputs": [
    {
     "name": "stdout",
     "output_type": "stream",
     "text": [
      "~~~~~~~~~~~~~~~~~~~~~~~~~~~~~~~~~~~~~~~~~~~~~~~~~~~~~~~~~~~~~~~~~~~~~\n",
      "Running tests\n",
      "\n",
      "---------------------------------------------------------------------\n",
      "Test summary\n",
      "    Passed: 1\n",
      "    Failed: 0\n",
      "[ooooooooook] 100.0% passed\n",
      "\n"
     ]
    }
   ],
   "source": [
    "_ = ok.grade(\"q1_1_3\")"
   ]
  },
  {
   "cell_type": "markdown",
   "metadata": {
    "deletable": true,
    "editable": true
   },
   "source": [
    "#### Question 1.1.4\n",
    "What word in `vocab_table` was shortened the most by this stemming process? Assign `most_shortened` to the word. It's an example of how heuristic stemming can collapse two unrelated words into the same stem (which is bad, but happens a lot in practice anyway)."
   ]
  },
  {
   "cell_type": "code",
   "execution_count": 16,
   "metadata": {
    "collapsed": false,
    "deletable": true,
    "editable": true,
    "for_assignment_type": "student"
   },
   "outputs": [
    {
     "data": {
      "text/html": [
       "<table border=\"1\" class=\"dataframe\">\n",
       "    <thead>\n",
       "        <tr>\n",
       "            <th>Stem</th> <th>Word</th>\n",
       "        </tr>\n",
       "    </thead>\n",
       "    <tbody>\n",
       "        <tr>\n",
       "            <td>intern</td> <td>international</td>\n",
       "        </tr>\n",
       "    </tbody>\n",
       "</table>"
      ],
      "text/plain": [
       "Stem   | Word\n",
       "intern | international"
      ]
     },
     "execution_count": 16,
     "metadata": {},
     "output_type": "execute_result"
    }
   ],
   "source": [
    "# In our solution, we found it useful to first make an array\n",
    "# called shortened containing the number of characters that was\n",
    "# chopped off of each word in vocab_table, but you don't have\n",
    "# to do that.\n",
    "shortened = []\n",
    "for i in np.arange(vocab_table.num_rows):\n",
    "    shortened.append(len(str(vocab_table.column(1).item(i))) - len(str(vocab_table.column(0).item(i))))\n",
    "most_shortened = vocab_table.column('Word').item(shortened.index(7.0))\n",
    "most_shortened\n",
    "# This will display your answer and its shortened form.\n",
    "vocab_table.where('Word', most_shortened)"
   ]
  },
  {
   "cell_type": "code",
   "execution_count": 17,
   "metadata": {
    "collapsed": false,
    "deletable": true,
    "editable": true
   },
   "outputs": [
    {
     "name": "stdout",
     "output_type": "stream",
     "text": [
      "~~~~~~~~~~~~~~~~~~~~~~~~~~~~~~~~~~~~~~~~~~~~~~~~~~~~~~~~~~~~~~~~~~~~~\n",
      "Running tests\n",
      "\n",
      "---------------------------------------------------------------------\n",
      "Test summary\n",
      "    Passed: 1\n",
      "    Failed: 0\n",
      "[ooooooooook] 100.0% passed\n",
      "\n"
     ]
    }
   ],
   "source": [
    "_ = ok.grade(\"q1_1_4\")"
   ]
  },
  {
   "cell_type": "markdown",
   "metadata": {
    "deletable": true,
    "editable": true
   },
   "source": [
    "## 1.2. Splitting the dataset\n",
    "We're going to use our `lyrics` dataset for two purposes.\n",
    "\n",
    "1. First, we want to *train* song genre classifiers.\n",
    "2. Second, we want to *test* the performance of our classifiers.\n",
    "\n",
    "Hence, we need two different datasets: *training* and *test*.\n",
    "\n",
    "The purpose of a classifier is to classify unseen data that is similar to the training data. Therefore, we must ensure that there are no songs that appear in both sets. We do so by splitting the dataset randomly. The dataset has already been permuted randomly, so it's easy to split.  We just take the top for training and the rest for test. \n",
    "\n",
    "Run the code below (without changing it) to separate the datasets into two tables."
   ]
  },
  {
   "cell_type": "code",
   "execution_count": 18,
   "metadata": {
    "collapsed": false,
    "deletable": true,
    "editable": true
   },
   "outputs": [
    {
     "name": "stdout",
     "output_type": "stream",
     "text": [
      "Training:  1183 ; Test:  538\n"
     ]
    }
   ],
   "source": [
    "# Here we have defined the proportion of our data\n",
    "# that we want to designate for training as 11/16ths\n",
    "# of our total dataset.  5/16ths of the data is\n",
    "# reserved for testing.\n",
    "\n",
    "training_proportion = 11/16\n",
    "\n",
    "num_songs = lyrics.num_rows\n",
    "num_train = int(num_songs * training_proportion)\n",
    "num_valid = num_songs - num_train\n",
    "\n",
    "train_lyrics = lyrics.take(np.arange(num_train))\n",
    "test_lyrics = lyrics.take(np.arange(num_train, num_songs))\n",
    "\n",
    "print(\"Training: \",   train_lyrics.num_rows, \";\",\n",
    "      \"Test: \",       test_lyrics.num_rows)"
   ]
  },
  {
   "cell_type": "markdown",
   "metadata": {
    "deletable": true,
    "editable": true
   },
   "source": [
    "#### Question 1.2.1\n",
    "Draw a horizontal bar chart with two bars that show the proportion of Country songs in each dataset.  Complete the function `country_proportion` first; it should help you create the bar chart."
   ]
  },
  {
   "cell_type": "code",
   "execution_count": 25,
   "metadata": {
    "collapsed": false,
    "deletable": true,
    "editable": true,
    "for_assignment_type": "student",
    "manual_problem_id": "music_1_2_1"
   },
   "outputs": [
    {
     "data": {
      "image/png": "[encoded data removed]",
      "text/plain": [
       "<matplotlib.figure.Figure at 0x7f2149e63c18>"
      ]
     },
     "metadata": {},
     "output_type": "display_data"
    }
   ],
   "source": [
    "def country_proportion(table):\n",
    "    \"\"\"Return the proportion of songs in a table that have the Country genre.\"\"\"\n",
    "    return table.where('Genre', are.equal_to('Country')).num_rows / table.num_rows\n",
    "\n",
    "# The staff solution took 4 lines.  Start by creating a table.\n",
    "Table().with_columns(\n",
    "'Training Country Proportion', country_proportion(train_lyrics),\n",
    "'Test Country Proportion', country_proportion(test_lyrics)).bar()"
   ]
  },
  {
   "cell_type": "markdown",
   "metadata": {
    "deletable": true,
    "editable": true
   },
   "source": [
    "### Checkpoint Reached\n",
    "\n",
    "You have reached the project checkpoint. Please submit now in order to record your progress. If you go back and revise your answers in the section above after the checkpoint is due, that's ok. Your revised answers will be graded. However, you will only get credit for your checkpoint submission if you have passed the tests provided for every question above.\n",
    "\n",
    "If you are working with a partner, only one of you needs to submit. For both of you to receive credit, the person who submits must invite the other to be their partner on [okpy.org](http://okpy.org). Please invite your partner now and tell them to accept the invitation **before** the checkpoint deadline!"
   ]
  },
  {
   "cell_type": "code",
   "execution_count": 20,
   "metadata": {
    "collapsed": false,
    "deletable": true,
    "editable": true
   },
   "outputs": [
    {
     "data": {
      "application/javascript": [
       "IPython.notebook.save_checkpoint();"
      ],
      "text/plain": [
       "<IPython.core.display.Javascript object>"
      ]
     },
     "metadata": {},
     "output_type": "display_data"
    },
    {
     "data": {
      "application/javascript": [
       "IPython.notebook.save_notebook();"
      ],
      "text/plain": [
       "<IPython.core.display.Javascript object>"
      ]
     },
     "metadata": {},
     "output_type": "display_data"
    },
    {
     "name": "stdout",
     "output_type": "stream",
     "text": [
      "Saving notebook... Saved 'project3.ipynb'.\n",
      "Submit... 100% complete\n",
      "Submission successful for user: stiwari@berkeley.edu\n",
      "URL: https://okpy.org/cal/data8/sp17/project3/submissions/OY6nnL\n",
      "\n"
     ]
    }
   ],
   "source": [
    "_ = ok.submit()"
   ]
  },
  {
   "cell_type": "markdown",
   "metadata": {
    "deletable": true,
    "editable": true
   },
   "source": [
    "# 2. K-Nearest Neighbors - a Guided Example\n",
    "\n",
    "K-Nearest Neighbors (k-NN) is a classification algorithm.  Given some *attributes* (also called *features*) of an unseen example, it decides whether that example belongs to one or the other of two categories based on its similarity to previously seen examples. Predicting the category of an example is called *labeling*, and the predicted category is also called a *label*.\n",
    "\n",
    "An attribute (feature) we have about each song is *the proportion of times a particular word appears in the lyrics*, and the labels are two music genres: hip-hop and country.  The algorithm requires many previously seen examples for which both the attributes and labels are known: that's the `train_lyrics` table.\n",
    "\n",
    "To build understanding, we're going to visualize the algorithm instead of just describing it."
   ]
  },
  {
   "cell_type": "markdown",
   "metadata": {
    "deletable": true,
    "editable": true
   },
   "source": [
    "## 2.1. Classifying a  song\n",
    "\n",
    "In k-NN, we classify a song by finding the `k` songs in the *training set* that are most similar according to the features we choose. We call those songs with similar features the *nearest neighbors*.  The k-NN algorithm assigns the song to the most common category among its `k` nearest neighbors.\n",
    "\n",
    "Let's limit ourselves to just 2 features for now, so we can plot each song.  The features we will use are the proportions of the words \"like\" and \"love\" in the lyrics.  Taking the song \"In Your Eyes\" (in the test set), 0.0119 of its words are \"like\" and 0.0595 are \"love\". This song appears in the test set, so let's imagine that we don't yet know its genre.\n",
    "\n",
    "First, we need to make our notion of similarity more precise.  We will say that the *distance* between two songs is the straight-line distance between them when we plot their features in a scatter diagram. This distance is called the Euclidean (\"yoo-KLID-ee-un\") distance.  \n",
    "\n",
    "For example, in the song *Insane in the Brain* (in the training set), 0.0203 of all the words in the song are \"like\" and 0 are \"love\".  Its distance from *In Your Eyes* on this 2-word feature set is $\\sqrt{(0.0119 - 0.0203)^2 + (0.0595 - 0)^2} \\approx 0.06$.  (If we included more or different features, the distance could be different.)\n",
    "\n",
    "A third song, *Sangria Wine* (in the training set), is 0.0044 \"like\" and 0.0925 \"love\".\n",
    "\n",
    "The function below creates a plot to display the \"like\" and \"love\" features of a test song and some training songs. As you can see in the result, *In Your Eyes* is more similar to *Sangria Wine* than to *Insane in the Brain*."
   ]
  },
  {
   "cell_type": "code",
   "execution_count": 26,
   "metadata": {
    "collapsed": false,
    "deletable": true,
    "editable": true
   },
   "outputs": [
    {
     "data": {
      "image/png": "[encoded data removed]",
      "text/plain": [
       "<matplotlib.figure.Figure at 0x7f2155794278>"
      ]
     },
     "metadata": {},
     "output_type": "display_data"
    }
   ],
   "source": [
    "# Just run this cell.\n",
    "\n",
    "def plot_with_two_features(test_song, training_songs, x_feature, y_feature):\n",
    "    \"\"\"Plot a test song and training songs using two features.\"\"\"\n",
    "    test_row = row_for_title(test_song)\n",
    "    distances = Table().with_columns(\n",
    "            x_feature, [test_row.item(x_feature)],\n",
    "            y_feature, [test_row.item(y_feature)],\n",
    "            'Color',   ['Unknown'],\n",
    "            'Title',   [test_song]\n",
    "        )\n",
    "    for song in training_songs:\n",
    "        row = row_for_title(song)\n",
    "        distances.append([row.item(x_feature), row.item(y_feature), row.item('Genre'), song])\n",
    "    distances.scatter(x_feature, y_feature, colors='Color', labels='Title', s=200)\n",
    "    \n",
    "training = [\"Sangria Wine\", \"Insane In The Brain\"]\n",
    "plot_with_two_features(\"In Your Eyes\", training, \"like\", \"love\")"
   ]
  },
  {
   "cell_type": "markdown",
   "metadata": {
    "deletable": true,
    "editable": true
   },
   "source": [
    "#### Question 2.1.1\n",
    "Compute the distance between the two country songs, *In Your Eyes* and *Sangria Wine*, using the `like` and `love` features only.  Assign it the name `country_distance`.\n",
    "\n",
    "**Note:** If you have a row object, you can use `item` to get a value from a column by its name.  For example, if `r` is a row, then `r.item(\"Genre\")` is the value in column `\"Genre\"` in row `r`.\n",
    "\n",
    "**Note 2:** You can quickly get the row from the `lyrics` table via `row_for_title`. For example, if \"Insane In The Brain\" is the song title, then `row_for_title(\"Insane In The Brain\")` is the row object for this song."
   ]
  },
  {
   "cell_type": "code",
   "execution_count": 27,
   "metadata": {
    "collapsed": false,
    "deletable": true,
    "editable": true
   },
   "outputs": [
    {
     "data": {
      "text/plain": [
       "0.033828944324596891"
      ]
     },
     "execution_count": 27,
     "metadata": {},
     "output_type": "execute_result"
    }
   ],
   "source": [
    "in_your_eyes = row_for_title(\"In Your Eyes\")\n",
    "sangria_wine = row_for_title(\"Sangria Wine\")\n",
    "country_distance = (((in_your_eyes.item('like') - sangria_wine.item('like')) ** 2) + ((in_your_eyes.item('love') - sangria_wine.item('love')) ** 2)) ** 0.5\n",
    "country_distance"
   ]
  },
  {
   "cell_type": "code",
   "execution_count": 28,
   "metadata": {
    "collapsed": false,
    "deletable": true,
    "editable": true
   },
   "outputs": [
    {
     "name": "stdout",
     "output_type": "stream",
     "text": [
      "~~~~~~~~~~~~~~~~~~~~~~~~~~~~~~~~~~~~~~~~~~~~~~~~~~~~~~~~~~~~~~~~~~~~~\n",
      "Running tests\n",
      "\n",
      "---------------------------------------------------------------------\n",
      "Test summary\n",
      "    Passed: 1\n",
      "    Failed: 0\n",
      "[ooooooooook] 100.0% passed\n",
      "\n"
     ]
    }
   ],
   "source": [
    "_ = ok.grade(\"q2_1_1\")"
   ]
  },
  {
   "cell_type": "markdown",
   "metadata": {
    "deletable": true,
    "editable": true
   },
   "source": [
    "The `plot_with_two_features` function can show the positions of several training songs. Below, we've added one that's even closer to *In Your Eyes*."
   ]
  },
  {
   "cell_type": "code",
   "execution_count": 29,
   "metadata": {
    "collapsed": false,
    "deletable": true,
    "editable": true
   },
   "outputs": [
    {
     "data": {
      "image/png": "[encoded data removed]",
      "text/plain": [
       "<matplotlib.figure.Figure at 0x7f214949f2b0>"
      ]
     },
     "metadata": {},
     "output_type": "display_data"
    }
   ],
   "source": [
    "training = [\"Sangria Wine\", \"Lookin' for Love\", \"Insane In The Brain\"]\n",
    "plot_with_two_features(\"In Your Eyes\", training, \"like\", \"love\")"
   ]
  },
  {
   "cell_type": "markdown",
   "metadata": {
    "deletable": true,
    "editable": true
   },
   "source": [
    "#### Question 2.1.2\n",
    "Complete the function `distance_two_features` that computes the Euclidean distance between any two songs, using two features. The last two lines call your function to show that *Lookin' for Love* is closer to *In Your Eyes* than *Insane In The Brain*. "
   ]
  },
  {
   "cell_type": "code",
   "execution_count": 30,
   "metadata": {
    "collapsed": false,
    "deletable": true,
    "editable": true
   },
   "outputs": [
    {
     "name": "stdout",
     "output_type": "stream",
     "text": [
      "Lookin' for Love distance:\t 0.0178540259516\n",
      "Insane In The Brain distance:\t 0.0601087823407\n"
     ]
    }
   ],
   "source": [
    "def distance_two_features(title0, title1, x_feature, y_feature):\n",
    "    \"\"\"Compute the distance between two songs with titles title0 and title1\n",
    "    \n",
    "    Only the features named x_feature and y_feature are used when computing the distance.\n",
    "    \"\"\"\n",
    "    row0 = row_for_title(title0)\n",
    "    row1 = row_for_title(title1)\n",
    "    return ((row0.item(x_feature) - row1.item(x_feature)) ** 2 + (row0.item(y_feature) - row1.item(y_feature)) ** 2) ** 0.5\n",
    "\n",
    "for song in make_array(\"Lookin' for Love\", \"Insane In The Brain\"):\n",
    "    song_distance = distance_two_features(song, \"In Your Eyes\", \"like\", \"love\")\n",
    "    print(song, 'distance:\\t', song_distance)"
   ]
  },
  {
   "cell_type": "code",
   "execution_count": 31,
   "metadata": {
    "collapsed": false,
    "deletable": true,
    "editable": true
   },
   "outputs": [
    {
     "name": "stdout",
     "output_type": "stream",
     "text": [
      "~~~~~~~~~~~~~~~~~~~~~~~~~~~~~~~~~~~~~~~~~~~~~~~~~~~~~~~~~~~~~~~~~~~~~\n",
      "Running tests\n",
      "\n",
      "---------------------------------------------------------------------\n",
      "Test summary\n",
      "    Passed: 2\n",
      "    Failed: 0\n",
      "[ooooooooook] 100.0% passed\n",
      "\n"
     ]
    }
   ],
   "source": [
    "_ = ok.grade(\"q2_1_2\")"
   ]
  },
  {
   "cell_type": "markdown",
   "metadata": {
    "deletable": true,
    "editable": true
   },
   "source": [
    "#### Question 2.1.3\n",
    "Define the function `distance_from_in_your_eyes` so that it works as described in its documentation."
   ]
  },
  {
   "cell_type": "code",
   "execution_count": 32,
   "metadata": {
    "collapsed": false,
    "deletable": true,
    "editable": true
   },
   "outputs": [],
   "source": [
    "def distance_from_in_your_eyes(title):\n",
    "    \"\"\"The distance between the given song and \"In Your Eyes\", based on the features \"like\" and \"love\".\n",
    "    \n",
    "    This function takes a single argument:\n",
    "      title: A string, the name of a song.\n",
    "    \"\"\"\n",
    "    return distance_two_features(\"In Your Eyes\", title, \"like\", \"love\")"
   ]
  },
  {
   "cell_type": "code",
   "execution_count": 33,
   "metadata": {
    "collapsed": false,
    "deletable": true,
    "editable": true
   },
   "outputs": [
    {
     "name": "stdout",
     "output_type": "stream",
     "text": [
      "~~~~~~~~~~~~~~~~~~~~~~~~~~~~~~~~~~~~~~~~~~~~~~~~~~~~~~~~~~~~~~~~~~~~~\n",
      "Running tests\n",
      "\n",
      "---------------------------------------------------------------------\n",
      "Test summary\n",
      "    Passed: 1\n",
      "    Failed: 0\n",
      "[ooooooooook] 100.0% passed\n",
      "\n"
     ]
    }
   ],
   "source": [
    "_ = ok.grade(\"q2_1_3\")"
   ]
  },
  {
   "cell_type": "markdown",
   "metadata": {
    "deletable": true,
    "editable": true
   },
   "source": [
    "#### Question 2.1.4\n",
    "Using the features `\"like\" and \"love\"`, what are the names and genres of the 7 songs in the **training set** closest to \"In Your Eyes\"?  To answer this question, make a table named `close_songs` containing those 7 songs with columns `\"Title\"`, `\"Artist\"`, `\"Genre\"`, `\"like\"`, and `\"love\"`, as well as a column called `\"distance\"` that contains the distance from \"In Your Eyes\".  The table should be **sorted in ascending order by `distance`**."
   ]
  },
  {
   "cell_type": "code",
   "execution_count": 34,
   "metadata": {
    "collapsed": false,
    "deletable": true,
    "editable": true,
    "for_assignment_type": "student"
   },
   "outputs": [
    {
     "data": {
      "text/html": [
       "<table border=\"1\" class=\"dataframe\">\n",
       "    <thead>\n",
       "        <tr>\n",
       "            <th>Title</th> <th>Artist</th> <th>Genre</th> <th>like</th> <th>love</th> <th>distance</th>\n",
       "        </tr>\n",
       "    </thead>\n",
       "    <tbody>\n",
       "        <tr>\n",
       "            <td>If This Isn't Love          </td> <td>Jennifer Hudson          </td> <td>Hip-hop</td> <td>0.00886918</td> <td>0.0532151</td> <td>0.00700106</td>\n",
       "        </tr>\n",
       "    </tbody>\n",
       "        <tr>\n",
       "            <td>Big Red Rocket Of Love      </td> <td>Reverend Horton Heat     </td> <td>Hip-hop</td> <td>0         </td> <td>0.0576923</td> <td>0.0120448 </td>\n",
       "        </tr>\n",
       "    </tbody>\n",
       "        <tr>\n",
       "            <td>In the Middle of a Heartache</td> <td>Wanda Jackson            </td> <td>Country</td> <td>0         </td> <td>0.0639535</td> <td>0.0127022 </td>\n",
       "        </tr>\n",
       "    </tbody>\n",
       "        <tr>\n",
       "            <td>The Hardest Part            </td> <td>Allison Moorer           </td> <td>Country</td> <td>0         </td> <td>0.0642857</td> <td>0.0128218 </td>\n",
       "        </tr>\n",
       "    </tbody>\n",
       "        <tr>\n",
       "            <td>One Time                    </td> <td>Justin Bieber            </td> <td>Hip-hop</td> <td>0         </td> <td>0.0530303</td> <td>0.0135606 </td>\n",
       "        </tr>\n",
       "    </tbody>\n",
       "        <tr>\n",
       "            <td>This Tornado Loves You      </td> <td>Neko Case                </td> <td>Country</td> <td>0         </td> <td>0.0528455</td> <td>0.01365   </td>\n",
       "        </tr>\n",
       "    </tbody>\n",
       "        <tr>\n",
       "            <td>You Can Have Her            </td> <td>Jim Ed Brown & The Browns</td> <td>Country</td> <td>0         </td> <td>0.0521327</td> <td>0.0140126 </td>\n",
       "        </tr>\n",
       "    </tbody>\n",
       "</table>"
      ],
      "text/plain": [
       "Title                        | Artist                    | Genre   | like       | love      | distance\n",
       "If This Isn't Love           | Jennifer Hudson           | Hip-hop | 0.00886918 | 0.0532151 | 0.00700106\n",
       "Big Red Rocket Of Love       | Reverend Horton Heat      | Hip-hop | 0          | 0.0576923 | 0.0120448\n",
       "In the Middle of a Heartache | Wanda Jackson             | Country | 0          | 0.0639535 | 0.0127022\n",
       "The Hardest Part             | Allison Moorer            | Country | 0          | 0.0642857 | 0.0128218\n",
       "One Time                     | Justin Bieber             | Hip-hop | 0          | 0.0530303 | 0.0135606\n",
       "This Tornado Loves You       | Neko Case                 | Country | 0          | 0.0528455 | 0.01365\n",
       "You Can Have Her             | Jim Ed Brown & The Browns | Country | 0          | 0.0521327 | 0.0140126"
      ]
     },
     "execution_count": 34,
     "metadata": {},
     "output_type": "execute_result"
    }
   ],
   "source": [
    "# The staff solution took 4 lines.\n",
    "distance = make_array()\n",
    "for i in train_lyrics.column(\"Title\"):\n",
    "    song_dist = distance_from_in_your_eyes(i)\n",
    "    distance = np.append(distance, song_dist)\n",
    "close_songs = train_lyrics.with_column('distance', distance).select(\"Title\", \"Artist\", \"Genre\", \"like\", \"love\", \"distance\").where(\"Title\", are.not_equal_to(\"In Your Eyes\")).sort('distance').take(np.arange(7))\n",
    "close_songs"
   ]
  },
  {
   "cell_type": "code",
   "execution_count": 35,
   "metadata": {
    "collapsed": false,
    "deletable": true,
    "editable": true
   },
   "outputs": [
    {
     "name": "stdout",
     "output_type": "stream",
     "text": [
      "~~~~~~~~~~~~~~~~~~~~~~~~~~~~~~~~~~~~~~~~~~~~~~~~~~~~~~~~~~~~~~~~~~~~~\n",
      "Running tests\n",
      "\n",
      "---------------------------------------------------------------------\n",
      "Test summary\n",
      "    Passed: 1\n",
      "    Failed: 0\n",
      "[ooooooooook] 100.0% passed\n",
      "\n"
     ]
    }
   ],
   "source": [
    "_ = ok.grade(\"q2_1_4\")"
   ]
  },
  {
   "cell_type": "markdown",
   "metadata": {
    "deletable": true,
    "editable": true
   },
   "source": [
    "#### Question 2.1.5\n",
    "Define the function `most_common` so that it works as described in its documentation below."
   ]
  },
  {
   "cell_type": "code",
   "execution_count": 36,
   "metadata": {
    "collapsed": false,
    "deletable": true,
    "editable": true
   },
   "outputs": [
    {
     "data": {
      "text/plain": [
       "'Country'"
      ]
     },
     "execution_count": 36,
     "metadata": {},
     "output_type": "execute_result"
    }
   ],
   "source": [
    "def most_common(label, table):\n",
    "    \"\"\"The most common element in a column of a table.\n",
    "    \n",
    "    This function takes two arguments:\n",
    "      label: The label of a column, a string.\n",
    "      table: A table.\n",
    "     \n",
    "    It returns the most common value in that column of that table.\n",
    "    In case of a tie, it returns any one of the most common values\n",
    "    \"\"\"\n",
    "    counts = make_array()\n",
    "    for i in table.column(label):\n",
    "        count = np.count_nonzero(table.column(label) == i)\n",
    "        counts = np.append(counts, count)\n",
    "    with_counts = table.with_column(\"Counts\", counts).sort(\"Counts\", descending=True).column(label).item(0)\n",
    "    return with_counts\n",
    "\n",
    "# Calling most_common on your table of 7 nearest neighbors classifies\n",
    "# \"In Your Eyes\" as a country song, 4 votes to 3.\n",
    "most_common('Genre', close_songs)"
   ]
  },
  {
   "cell_type": "code",
   "execution_count": 37,
   "metadata": {
    "collapsed": false,
    "deletable": true,
    "editable": true
   },
   "outputs": [
    {
     "name": "stdout",
     "output_type": "stream",
     "text": [
      "~~~~~~~~~~~~~~~~~~~~~~~~~~~~~~~~~~~~~~~~~~~~~~~~~~~~~~~~~~~~~~~~~~~~~\n",
      "Running tests\n",
      "\n",
      "---------------------------------------------------------------------\n",
      "Test summary\n",
      "    Passed: 1\n",
      "    Failed: 0\n",
      "[ooooooooook] 100.0% passed\n",
      "\n"
     ]
    }
   ],
   "source": [
    "_ = ok.grade(\"q2_1_5\")"
   ]
  },
  {
   "cell_type": "markdown",
   "metadata": {
    "deletable": true,
    "editable": true
   },
   "source": [
    "Congratulations are in order -- you've classified your first song!"
   ]
  },
  {
   "cell_type": "markdown",
   "metadata": {
    "deletable": true,
    "editable": true
   },
   "source": [
    "# 3. Features"
   ]
  },
  {
   "cell_type": "markdown",
   "metadata": {
    "deletable": true,
    "editable": true
   },
   "source": [
    "Now, we're going to extend our classifier to consider more than two features at a time.\n",
    "\n",
    "Euclidean distance still makes sense with more than two features. For `n` different features, we compute the difference between corresponding feature values for two songs, square each of the `n`  differences, sum up the resulting numbers, and take the square root of the sum."
   ]
  },
  {
   "cell_type": "markdown",
   "metadata": {
    "deletable": true,
    "editable": true
   },
   "source": [
    "#### Question 3.1\n",
    "Write a function to compute the Euclidean distance between two *arrays* of features of *arbitrary* (but equal) length.  Use it to compute the distance between the first song in the training set and the first song in the test set, *using all of the features*.  (Remember that the title, artist, and genre of the songs are not features.)"
   ]
  },
  {
   "cell_type": "code",
   "execution_count": 38,
   "metadata": {
    "collapsed": false,
    "deletable": true,
    "editable": true
   },
   "outputs": [
    {
     "data": {
      "text/plain": [
       "0.14822770081404466"
      ]
     },
     "execution_count": 38,
     "metadata": {},
     "output_type": "execute_result"
    }
   ],
   "source": [
    "def distance(features1, features2):\n",
    "    \"\"\"The Euclidean distance between two arrays of feature values.\"\"\"\n",
    "    return (sum((features1 - features2) ** 2)) ** 0.5\n",
    "\n",
    "distance_first_to_first = distance(np.array(train_lyrics.drop(\"Title\", \"Genre\", \"Artist\").row(0)), np.array(test_lyrics.drop(\"Title\", \"Genre\", \"Artist\").row(0)))\n",
    "distance_first_to_first"
   ]
  },
  {
   "cell_type": "code",
   "execution_count": 39,
   "metadata": {
    "collapsed": false,
    "deletable": true,
    "editable": true
   },
   "outputs": [
    {
     "name": "stdout",
     "output_type": "stream",
     "text": [
      "~~~~~~~~~~~~~~~~~~~~~~~~~~~~~~~~~~~~~~~~~~~~~~~~~~~~~~~~~~~~~~~~~~~~~\n",
      "Running tests\n",
      "\n",
      "---------------------------------------------------------------------\n",
      "Test summary\n",
      "    Passed: 1\n",
      "    Failed: 0\n",
      "[ooooooooook] 100.0% passed\n",
      "\n"
     ]
    }
   ],
   "source": [
    "_ = ok.grade(\"q3_1\")"
   ]
  },
  {
   "cell_type": "markdown",
   "metadata": {
    "deletable": true,
    "editable": true
   },
   "source": [
    "## 3.1. Creating your own feature set\n",
    "\n",
    "Unfortunately, using all of the features has some downsides.  One clear downside is *computational* -- computing Euclidean distances just takes a long time when we have lots of features.  You might have noticed that in the last question!\n",
    "\n",
    "So we're going to select just 20.  We'd like to choose features that are very *discriminative*. That is, features which lead us to correctly classify as much of the test set as possible.  This process of choosing features that will make a classifier work well is sometimes called *feature selection*, or more broadly *feature engineering*."
   ]
  },
  {
   "cell_type": "markdown",
   "metadata": {
    "deletable": true,
    "editable": true
   },
   "source": [
    "#### Question 3.1.1\n",
    "Look through the list of features (the labels of the `lyrics` table after the first three).  Choose 20 common words that you think might let you distinguish between country and hip-hop songs. Make sure to choose words that are frequent enough that every song contains at least one of them. Don't just choose the 20 most frequent, though... you can do much better.\n",
    "\n",
    "You might want to come back to this question later to improve your list, once you've seen how to evaluate your classifier.  The first time you answer this question, spend some time looking through the features, but not more than 15 minutes."
   ]
  },
  {
   "cell_type": "code",
   "execution_count": 40,
   "metadata": {
    "collapsed": false,
    "deletable": true,
    "editable": true
   },
   "outputs": [],
   "source": [
    "# Set my_20_features to an array of 20 features (strings that are column labels)\n",
    "# my_20_features = make_array(\"like\", \"love\", \"in\", \"am\", \"your\", \"are\", \"no\", \"be\", \"with\", \"what\", \"want\", \"out\", \"got\", \"he\", \"who\", \"from\", \"off\", \"watch\", \"never\", \"let\")\n",
    "my_20_features = make_array(\"in\", \"your\", \"be\", \"with\", \"what\", \"like\", \"out\", \"get\", \"got\", \"never\", \"from\", \"he\", \"let\", \"would\", \"back\", \"here\", \"thing\", \"right\", \"who\", \"two\")\n",
    "train_20 = train_lyrics.select(my_20_features)\n",
    "test_20 = test_lyrics.select(my_20_features)\n",
    "# lyrics.take(np.arange(10))"
   ]
  },
  {
   "cell_type": "code",
   "execution_count": 41,
   "metadata": {
    "collapsed": false
   },
   "outputs": [
    {
     "data": {
      "text/html": [
       "<table border=\"1\" class=\"dataframe\">\n",
       "    <thead>\n",
       "        <tr>\n",
       "            <th>Title</th> <th>Artist</th> <th>Genre</th> <th>i</th> <th>the</th> <th>you</th> <th>to</th> <th>and</th> <th>a</th> <th>me</th> <th>it</th> <th>not</th> <th>in</th> <th>my</th> <th>is</th> <th>of</th> <th>your</th> <th>that</th> <th>do</th> <th>on</th> <th>are</th> <th>we</th> <th>am</th> <th>will</th> <th>all</th> <th>for</th> <th>no</th> <th>be</th> <th>have</th> <th>love</th> <th>so</th> <th>know</th> <th>this</th> <th>but</th> <th>with</th> <th>what</th> <th>just</th> <th>when</th> <th>like</th> <th>now</th> <th>que</th> <th>time</th> <th>can</th> <th>come</th> <th>de</th> <th>there</th> <th>go</th> <th>up</th> <th>oh</th> <th>la</th> <th>one</th> <th>they</th> <th>out</th> <th>down</th> <th>get</th> <th>she</th> <th>was</th> <th>see</th> <th>if</th> <th>got</th> <th>never</th> <th>from</th> <th>he</th> <th>feel</th> <th>want</th> <th>let</th> <th>make</th> <th>way</th> <th>say</th> <th>take</th> <th>would</th> <th>as</th> <th>ca</th> <th>day</th> <th>at</th> <th>babi</th> <th>away</th> <th>life</th> <th>yeah</th> <th>y</th> <th>back</th> <th>by</th> <th>her</th> <th>heart</th> <th>here</th> <th>how</th> <th>could</th> <th>night</th> <th>need</th> <th>our</th> <th>look</th> <th>where</th> <th>en</th> <th>eye</th> <th>thing</th> <th>world</th> <th>more</th> <th>caus</th> <th>gonna</th> <th>die</th> <th>right</th> <th>been</th> <th>tell</th> <th>think</th> <th>un</th> <th>who</th> <th>el</th> <th>through</th> <th>man</th> <th>live</th> <th>again</th> <th>give</th> <th>too</th> <th>onli</th> <th>te</th> <th>tri</th> <th>tu</th> <th>or</th> <th>whi</th> <th>se</th> <th>keep</th> <th>dream</th> <th>well</th> <th>mind</th> <th>an</th> <th>wo</th> <th>still</th> <th>us</th> <th>his</th> <th>long</th> <th>mi</th> <th>girl</th> <th>wanna</th> <th>find</th> <th>fall</th> <th>around</th> <th>good</th> <th>about</th> <th>some</th> <th>over</th> <th>littl</th> <th>turn</th> <th>hand</th> <th>then</th> <th>noth</th> <th>light</th> <th>said</th> <th>call</th> <th>everi</th> <th>alway</th> <th>were</th> <th>did</th> <th>into</th> <th>e</th> <th>wait</th> <th>leav</th> <th>home</th> <th>had</th> <th>hold</th> <th>run</th> <th>es</th> <th>walk</th> <th>ever</th> <th>them</th> <th>lie</th> <th>face</th> <th>end</th> <th>hear</th> <th>gone</th> <th>head</th> <th>believ</th> <th>everyth</th> <th>ya</th> <th>has</th> <th>cri</th> <th>alon</th> <th>yo</th> <th>hey</th> <th>their</th> <th>le</th> <th>someth</th> <th>si</th> <th>insid</th> <th>du</th> <th>befor</th> <th>o</th> <th>word</th> <th>stay</th> <th>place</th> <th>much</th> <th>chang</th> <th>ich</th> <th>god</th> <th>stand</th> <th>these</th> <th>better</th> <th>last</th> <th>friend</th> <th>soul</th> <th>anoth</th> <th>je</th> <th>left</th> <th>new</th> <th>him</th> <th>than</th> <th>stop</th> <th>tonight</th> <th>burn</th> <th>sun</th> <th>off</th> <th>por</th> <th>lo</th> <th>play</th> <th>thought</th> <th>sing</th> <th>show</th> <th>lost</th> <th>peopl</th> <th>made</th> <th>break</th> <th>und</th> <th>start</th> <th>should</th> <th>realli</th> <th>chorus</th> <th>hard</th> <th>sky</th> <th>old</th> <th>da</th> <th>even</th> <th>boy</th> <th>pleas</th> <th>song</th> <th>care</th> <th>without</th> <th>hope</th> <th>watch</th> <th>pain</th> <th>amor</th> <th>move</th> <th>wrong</th> <th>put</th> <th>free</th> <th>gotta</th> <th>name</th> <th>et</th> <th>same</th> <th>blue</th> <th>con</th> <th>danc</th> <th>talk</th> <th>seem</th> <th>own</th> <th>mine</th> <th>dark</th> <th>na</th> <th>far</th> <th>tear</th> <th>true</th> <th>fire</th> <th>use</th> <th>dead</th> <th>bring</th> <th>other</th> <th>sin</th> <th>someon</th> <th>myself</th> <th>forev</th> <th>close</th> <th>sleep</th> <th>rain</th> <th>those</th> <th>must</th> <th>una</th> <th>les</th> <th>sweet</th> <th>mean</th> <th>fight</th> <th>rememb</th> <th>star</th> <th>while</th> <th>kiss</th> <th>kill</th> <th>high</th> <th>breath</th> <th>doe</th> <th>yes</th> <th>al</th> <th>wish</th> <th>che</th> <th>real</th> <th>smile</th> <th>two</th> <th>cold</th> <th>lord</th> <th>year</th> <th>open</th> <th>il</th> <th>fear</th> <th>di</th> <th>done</th> <th>side</th> <th>fli</th> <th>black</th> <th>line</th> <th>rock</th> <th>blood</th> <th>lose</th> <th>found</th> <th>onc</th> <th>non</th> <th>door</th> <th>bad</th> <th>ooh</th> <th>wonder</th> <th>ti</th> <th>como</th> <th>enough</th> <th>para</th> <th>sound</th> <th>togeth</th> <th>mayb</th> <th>los</th> <th>help</th> <th>shine</th> <th>mani</th> <th>heaven</th> <th>becaus</th> <th>work</th> <th>touch</th> <th>behind</th> <th>yourself</th> <th>today</th> <th>big</th> <th>might</th> <th>death</th> <th>hate</th> <th>miss</th> <th>ride</th> <th>street</th> <th>came</th> <th>ask</th> <th>hide</th> <th>everybodi</th> <th>save</th> <th>till</th> <th>may</th> <th>beauti</th> <th>roll</th> <th>sure</th> <th>deep</th> <th>arm</th> <th>son</th> <th>wind</th> <th>bodi</th> <th>forget</th> <th>happi</th> <th>understand</th> <th>ai</th> <th>best</th> <th>ma</th> <th>town</th> <th>war</th> <th>ah</th> <th>listen</th> <th>seen</th> <th>der</th> <th>sometim</th> <th>lone</th> <th>hell</th> <th>morn</th> <th>until</th> <th>set</th> <th>hurt</th> <th>told</th> <th>first</th> <th>knew</th> <th>goe</th> <th>round</th> <th>em</th> <th>alright</th> <th>music</th> <th>sea</th> <th>truth</th> <th>qui</th> <th>beat</th> <th>nicht</th> <th>eu</th> <th>las</th> <th>todo</th> <th>pass</th> <th>under</th> <th>del</th> <th>late</th> <th>after</th> <th>ani</th> <th>ground</th> <th>fool</th> <th>pas</th> <th>broken</th> <th>goodby</th> <th>das</th> <th>des</th> <th>kind</th> <th>wall</th> <th>angel</th> <th>est</th> <th>road</th> <th>reason</th> <th>dan</th> <th>money</th> <th>chanc</th> <th>quiero</th> <th>mai</th> <th>part</th> <th>matter</th> <th>learn</th> <th>els</th> <th>rise</th> <th>pour</th> <th>saw</th> <th>grow</th> <th>ha</th> <th>sit</th> <th>land</th> <th>fade</th> <th>air</th> <th>took</th> <th>nobodi</th> <th>ne</th> <th>fill</th> <th>easi</th> <th>game</th> <th>follow</th> <th>wake</th> <th>anyth</th> <th>aliv</th> <th>solo</th> <th>water</th> <th>heard</th> <th>though</th> <th>white</th> <th>vida</th> <th>ist</th> <th>voic</th> <th>woman</th> <th>blind</th> <th>each</th> <th>citi</th> <th>young</th> <th>lay</th> <th>moon</th> <th>reach</th> <th>readi</th> <th>fine</th> <th>soon</th> <th>along</th> <th>à</th> <th>crazi</th> <th>past</th> <th>red</th> <th>room</th> <th>such</th> <th>ein</th> <th>step</th> <th>scream</th> <th>tomorrow</th> <th>control</th> <th>memori</th> <th>strong</th> <th>hit</th> <th>everyon</th> <th>wast</th> <th>não</th> <th>men</th> <th>earth</th> <th>s</th> <th>upon</th> <th>final</th> <th>shake</th> <th>im</th> <th>abov</th> <th>ja</th> <th>moment</th> <th>rest</th> <th>guess</th> <th>hous</th> <th>born</th> <th>somebodi</th> <th>feet</th> <th>mas</th> <th>sad</th> <th>laugh</th> <th>esta</th> <th>happen</th> <th>went</th> <th>cest</th> <th>blow</th> <th>noch</th> <th>meet</th> <th>whole</th> <th>lover</th> <th>drive</th> <th>car</th> <th>lead</th> <th>su</th> <th>veri</th> <th>ni</th> <th>promis</th> <th>bed</th> <th>apart</th> <th>um</th> <th>empti</th> <th>shadow</th> <th>full</th> <th>begin</th> <th>pull</th> <th>child</th> <th>pretti</th> <th>drink</th> <th>pray</th> <th>king</th> <th>cut</th> <th>t</th> <th>power</th> <th>gave</th> <th>hay</th> <th>peac</th> <th>hang</th> <th>next</th> <th>ser</th> <th>mother</th> <th>é</th> <th>cuando</th> <th>between</th> <th>pay</th> <th>carri</th> <th>tire</th> <th>speak</th> <th>lot</th> <th>tree</th> <th>den</th> <th>skin</th> <th>tout</th> <th>til</th> <th>slow</th> <th>sinc</th> <th>anymor</th> <th>kid</th> <th>clear</th> <th>mich</th> <th>jesus</th> <th>differ</th> <th>fast</th> <th>becom</th> <th>va</th> <th>gun</th> <th>nos</th> <th>zu</th> <th>más</th> <th>river</th> <th>faith</th> <th>floor</th> <th>cross</th> <th>ladi</th> <th>near</th> <th>fun</th> <th>ring</th> <th>answer</th> <th>pero</th> <th>afraid</th> <th>jag</th> <th>repeat</th> <th>great</th> <th>stori</th> <th>yet</th> <th>cannot</th> <th>hot</th> <th>wir</th> <th>nada</th> <th>hour</th> <th>summer</th> <th>stone</th> <th>bleed</th> <th>sign</th> <th>mir</th> <th>lyric</th> <th>children</th> <th>trust</th> <th>wild</th> <th>felt</th> <th>troubl</th> <th>honey</th> <th>sick</th> <th>perfect</th> <th>human</th> <th>bright</th> <th>bien</th> <th>mama</th> <th>dich</th> <th>parti</th> <th>train</th> <th>plan</th> <th>porqu</th> <th>sorri</th> <th>plus</th> <th>hair</th> <th>secret</th> <th>silenc</th> <th>tast</th> <th>brother</th> <th>throw</th> <th>within</th> <th>per</th> <th>push</th> <th>m</th> <th>somewher</th> <th>three</th> <th>cloud</th> <th>shall</th> <th>vez</th> <th>low</th> <th>window</th> <th>knee</th> <th>lip</th> <th>futur</th> <th>dear</th> <th>search</th> <th>2</th> <th>sie</th> <th>drop</th> <th>det</th> <th>cool</th> <th>flame</th> <th>outsid</th> <th>worri</th> <th>bout</th> <th>goin</th> <th>met</th> <th>stare</th> <th>sight</th> <th>most</th> <th>mon</th> <th>voy</th> <th>across</th> <th>wear</th> <th>wave</th> <th>tus</th> <th>pick</th> <th>er</th> <th>send</th> <th>siempr</th> <th>wie</th> <th>bone</th> <th>flow</th> <th>piec</th> <th>soy</th> <th>uh</th> <th>thank</th> <th>mis</th> <th>straight</th> <th>blame</th> <th>catch</th> <th>au</th> <th>ce</th> <th>tight</th> <th>&</th> <th>mile</th> <th>holi</th> <th>darl</th> <th>auf</th> <th>mouth</th> <th>christma</th> <th>which</th> <th>moi</th> <th>against</th> <th>mad</th> <th>both</th> <th>share</th> <th>caught</th> <th>father</th> <th>read</th> <th>warm</th> <th>wing</th> <th>nunca</th> <th>belong</th> <th>damn</th> <th>eat</th> <th>win</th> <th>sens</th> <th>comm</th> <th>u</th> <th>fell</th> <th>evil</th> <th>dem</th> <th>ho</th> <th>pictur</th> <th>second</th> <th>nowher</th> <th>dog</th> <th>rule</th> <th>une</th> <th>mal</th> <th>mountain</th> <th>joy</th> <th>mit</th> <th>top</th> <th>tan</th> <th>som</th> <th>bit</th> <th>cover</th> <th>point</th> <th>thousand</th> <th>hoy</th> <th>n</th> <th>gold</th> <th>bell</th> <th>è</th> <th>devil</th> <th>bird</th> <th>sur</th> <th>quit</th> <th>brain</th> <th>return</th> <th>build</th> <th>kick</th> <th>rose</th> <th>babe</th> <th>guy</th> <th>whoa</th> <th>shame</th> <th>mein</th> <th>space</th> <th>whisper</th> <th>tiempo</th> <th>cos</th> <th>write</th> <th>dir</th> <th>tengo</th> <th>count</th> <th>slip</th> <th>ver</th> <th>desir</th> <th>sei</th> <th>nice</th> <th>weak</th> <th>rais</th> <th>jai</th> <th>ocean</th> <th>number</th> <th>drown</th> <th>spirit</th> <th>scare</th> <th>strang</th> <th>ik</th> <th>half</th> <th>known</th> <th>pretend</th> <th>worth</th> <th>someday</th> <th>act</th> <th>beyond</th> <th>fair</th> <th>million</th> <th>finger</th> <th>question</th> <th>doubt</th> <th>meant</th> <th>smoke</th> <th>comin</th> <th>flesh</th> <th>dawn</th> <th>daddi</th> <th>storm</th> <th>hole</th> <th>color</th> <th>jump</th> <th>remain</th> <th>mundo</th> <th>etern</th> <th>nothin</th> <th>buy</th> <th>nur</th> <th>anyon</th> <th>dress</th> <th>1</th> <th>minut</th> <th>dont</th> <th>pra</th> <th>snow</th> <th>d</th> <th>dig</th> <th>estoy</th> <th>forc</th> <th>spend</th> <th>shot</th> <th>everyday</th> <th>puedo</th> <th>tú</th> <th>chain</th> <th>dri</th> <th>grace</th> <th>green</th> <th>glori</th> <th>doch</th> <th>everywher</th> <th>freedom</th> <th>realiz</th> <th>lock</th> <th>pride</th> <th>whatev</th> <th>feed</th> <th>mistak</th> <th>vers</th> <th>fate</th> <th>meu</th> <th>escap</th> <th>wash</th> <th>mess</th> <th>você</th> <th>sand</th> <th>front</th> <th>forgiv</th> <th>vi</th> <th>winter</th> <th>tanto</th> <th>magic</th> <th>flower</th> <th>pa</th> <th>closer</th> <th>safe</th> <th>wenn</th> <th>sol</th> <th>bless</th> <th>suffer</th> <th>longer</th> <th>dein</th> <th>hello</th> <th>san</th> <th>grave</th> <th>alreadi</th> <th>yesterday</th> <th>wide</th> <th>radio</th> <th>sorrow</th> <th>ten</th> <th>tien</th> <th>phone</th> <th>crawl</th> <th>surviv</th> <th>ay</th> <th>tie</th> <th>exist</th> <th>anyway</th> <th>io</th> <th>spin</th> <th>insan</th> <th>nous</th> <th>slowli</th> <th>dond</th> <th>ear</th> <th>crowd</th> <th>clean</th> <th>natur</th> <th>knock</th> <th>four</th> <th>poor</th> <th>loud</th> <th>shoe</th> <th>bar</th> <th>está</th> <th>lovin</th> <th>higher</th> <th>race</th> <th>silent</th> <th>lift</th> <th>destroy</th> <th>cuz</th> <th>soft</th> <th>paint</th> <th>mar</th> <th>dirti</th> <th>check</th> <th>ta</th> <th>held</th> <th>vie</th> <th>shout</th> <th>sail</th> <th>twist</th> <th>guitar</th> <th>simpl</th> <th>quand</th> <th>sa</th> <th>ei</th> <th>deni</th> <th>fail</th> <th>van</th> <th>famili</th> <th>vision</th> <th>toi</th> <th>lookin</th> <th>track</th> <th>broke</th> <th>dia</th> <th>state</th> <th>welcom</th> <th>ghost</th> <th>almost</th> <th>shut</th> <th>entr</th> <th>somehow</th> <th>glass</th> <th>yea</th> <th>gent</th> <th>choos</th> <th>für</th> <th>bin</th> <th>glad</th> <th>shoot</th> <th>ell</th> <th>small</th> <th>hill</th> <th>wine</th> <th>treat</th> <th>dos</th> <th>stranger</th> <th>regret</th> <th>refrain</th> <th>corazón</th> <th>machin</th> <th>problem</th> <th>feelin</th> <th>sister</th> <th>era</th> <th>steal</th> <th>endless</th> <th>vai</th> <th>awak</th> <th>key</th> <th>grand</th> <th>cada</th> <th>age</th> <th>bridg</th> <th>dust</th> <th>wit</th> <th>merci</th> <th>wheel</th> <th>ere</th> <th>crack</th> <th>taken</th> <th>prais</th> <th>heal</th> <th>queen</th> <th>mirror</th> <th>von</th> <th>corner</th> <th>ba</th> <th>ago</th> <th>buri</th> <th>book</th> <th>ahora</th> <th>climb</th> <th>quando</th> <th>okay</th> <th>cloth</th> <th>band</th> <th>school</th> <th>stick</th> <th>circl</th> <th>ou</th> <th>tv</th> <th>don</th> <th>strength</th> <th>og</th> <th>five</th> <th>countri</th> <th>beneath</th> <th>sunshin</th> <th>sabe</th> <th>alma</th> <th>ice</th> <th>ça</th> <th>bound</th> <th>less</th> <th>sell</th> <th>tongu</th> <th>path</th> <th>cielo</th> <th>travel</th> <th>hasta</th> <th>hat</th> <th>rather</th> <th>heat</th> <th>innoc</th> <th>confus</th> <th>cosa</th> <th>golden</th> <th>ohh</th> <th>mari</th> <th>singl</th> <th>ahead</th> <th>bye</th> <th>silver</th> <th>tryin</th> <th>doo</th> <th>mes</th> <th>sai</th> <th>chase</th> <th>pued</th> <th>più</th> <th>few</th> <th>sein</th> <th>scene</th> <th>smell</th> <th>funni</th> <th>enemi</th> <th>swear</th> <th>på</th> <th>ball</th> <th>beg</th> <th>sind</th> <th>x2</th> <th>prayer</th> <th>wound</th> <th>otra</th> <th>ton</th> <th>disappear</th> <th>besid</th> <th>hace</th> <th>toda</th> <th>ignor</th> <th>mr</th> <th>yall</th> <th>style</th> <th>ihr</th> <th>brought</th> <th>given</th> <th>quiet</th> <th>rage</th> <th>mano</th> <th>realiti</th> <th>sink</th> <th>3</th> <th>quier</th> <th>spread</th> <th>crime</th> <th>vain</th> <th>nadi</th> <th>fallen</th> <th>self</th> <th>decid</th> <th>ella</th> <th>c</th> <th>fue</th> <th>imagin</th> <th>hier</th> <th>stuck</th> <th>view</th> <th>vas</th> <th>kept</th> <th>demon</th> <th>sui</th> <th>busi</th> <th>ok</th> <th>record</th> <th>law</th> <th>choic</th> <th>har</th> <th>fit</th> <th>remind</th> <th>emot</th> <th>field</th> <th>crash</th> <th>suppos</th> <th>sen</th> <th>cmon</th> <th>dentro</th> <th>mehr</th> <th>danger</th> <th>sich</th> <th>letter</th> <th>midnight</th> <th>com</th> <th>kein</th> <th>nation</th> <th>edg</th> <th>surpris</th> <th>rien</th> <th>murder</th> <th>deal</th> <th>complet</th> <th>loos</th> <th>price</th> <th>instrument</th> <th>luck</th> <th>rip</th> <th>drift</th> <th>poison</th> <th>battl</th> <th>livin</th> <th>gimm</th> <th>gettin</th> <th>haunt</th> <th>sex</th> <th>proud</th> <th>re</th> <th>heavi</th> <th>guid</th> <th>nie</th> <th>drag</th> <th>middl</th> <th>bare</th> <th>dare</th> <th>bang</th> <th>ojo</th> <th>pure</th> <th>embrac</th> <th>aus</th> <th>suck</th> <th>stupid</th> <th>fake</th> <th>week</th> <th>news</th> <th>tes</th> <th>master</th> <th>float</th> <th>satisfi</th> <th>sent</th> <th>christ</th> <th>fait</th> <th>scar</th> <th>bear</th> <th>dime</th> <th>quick</th> <th>poi</th> <th>swing</th> <th>below</th> <th>prove</th> <th>figur</th> <th>diamond</th> <th>none</th> <th>instead</th> <th>pleasur</th> <th>curs</th> <th>rich</th> <th>cat</th> <th>spent</th> <th>seek</th> <th>paper</th> <th>mysteri</th> <th>passion</th> <th>brand</th> <th>siento</th> <th>bomb</th> <th>luz</th> <th>bitter</th> <th>tender</th> <th>fact</th> <th>job</th> <th>qué</th> <th>bet</th> <th>oooh</th> <th>sempr</th> <th>cast</th> <th>sono</th> <th>trip</th> <th>pack</th> <th>explain</th> <th>talkin</th> <th>lucki</th> <th>ci</th> <th>l</th> <th>eso</th> <th>special</th> <th>mark</th> <th>form</th> <th>shoulder</th> <th>warn</th> <th>creat</th> <th>seven</th> <th>ship</th> <th>bist</th> <th>miseri</th> <th>sunday</th> <th>six</th> <th>quien</th> <th>tune</th> <th>wrap</th> <th>muy</th> <th>pop</th> <th>surround</th> <th>doin</th> <th>hero</th> <th>gate</th> <th>comfort</th> <th>han</th> <th>2x</th> <th>rush</th> <th>drug</th> <th>mejor</th> <th>vivir</th> <th>least</th> <th>short</th> <th>sé</th> <th>dann</th> <th>cruel</th> <th>par</th> <th>rhyme</th> <th>written</th> <th>swallow</th> <th>wander</th> <th>reflect</th> <th>dice</th> <th>aunqu</th> <th>tide</th> <th>join</th> <th>bottl</th> <th>steel</th> <th>paradis</th> <th>mia</th> <th>día</th> <th>cant</th> <th>auch</th> <th>wife</th> <th>shore</th> <th>leg</th> <th>somethin</th> <th>draw</th> <th>slave</th> <th>march</th> <th>jour</th> <th>algo</th> <th>beso</th> <th>immer</th> <th>swim</th> <th>built</th> <th>tempo</th> <th>women</th> <th>corazon</th> <th>om</th> <th>fix</th> <th>trap</th> <th>torn</th> <th>vein</th> <th>estar</th> <th>releas</th> <th>hors</th> <th>casa</th> <th>spell</th> <th>glow</th> <th>grab</th> <th>denn</th> <th>drum</th> <th>bite</th> <th>brown</th> <th>won</th> <th>i’m</th> <th>sugar</th> <th>forgotten</th> <th>stronger</th> <th>rhythm</th> <th>victim</th> <th>messag</th> <th>later</th> <th>person</th> <th>darlin</th> <th>así</th> <th>poco</th> <th>avec</th> <th>huh</th> <th>dat</th> <th>dio</th> <th>uma</th> <th>sudden</th> <th>stood</th> <th>hundr</th> <th>kann</th> <th>runnin</th> <th>sólo</th> <th>season</th> <th>sueño</th> <th>surrend</th> <th>bore</th> <th>vou</th> <th>crush</th> <th>histori</th> <th>wont</th> <th>luna</th> <th>ourselv</th> <th>verdad</th> <th>weight</th> <th>mí</th> <th>4</th> <th>lust</th> <th>dolor</th> <th>park</th> <th>expect</th> <th>só</th> <th>speed</th> <th>shade</th> <th>calm</th> <th>bow</th> <th>bend</th> <th>mig</th> <th>strike</th> <th>thrill</th> <th>anim</th> <th>aquí</th> <th>leben</th> <th>thunder</th> <th>soldier</th> <th>vous</th> <th>hacer</th> <th>west</th> <th>destini</th> <th>spit</th> <th>ran</th> <th>twice</th> <th>drunk</th> <th>page</th> <th>med</th> <th>desert</th> <th>block</th> <th>tall</th> <th>anywher</th> <th>distanc</th> <th>mio</th> <th>spring</th> <th>gather</th> <th>g</th> <th>temp</th> <th>foi</th> <th>cuerpo</th> <th>dollar</th> <th>echo</th> <th>knife</th> <th>melt</th> <th>mujer</th> <th>anybodi</th> <th>otro</th> <th>aqui</th> <th>så</th> <th>grey</th> <th>asleep</th> <th>gentl</th> <th>sem</th> <th>direct</th> <th>load</th> <th>divin</th> <th>earli</th> <th>toward</th> <th>kun</th> <th>weather</th> <th>ash</th> <th>ve</th> <th>os</th> <th>seed</th> <th>highway</th> <th>harder</th> <th>sus</th> <th>boom</th> <th>esa</th> <th>attack</th> <th>action</th> <th>thee</th> <th>fin</th> <th>quon</th> <th>art</th> <th>pie</th> <th>club</th> <th>wird</th> <th>contigo</th> <th>kan</th> <th>rap</th> <th>case</th> <th>hab</th> <th>tous</th> <th>thinkin</th> <th>metal</th> <th>underneath</th> <th>breez</th> <th>teeth</th> <th>respect</th> <th>outta</th> <th>john</th> <th>neck</th> <th>precious</th> <th>nine</th> <th>idea</th> <th>rainbow</th> <th>thi</th> <th>lieb</th> <th>laid</th> <th>offer</th> <th>gut</th> <th>saber</th> <th>nois</th> <th>begun</th> <th>resist</th> <th>garden</th> <th>sigh</th> <th>bag</th> <th>disguis</th> <th>noon</th> <th>quem</th> <th>string</th> <th>colour</th> <th>nu</th> <th>ooo</th> <th>gift</th> <th>aint</th> <th>shape</th> <th>york</th> <th>jetzt</th> <th>schon</th> <th>teach</th> <th>don’t</th> <th>test</th> <th>lado</th> <th>arriv</th> <th>amar</th> <th>diseas</th> <th>sold</th> <th>clock</th> <th>flash</th> <th>youth</th> <th>box</th> <th>rot</th> <th>lugar</th> <th>mighti</th> <th>certain</th> <th>protect</th> <th>mond</th> <th>ruin</th> <th>romanc</th> <th>vamo</th> <th>sweat</th> <th>fantasi</th> <th>vien</th> <th>kinda</th> <th>nacht</th> <th>deserv</th> <th>piel</th> <th>jeg</th> <th>hora</th> <th>univers</th> <th>desper</th> <th>ach</th> <th>hall</th> <th>anger</th> <th>beast</th> <th>stuff</th> <th>jack</th> <th>tabl</th> <th>punk</th> <th>movi</th> <th>tudo</th> <th>feliz</th> <th>mucho</th> <th>nightmar</th> <th>doctor</th> <th>freak</th> <th>marri</th> <th>crown</th> <th>serv</th> <th>satan</th> <th>hallelujah</th> <th>amigo</th> <th>trace</th> <th>main</th> <th>nem</th> <th>makin</th> <th>prison</th> <th>moonlight</th> <th>voz</th> <th>thin</th> <th>deeper</th> <th>appear</th> <th>amaz</th> <th>bought</th> <th>weep</th> <th>walkin</th> <th>ant</th> <th>même</th> <th>chi</th> <th>voi</th> <th>hungri</th> <th>wire</th> <th>pocket</th> <th>jamai</th> <th>note</th> <th>south</th> <th>eh</th> <th>woke</th> <th>momento</th> <th>illus</th> <th>nail</th> <th>junto</th> <th>paid</th> <th>bis</th> <th>liar</th> <th>bottom</th> <th>plain</th> <th>ill</th> <th>notic</th> <th>melodi</th> <th>alla</th> <th>camino</th> <th>destruct</th> <th>daughter</th> <th>eas</th> <th>fat</th> <th>whenev</th> <th>ador</th> <th>church</th> <th>bill</th> <th>card</th> <th>cours</th> <th>nake</th> <th>sacrific</th> <th>zeit</th> <th>system</th> <th>pensar</th> <th>order</th> <th>stage</th> <th>celebr</th> <th>hip</th> <th>total</th> <th>welt</th> <th>sera</th> <th>fist</th> <th>dit</th> <th>wors</th> <th>suicid</th> <th>dove</th> <th>bullet</th> <th>senza</th> <th>johnni</th> <th>gain</th> <th>quero</th> <th>grown</th> <th>wherev</th> <th>slide</th> <th>minha</th> <th>fa</th> <th>folk</th> <th>nach</th> <th>hurri</th> <th>lang</th> <th>igual</th> <th>vill</th> <th>uno</th> <th>kingdom</th> <th>trick</th> <th>wrote</th> <th>encor</th> <th>tem</th> <th>choke</th> <th>ll</th> <th>dame</th> <th>boat</th> <th>tough</th> <th>sang</th> <th>ese</th> <th>beer</th> <th>eras</th> <th>cup</th> <th>brave</th> <th>reveal</th> <th>distant</th> <th>trist</th> <th>worst</th> <th>wieder</th> <th>grass</th> <th>frozen</th> <th>ahh</th> <th>dass</th> <th>faster</th> <th>tard</th> <th>sua</th> <th>plane</th> <th>saturday</th> <th>woah</th> <th>taught</th> <th>generat</th> <th>viel</th> <th>cryin</th> <th>it’</th> <th>movin</th> <th>store</th> <th>shatter</th> <th>stream</th> <th>wood</th> <th>ganz</th> <th>sentir</th> <th>pressur</th> <th>wa</th> <th>sont</th> <th>charm</th> <th>bloodi</th> <th>yellow</th> <th>mo</th> <th>planet</th> <th>joke</th> <th>pound</th> <th>vivo</th> <th>struggl</th> <th>petit</th> <th>dumb</th> <th>suit</th> <th>present</th> <th>revolut</th> <th>nuestro</th> <th>dirt</th> <th>gon</th> <th>hollow</th> <th>será</th> <th>vece</th> <th>vos</th> <th>wick</th> <th>reign</th> <th>miracl</th> <th>rollin</th> <th>stain</th> <th>shelter</th> <th>lifetim</th> <th>claim</th> <th>accept</th> <th>ven</th> <th>judg</th> <th>tale</th> <th>desd</th> <th>enter</th> <th>fault</th> <th>sale</th> <th>mim</th> <th>betray</th> <th>hast</th> <th>violenc</th> <th>chill</th> <th>lui</th> <th>recuerdo</th> <th>terror</th> <th>settl</th> <th>wet</th> <th>pena</th> <th>foot</th> <th>toujour</th> <th>unknown</th> <th>miedo</th> <th>lonesom</th> <th>nah</th> <th>excus</th> <th>rockin</th> <th>santa</th> <th>amo</th> <th>fever</th> <th>où</th> <th>doubl</th> <th>dire</th> <th>america</th> <th>var</th> <th>asi</th> <th>hidden</th> <th>b</th> <th>electr</th> <th>mass</th> <th>trop</th> <th>j</th> <th>já</th> <th>attent</th> <th>wise</th> <th>volver</th> <th>laughter</th> <th>fame</th> <th>groov</th> <th>mom</th> <th>mmm</th> <th>waitin</th> <th>prepar</th> <th>esto</th> <th>due</th> <th>noi</th> <th>cure</th> <th>began</th> <th>x</th> <th>lesson</th> <th>là</th> <th>hook</th> <th>fish</th> <th>east</th> <th>hoe</th> <th>cop</th> <th>sou</th> <th>seat</th> <th>whose</th> <th>forgot</th> <th>bother</th> <th>chest</th> <th>situat</th> <th>candl</th> <th>cash</th> <th>valley</th> <th>quil</th> <th>further</th> <th>unit</th> <th>mira</th> <th>aim</th> <th>journey</th> <th>cell</th> <th>ao</th> <th>gray</th> <th>vita</th> <th>everytim</th> <th>tag</th> <th>throat</th> <th>heartach</th> <th>conmigo</th> <th>tortur</th> <th>mot</th> <th>cara</th> <th>imag</th> <th>min</th> <th>nuit</th> <th>birth</th> <th>woo</th> <th>refus</th> <th>sword</th> <th>fortun</th> <th>ces</th> <th>ima</th> <th>older</th> <th>spoken</th> <th>chose</th> <th>motion</th> <th>fals</th> <th>enjoy</th> <th>fort</th> <th>tutto</th> <th>creep</th> <th>sayin</th> <th>trade</th> <th>hoo</th> <th>monkey</th> <th>food</th> <th>worship</th> <th>nel</th> <th>ancient</th> <th>confess</th> <th>coro</th> <th>sobr</th> <th>deja</th> <th>stole</th> <th>forward</th> <th>tua</th> <th>lamour</th> <th>fallin</th> <th>favorit</th> <th>faut</th> <th>toe</th> <th>toy</th> <th>nose</th> <th>favor</th> <th>american</th> <th>class</th> <th>cigarett</th> <th>maria</th> <th>intent</th> <th>pill</th> <th>poder</th> <th>spill</th> <th>cost</th> <th>shed</th> <th>po</th> <th>probabl</th> <th>among</th> <th>tanta</th> <th>dar</th> <th>clown</th> <th>consum</th> <th>saint</th> <th>fai</th> <th>connect</th> <th>chao</th> <th>mix</th> <th>dun</th> <th>goodnight</th> <th>amour</th> <th>sola</th> <th>numb</th> <th>viento</th> <th>nest</th> <th>salvat</th> <th>island</th> <th>wipe</th> <th>await</th> <th>spot</th> <th>f</th> <th>merri</th> <th>hombr</th> <th>chair</th> <th>press</th> <th>divid</th> <th>bust</th> <th>bem</th> <th>compani</th> <th>lick</th> <th>boot</th> <th>loneli</th> <th>constant</th> <th>dad</th> <th>bei</th> <th>cage</th> <th>mañana</th> <th>flight</th> <th>cè</th> <th>armi</th> <th>mood</th> <th>killer</th> <th>darkest</th> <th>drain</th> <th>underground</th> <th>polic</th> <th>querer</th> <th>fresh</th> <th>boogi</th> <th>lean</th> <th>pale</th> <th>niin</th> <th>vor</th> <th>ad</th> <th>explod</th> <th>sexi</th> <th>rape</th> <th>geht</th> <th>recal</th> <th>exact</th> <th>freez</th> <th>savior</th> <th>piti</th> <th>separ</th> <th>except</th> <th>candi</th> <th>frame</th> <th>honest</th> <th>religion</th> <th>ses</th> <th>vem</th> <th>yeux</th> <th>hunger</th> <th>station</th> <th>although</th> <th>bus</th> <th>onto</th> <th>pum</th> <th>aux</th> <th>trail</th> <th>mil</th> <th>boca</th> <th>leur</th> <th>spark</th> <th>ga</th> <th>peu</th> <th>decay</th> <th>bass</th> <th>demand</th> <th>command</th> <th>beach</th> <th>destin</th> <th>shi</th> <th>greed</th> <th>lack</th> <th>ela</th> <th>via</th> <th>weg</th> <th>vert</th> <th>fui</th> <th>5</th> <th>paso</th> <th>importa</th> <th>sat</th> <th>palabra</th> <th>monster</th> <th>stumbl</th> <th>komm</th> <th>quiera</th> <th>roam</th> <th>threw</th> <th>screen</th> <th>ancora</th> <th>thou</th> <th>harm</th> <th>gli</th> <th>date</th> <th>cheap</th> <th>north</th> <th>aw</th> <th>r</th> <th>root</th> <th>led</th> <th>rough</th> <th>loco</th> <th>energi</th> <th>ment</th> <th>despair</th> <th>gaze</th> <th>guilti</th> <th>hatr</th> <th>queda</th> <th>joe</th> <th>asid</th> <th>addict</th> <th>seal</th> <th>super</th> <th>iron</th> <th>wisdom</th> <th>scratch</th> <th>papa</th> <th>smash</th> <th>throne</th> <th>deceiv</th> <th>forth</th> <th>coffe</th> <th>ir</th> <th>ves</th> <th>weari</th> <th>posit</th> <th>jah</th> <th>ugli</th> <th>shop</th> <th>hood</th> <th>shell</th> <th>horizon</th> <th>w</th> <th>falta</th> <th>becam</th> <th>blade</th> <th>playin</th> <th>grew</th> <th>often</th> <th>ye</th> <th>gal</th> <th>victori</th> <th>receiv</th> <th>takin</th> <th>lightn</th> <th>allow</th> <th>mornin</th> <th>hammer</th> <th>lejo</th> <th>telephon</th> <th>cett</th> <th>admit</th> <th>rat</th> <th>nuevo</th> <th>flag</th> <th>truli</th> <th>doom</th> <th>dis</th> <th>loss</th> <th>sacr</th> <th>limit</th> <th>pasa</th> <th>bigger</th> <th>afternoon</th> <th>fed</th> <th>engin</th> <th>veux</th> <th>–</th> <th>foolish</th> <th>jean</th> <th>shock</th> <th>breed</th> <th>greatest</th> <th>mental</th> <th>soledad</th> <th>mismo</th> <th>tal</th> <th>angri</th> <th>ayer</th> <th>finish</th> <th>row</th> <th>vuelv</th> <th>convers</th> <th>plastic</th> <th>grip</th> <th>creation</th> <th>snake</th> <th>regard</th> <th>tick</th> <th>fan</th> <th>lit</th> <th>holiday</th> <th>somo</th> <th>sue</th> <th>steadi</th> <th>tierra</th> <th>coat</th> <th>funki</th> <th>cheat</th> <th>sort</th> <th>drip</th> <th>teu</th> <th>zum</th> <th>abus</th> <th>possess</th> <th>undon</th> <th>llorar</th> <th>vocal</th> <th>dj</th> <th>hunt</th> <th>month</th> <th>possibl</th> <th>design</th> <th>depend</th> <th>sole</th> <th>daylight</th> <th>decis</th> <th>sous</th> <th>morir</th> <th>assim</th> <th>treasur</th> <th>california</th> <th>mare</th> <th>olvidar</th> <th>strip</th> <th>hum</th> <th>calor</th> <th>trembl</th> <th>weiß</th> <th>durch</th> <th>invit</th> <th>rope</th> <th>flood</th> <th>ticket</th> <th>ohn</th> <th>crew</th> <th>spoke</th> <th>sheet</th> <th>fuego</th> <th>cantar</th> <th>wreck</th> <th>cowboy</th> <th>allein</th> <th>needl</th> <th>decir</th> <th>common</th> <th>lung</th> <th>monday</th> <th>friday</th> <th>girlfriend</th> <th>piano</th> <th>mission</th> <th>veo</th> <th>destino</th> <th>perder</th> <th>rescu</th> <th>lazi</th> <th>coupl</th> <th>hi</th> <th>coeur</th> <th>p</th> <th>eight</th> <th>hai</th> <th>andar</th> <th>split</th> <th>mortal</th> <th>guard</th> <th>seul</th> <th>societi</th> <th>hotel</th> <th>easili</th> <th>anch</th> <th>fashion</th> <th>heel</th> <th>creatur</th> <th>sittin</th> <th>defeat</th> <th>ben</th> <th>excit</th> <th>pari</th> <th>hung</th> <th>lake</th> <th>tower</th> <th>dive</th> <th>estrella</th> <th>silencio</th> <th>curtain</th> <th>gas</th> <th>restless</th> <th>canto</th> <th>ond</th> <th>dum</th> <th>grant</th> <th>unless</th> <th>cheek</th> <th>type</th> <th>crumbl</th> <th>hail</th> <th>chosen</th> <th>sunni</th> <th>handl</th> <th>lá</th> <th>lion</th> <th>burnin</th> <th>disco</th> <th>bank</th> <th>match</th> <th>deux</th> <th>twenti</th> <th>replac</th> <th>heut</th> <th>you’r</th> <th>score</th> <th>mentira</th> <th>bon</th> <th>continu</th> <th>stretch</th> <th>inspir</th> <th>ol</th> <th>din</th> <th>forest</th> <th>callin</th> <th>questa</th> <th>coast</th> <th>mort</th> <th>questo</th> <th>belief</th> <th>tuo</th> <th>sunlight</th> <th>plant</th> <th>sever</th> <th>whip</th> <th>ray</th> <th>oder</th> <th>descend</th> <th>così</th> <th>simpli</th> <th>singin</th> <th>mirada</th> <th>mankind</th> <th>violent</th> <th>lane</th> <th>void</th> <th>hop</th> <th>weil</th> <th>mondo</th> <th>sunset</th> <th>thru</th> <th>silli</th> <th>corps</th> <th>lass</th> <th>behold</th> <th>normal</th> <th>agre</th> <th>abandon</th> <th>weapon</th> <th>wed</th> <th>bella</th> <th>reveng</th> <th>tini</th> <th>justic</th> <th>weekend</th> <th>meno</th> <th>mic</th> <th>nor</th> <th>bloom</th> <th>sam</th> <th>affair</th> <th>leader</th> <th>aber</th> <th>aah</th> <th>nerv</th> <th>10</th> <th>ohhh</th> <th>hush</th> <th>historia</th> <th>op</th> <th>caress</th> <th>either</th> <th>discov</th> <th>leavin</th> <th>helpless</th> <th>ghetto</th> <th>bread</th> <th>dancin</th> <th>x4</th> <th>tant</th> <th>hmm</th> <th>momma</th> <th>x3</th> <th>gibt</th> <th>tão</th> <th>vive</th> <th>pace</th> <th>gusta</th> <th>relax</th> <th>jam</th> <th>paz</th> <th>brick</th> <th>digo</th> <th>dei</th> <th>complain</th> <th>burden</th> <th>sunris</th> <th>also</th> <th>linger</th> <th>jungl</th> <th>hopeless</th> <th>abl</th> <th>bop</th> <th>fi</th> <th>pillow</th> <th>damag</th> <th>mister</th> <th>mask</th> <th>itself</th> <th>drove</th> <th>pump</th> <th>ska</th> <th>boss</th> <th>himself</th> <th>list</th> <th>whiskey</th> <th>moral</th> <th>affect</th> <th>conquer</th> <th>rosa</th> <th>tumbl</th> <th>album</th> <th>mend</th> <th>warrior</th> <th>sinner</th> <th>herz</th> <th>mientra</th> <th>tip</th> <th>express</th> <th>loser</th> <th>chant</th> <th>ogni</th> <th>crave</th> <th>crystal</th> <th>diga</th> <th>perché</th> <th>thrown</th> <th>quell</th> <th>encontrar</th> <th>bay</th> <th>bee</th> <th>fruit</th> <th>hangin</th> <th>billi</th> <th>hollywood</th> <th>parad</th> <th>bailar</th> <th>weed</th> <th>ciudad</th> <th>switch</th> <th>soir</th> <th>stab</th> <th>asham</th> <th>vent</th> <th>collect</th> <th>macht</th> <th>truck</th> <th>instant</th> <th>terra</th> <th>temptat</th> <th>kuin</th> <th>skull</th> <th>ora</th> <th>ed</th> <th>fare</th> <th>rebel</th> <th>meat</th> <th>autumn</th> <th>bom</th> <th>viver</th> <th>london</th> <th>jos</th> <th>deliv</th> <th>perdido</th> <th>cuor</th> <th>doll</th> <th>downtown</th> <th>pink</th> <th>v</th> <th>owe</th> <th>quun</th> <th>sigu</th> <th>howl</th> <th>gana</th> <th>heartbeat</th> <th>core</th> <th>butterfli</th> <th>aquel</th> <th>chick</th> <th>della</th> <th>wer</th> <th>noit</th> <th>imposs</th> <th>sangr</th> <th>easier</th> <th>clue</th> <th>li</th> <th>fuera</th> <th>shiver</th> <th>pool</th> <th>presenc</th> <th>dread</th> <th>surfac</th> <th>nient</th> <th>occhi</th> <th>pienso</th> <th>conscienc</th> <th>zero</th> <th>pelo</th> <th>alguien</th> <th>blaze</th> <th>squeez</th> <th>blast</th> <th>haben</th> <th>dope</th> <th>bruis</th> <th>pue</th> <th>tea</th> <th>honor</th> <th>ze</th> <th>6</th> <th>lamb</th> <th>q</th> <th>recogn</th> <th>flor</th> <th>whistl</th> <th>roof</th> <th>givin</th> <th>gang</th> <th>bewar</th> <th>tomb</th> <th>lei</th> <th>euch</th> <th>seguir</th> <th>wow</th> <th>clap</th> <th>squar</th> <th>forma</th> <th>workin</th> <th>rider</th> <th>appl</th> <th>modern</th> <th>tellin</th> <th>magazin</th> <th>cha</th> <th>coz</th> <th>inner</th> <th>impress</th> <th>drawn</th> <th>smart</th> <th>harmoni</th> <th>govern</th> <th>iâm</th> <th>quest</th> <th>gran</th> <th>volar</th> <th>bliss</th> <th>yuh</th> <th>polit</th> <th>dim</th> <th>tour</th> <th>pant</th> <th>cheer</th> <th>quer</th> <th>familiar</th> <th>fought</th> <th>roar</th> <th>dicen</th> <th>när</th> <th>pen</th> <th>obsess</th> <th>centuri</th> <th>i´m</th> <th>failur</th> <th>jail</th> <th>parec</th> <th>confid</th> <th>meg</th> <th>kneel</th> <th>spare</th> <th>pin</th> <th>vaya</th> <th>import</th> <th>mourn</th> <th>hablar</th> <th>giorno</th> <th>yearn</th> <th>cuenta</th> <th>guilt</th> <th>solut</th> <th>terr</th> <th>focus</th> <th>cling</th> <th>concret</th> <th>horror</th> <th>sore</th> <th>dom</th> <th>unfold</th> <th>bounc</th> <th>nun</th> <th>goal</th> <th>selfish</th> <th>knowledg</th> <th>canción</th> <th>awaken</th> <th>bath</th> <th>kommt</th> <th>delight</th> <th>hesit</th> <th>fond</th> <th>parol</th> <th>courag</th> <th>serious</th> <th>whether</th> <th>ter</th> <th>sweetest</th> <th>useless</th> <th>invis</th> <th>film</th> <th>ole</th> <th>themselv</th> <th>male</th> <th>alcohol</th> <th>sake</th> <th>sway</th> <th>relat</th> <th>nott</th> <th>tra</th> <th>stair</th> <th>parent</th> <th>advic</th> <th>grind</th> <th>negro</th> <th>vento</th> <th>riot</th> <th>sombra</th> <th>blown</th> <th>bajo</th> <th>7</th> <th>burst</th> <th>quel</th> <th>size</th> <th>sheep</th> <th>fold</th> <th>captur</th> <th>dies</th> <th>texa</th> <th>lee</th> <th>dwell</th> <th>frighten</th> <th>fragil</th> <th>einen</th> <th>ave</th> <th>can’t</th> <th>hacia</th> <th>blew</th> <th>chicken</th> <th>thorn</th> <th>teenag</th> <th>everlast</th> <th>zone</th> <th>tape</th> <th>feather</th> <th>necesito</th> <th>compar</th> <th>agora</th> <th>loin</th> <th>pig</th> <th>carv</th> <th>plagu</th> <th>tiger</th> <th>flat</th> <th>dee</th> <th>punch</th> <th>bueno</th> <th>slaughter</th> <th>funk</th> <th>deseo</th> <th>ami</th> <th>nervous</th> <th>tragedi</th> <th>thick</th> <th>fenc</th> <th>anytim</th> <th>backward</th> <th>brighter</th> <th>voir</th> <th>envi</th> <th>complic</th> <th>captain</th> <th>purpos</th> <th>ordinari</th> <th>nuestra</th> <th>grin</th> <th>mer</th> <th>infect</th> <th>spine</th> <th>ought</th> <th>defend</th> <th>photograph</th> <th>tha</th> <th>prey</th> <th>patient</th> <th>nombr</th> <th>flip</th> <th>mc</th> <th>mist</th> <th>toss</th> <th>castl</th> <th>ici</th> <th>horn</th> <th>secur</th> <th>jane</th> <th>k</th> <th>sympathi</th> <th>creo</th> <th>baila</th> <th>trash</th> <th>shirt</th> <th>twilight</th> <th>pair</th> <th>dreamer</th> <th>compromis</th> <th>board</th> <th>veil</th> <th>error</th> <th>standin</th> <th>ke</th> <th>realis</th> <th>devot</th> <th>solid</th> <th>babylon</th> <th>fanci</th> <th>ding</th> <th>faz</th> <th>holdin</th> <th>justifi</th> <th>alor</th> <th>pearl</th> <th>domin</th> <th>soleil</th> <th>estaba</th> <th>origin</th> <th>llegar</th> <th>reject</th> <th>awhil</th> <th>sag</th> <th>milk</th> <th>tener</th> <th>sweetheart</th> <th>lil</th> <th>content</th> <th>samba</th> <th>extra</th> <th>ka</th> <th>rotten</th> <th>sucker</th> <th>salt</th> <th>bat</th> <th>worn</th> <th>toll</th> <th>pi</th> <th>buscando</th> <th>yard</th> <th>leather</th> <th>astray</th> <th>shift</th> <th>third</th> <th>grief</th> <th>azul</th> <th>upsid</th> <th>buck</th> <th>jingl</th> <th>witch</th> <th>dune</th> <th>borrow</th> <th>ont</th> <th>kitchen</th> <th>bedroom</th> <th>sient</th> <th>sigo</th> <th>cream</th> <th>birthday</th> <th>limb</th> <th>court</th> <th>tom</th> <th>neon</th> <th>teacher</th> <th>meer</th> <th>overcom</th> <th>depress</th> <th>ingen</th> <th>juli</th> <th>scatter</th> <th>pile</th> <th>jealous</th> <th>rocket</th> <th>jimmi</th> <th>habit</th> <th>dor</th> <th>sensat</th> <th>corrupt</th> <th>righteous</th> <th>neighbor</th> <th>rob</th> <th>moan</th> <th>quello</th> <th>dormir</th> <th>virgin</th> <th>labio</th> <th>port</th> <th>libertad</th> <th>depth</th> <th>revel</th> <th>pasar</th> <th>screw</th> <th>stress</th> <th>wolf</th> <th>sto</th> <th>augen</th> <th>él</th> <th>rum</th> <th>sir</th> <th>beau</th> <th>espera</th> <th>beam</th> <th>add</th> <th>farewel</th> <th>shower</th> <th>concern</th> <th>pasado</th> <th>measur</th> <th>oui</th> <th>licht</th> <th>voglio</th> <th>4x</th> <th>raini</th> <th>remov</th> <th>ceas</th> <th>tail</th> <th>ive</th> <th>apolog</th> <th>peur</th> <th>border</th> <th>breakin</th> <th>viva</th> <th>charg</th> <th>frustrat</th> <th>perfum</th> <th>bent</th> <th>bubbl</th> <th>unto</th> <th>dag</th> <th>terribl</th> <th>ciel</th> <th>eve</th> <th>disgrac</th> <th>soil</th> <th>pro</th> <th>puerta</th> <th>wrath</th> <th>dreamin</th> <th>feast</th> <th>nas</th> <th>reaction</th> <th>duel</th> <th>9</th> <th>scheme</th> <th>awar</th> <th>smooth</th> <th>shallow</th> <th>razón</th> <th>pode</th> <th>trigger</th> <th>patienc</th> <th>fatal</th> <th>brazo</th> <th>warmth</th> <th>nai</th> <th>ceil</th> <th>sweep</th> <th>starv</th> <th>deje</th> <th>princ</th> <th>olho</th> <th>collaps</th> <th>fuel</th> <th>david</th> <th>skip</th> <th>entend</th> <th>greet</th> <th>haze</th> <th>wore</th> <th>crow</th> <th>pueda</th> <th>coup</th> <th>guerra</th> <th>å</th> <th>vale</th> <th>fe</th> <th>privat</th> <th>nyt</th> <th>jame</th> <th>herself</th> <th>bullshit</th> <th>teardrop</th> <th>commit</th> <th>blink</th> <th>pensando</th> <th>disast</th> <th>lon</th> <th>ang</th> <th>olvido</th> <th>siren</th> <th>glorious</th> <th>frown</th> <th>glanc</th> <th>absolut</th> <th>convinc</th> <th>palm</th> <th>guarante</th> <th>mention</th> <th>ridin</th> <th>rent</th> <th>mike</th> <th>vaan</th> <th>sentiment</th> <th>tutti</th> <th>heartbreak</th> <th>pobr</th> <th>haut</th> <th>año</th> <th>unser</th> <th>corp</th> <th>vow</th> <th>tristeza</th> <th>stray</th> <th>vuoi</th> <th>oi</th> <th>punish</th> <th>libr</th> <th>i’ll</th> <th>morgen</th> <th>televis</th> <th>cama</th> <th>suffoc</th> <th>mann</th> <th>click</th> <th>torment</th> <th>repent</th> <th>fri</th> <th>contra</th> <th>condit</th> <th>alt</th> <th>teas</th> <th>linda</th> <th>prize</th> <th>michael</th> <th>yell</th> <th>jou</th> <th>jo</th> <th>ego</th> <th>donât</th> <th>ander</th> <th>cook</th> <th>cave</th> <th>darken</th> <th>attitud</th> <th>collid</th> <th>adesso</th> <th>mirar</th> <th>mitt</th> <th>sleev</th> <th>parar</th> <th>despué</th> <th>sting</th> <th>plenti</th> <th>werd</th> <th>coração</th> <th>gay</th> <th>devour</th> <th>peut</th> <th>eagl</th> <th>fors</th> <th>equal</th> <th>empir</th> <th>prend</th> <th>balanc</th> <th>ala</th> <th>cultur</th> <th>soak</th> <th>jeder</th> <th>quarter</th> <th>tone</th> <th>herida</th> <th>amanec</th> <th>summertim</th> <th>unseen</th> <th>thang</th> <th>sharp</th> <th>proof</th> <th>sonrisa</th> <th>earn</th> <th>preacher</th> <th>über</th> <th>base</th> <th>belli</th> <th>mach</th> <th>lullabi</th> <th>louder</th> <th>dulc</th> <th>panic</th> <th>flore</th> <th>social</th> <th>werden</th> <th>rang</th> <th>shown</th> <th>sung</th> <th>understood</th> <th>progress</th> <th>cambiar</th> <th>strand</th> <th>seh</th> <th>role</th> <th>despertar</th> <th>bride</th> <th>crook</th> <th>fiesta</th> <th>3x</th> <th>thug</th> <th>bind</th> <th>quoi</th> <th>notr</th> <th>shove</th> <th>suert</th> <th>gangsta</th> <th>frent</th> <th>cherri</th> <th>mill</th> <th>há</th> <th>oil</th> <th>coisa</th> <th>dude</th> <th>deed</th> <th>oclock</th> <th>cabeza</th> <th>st</th> <th>tres</th> <th>ama</th> <th>drank</th> <th>strain</th> <th>espero</th> <th>muert</th> <th>dragon</th> <th>homm</th> <th>wrist</th> <th>team</th> <th>jen</th> <th>thirst</th> <th>einfach</th> <th>basta</th> <th>playa</th> <th>pronto</th> <th>avoid</th> <th>inch</th> <th>ecstasi</th> <th>muero</th> <th>inform</th> <th>mud</th> <th>deus</th> <th>gehen</th> <th>madr</th> <th>purpl</th> <th>razor</th> <th>rust</th> <th>femm</th> <th>famous</th> <th>pui</th> <th>defin</th> <th>atrá</th> <th>don´t</th> <th>bold</th> <th>bibl</th> <th>pit</th> <th>kaikki</th> <th>burnt</th> <th>choir</th> <th>trial</th> <th>entertain</th> <th>penni</th> <th>comment</th> <th>rio</th> <th>bras</th> <th>tenho</th> <th>demis</th> <th>serpent</th> <th>lleva</th> <th>alguna</th> <th>emerg</th> <th>rue</th> <th>stolen</th> <th>ooooh</th> <th>alarm</th> <th>autr</th> <th>hug</th> <th>arrow</th> <th>buena</th> <th>templ</th> <th>también</th> <th>rejoic</th> <th>bene</th> <th>code</th> <th>vuelva</th> <th>damour</th> <th>itâ</th> <th>taim</th> <th>dancer</th> <th>odd</th> <th>gloria</th> <th>map</th> <th>adio</th> <th>presid</th> <th>aha</th> <th>afford</th> <th>southern</th> <th>mala</th> <th>drivin</th> <th>rag</th> <th>organ</th> <th>experi</th> <th>spite</th> <th>boil</th> <th>movement</th> <th>highest</th> <th>avant</th> <th>immort</th> <th>pens</th> <th>plate</th> <th>cake</th> <th>esperando</th> <th>esperar</th> <th>qu</th> <th>bobbi</th> <th>slam</th> <th>jet</th> <th>vom</th> <th>chanson</th> <th>halt</th> <th>soar</th> <th>cancion</th> <th>bob</th> <th>swell</th> <th>bo</th> <th>warum</th> <th>pot</th> <th>funer</th> <th>christian</th> <th>gen</th> <th>yeh</th> <th>niño</th> <th>risk</th> <th>ritmo</th> <th>felicidad</th> <th>scienc</th> <th>plead</th> <th>llevo</th> <th>vu</th> <th>drinkin</th> <th>maker</th> <th>amen</th> <th>giant</th> <th>level</th> <th>raw</th> <th>nella</th> <th>ess</th> <th>flew</th> <th>8</th> <th>até</th> <th>languag</th> <th>deepest</th> <th>pido</th> <th>zurück</th> <th>encuentro</th> <th>motor</th> <th>visit</th> <th>z</th> <th>sweeter</th> <th>pose</th> <th>aldrig</th> <th>cradl</th> <th>threat</th> <th>partir</th> <th>hoje</th> <th>driver</th> <th>attract</th> <th>buddi</th> <th>public</th> <th>avenu</th> <th>co</th> <th>busco</th> <th>tempt</th> <th>chemic</th> <th>jone</th> <th>shakin</th> <th>ny</th> <th>mie</th> <th>siamo</th> <th>nena</th> <th>bein</th> <th>daili</th> <th>sta</th> <th>stack</th> <th>nasti</th> <th>satisfact</th> <th>center</th> <th>tame</th> <th>pierc</th> <th>obvious</th> <th>worthi</th> <th>pourquoi</th> <th>consid</th> <th>gar</th> <th>anda</th> <th>sparkl</th> <th>willst</th> <th>fulfil</th> <th>i’v</th> <th>prophet</th> <th>vanish</th> <th>pan</th> <th>slap</th> <th>quién</th> <th>hypnot</th> <th>spoon</th> <th>posso</th> <th>thread</th> <th>china</th> <th>chew</th> <th>quanto</th> <th>canta</th> <th>whatcha</th> <th>bump</th> <th>humbl</th> <th>claw</th> <th>preach</th> <th>cadillac</th> <th>mate</th> <th>chaqu</th> <th>sí</th> <th>bond</th> <th>grain</th> <th>ninguém</th> <th>dieser</th> <th>são</th> <th>mucha</th> <th>voce</th> <th>cómo</th> <th>saniti</th> <th>blank</th> <th>già</th> <th>degre</th> <th>wither</th> <th>snap</th> <th>fog</th> <th>doy</th> <th>despis</th> <th>endur</th> <th>luce</th> <th>busca</th> <th>salir</th> <th>sip</th> <th>dedic</th> <th>pine</th> <th>alley</th> <th>rearrang</th> <th>saviour</th> <th>donn</th> <th>traffic</th> <th>sincer</th> <th>liberti</th> <th>volta</th> <th>gypsi</th> <th>pare</th> <th>ko</th> <th>struck</th> <th>deinen</th> <th>chip</th> <th>puls</th> <th>scent</th> <th>meinen</th> <th>lame</th> <th>stir</th> <th>chop</th> <th>fuert</th> <th>sehen</th> <th>condemn</th> <th>llena</th> <th>cleans</th> <th>neither</th> <th>buzz</th> <th>tai</th> <th>indian</th> <th>muss</th> <th>enfant</th> <th>negra</th> <th>rub</th> <th>prima</th> <th>blowin</th> <th>cancer</th> <th>solitud</th> <th>driven</th> <th>kommer</th> <th>klein</th> <th>sooner</th> <th>success</th> <th>media</th> <th>viejo</th> <th>blacken</th> <th>foreign</th> <th>vuelta</th> <th>greater</th> <th>sourc</th> <th>boyfriend</th> <th>medicin</th> <th>rare</th> <th>hago</th> <th>lace</th> <th>decemb</th> <th>colder</th> <th>camera</th> <th>quelqu</th> <th>bail</th> <th>sagt</th> <th>vivr</th> <th>tool</th> <th>oper</th> <th>crimin</th> <th>havin</th> <th>interest</th> <th>paul</th> <th>être</th> <th>llega</th> <th>vet</th> <th>runaway</th> <th>slept</th> <th>footstep</th> <th>sixteen</th> <th>fuerza</th> <th>priest</th> <th>nana</th> <th>egg</th> <th>intro</th> <th>aussi</th> <th>realidad</th> <th>turnin</th> <th>alien</th> <th>vengeanc</th> <th>kannst</th> <th>dejar</th> <th>stake</th> <th>días</th> <th>sonn</th> <th>noir</th> <th>sooth</th> <th>cuanto</th> <th>rein</th> <th>watchin</th> <th>sentido</th> <th>peel</th> <th>stormi</th> <th>player</th> <th>dinner</th> <th>hardest</th> <th>respons</th> <th>juego</th> <th>worm</th> <th>tak</th> <th>aye</th> <th>ar</th> <th>perhap</th> <th>dizer</th> <th>orlean</th> <th>blond</th> <th>critic</th> <th>stomach</th> <th>niemand</th> <th>toast</th> <th>oye</th> <th>bug</th> <th>crucifi</th> <th>sailor</th> <th>steam</th> <th>clever</th> <th>claus</th> <th>uncl</th> <th>graviti</th> <th>chica</th> <th>reap</th> <th>sento</th> <th>farm</th> <th>opinion</th> <th>estamo</th> <th>whom</th> <th>blir</th> <th>grasp</th> <th>mamma</th> <th>tore</th> <th>dale</th> <th>hurrican</th> <th>mesmo</th> <th>thief</th> <th>tuoi</th> <th>vibe</th> <th>shini</th> <th>muerto</th> <th>sidewalk</th> <th>passa</th> <th>conscious</th> <th>glove</th> <th>perform</th> <th>lluvia</th> <th>winner</th> <th>consequ</th> <th>cantando</th> <th>bleibt</th> <th>buscar</th> <th>sentimiento</th> <th>disappoint</th> <th>ann</th> <th>lamor</th> <th>amant</th> <th>ki</th> <th>jede</th> <th>satellit</th> <th>tattoo</th> <th>muito</th> <th>weit</th> <th>tas</th> <th>deg</th> <th>usual</th> <th>hecho</th> <th>cocain</th> <th>tot</th> <th>tuesday</th> <th>tension</th> <th>rout</th> <th>educ</th> <th>bitt</th> <th>zombi</th> <th>mieux</th> <th>furi</th> <th>alter</th> <th>lend</th> <th>valu</th> <th>ainda</th> <th>coal</th> <th>mommi</th> <th>velvet</th> <th>blanket</th> <th>drama</th> <th>bowl</th> <th>orang</th> <th>amart</th> <th>uhh</th> <th>reborn</th> <th>angst</th> <th>lotta</th> <th>lyin</th> <th>especi</th> <th>conceal</th> <th>rid</th> <th>ideal</th> <th>dal</th> <th>sos</th> <th>willi</th> <th>sentenc</th> <th>tête</th> <th>dell</th> <th>adió</th> <th>tar</th> <th>button</th> <th>nao</th> <th>strap</th> <th>meinem</th> <th>display</th> <th>fra</th> <th>ihn</th> <th>tap</th> <th>sagen</th> <th>miei</th> <th>hon</th> <th>signal</th> <th>sul</th> <th>shook</th> <th>dot</th> <th>jewel</th> <th>himmel</th> <th>vine</th> <th>redeem</th> <th>musica</th> <th>cow</th> <th>einer</th> <th>termin</th> <th>meus</th> <th>pattern</th> <th>ur</th> <th>throughout</th> <th>younger</th> <th>coin</th> <th>verso</th> <th>deaf</th> <th>ahhh</th> <th>expos</th> <th>compass</th> <th>personn</th> <th>donna</th> <th>num</th> <th>describ</th> <th>lower</th> <th>brush</th> <th>mm</th> <th>outro</th> <th>fazer</th> <th>tangl</th> <th>instinct</th> <th>effect</th> <th>approach</th> <th>breast</th> <th>volt</th> <th>dart</th> <th>franc</th> <th>ow</th> <th>repli</th> <th>provid</th> <th>fim</th> <th>declar</th> <th>nuclear</th> <th>swore</th> <th>llama</th> <th>vino</th> <th>están</th> <th>solv</th> <th>piensa</th> <th>steht</th> <th>distort</th> <th>lair</th> <th>rubber</th> <th>factori</th> <th>post</th> <th>artist</th> <th>anni</th> <th>peter</th> <th>biggest</th> <th>brutal</th> <th>extrem</th> <th>english</th> <th>jerk</th> <th>aún</th> <th>calma</th> <th>laiss</th> <th>debt</th> <th>perch</th> <th>shield</th> <th>esperanza</th> <th>haar</th> <th>doi</th> <th>redempt</th> <th>model</th> <th>sido</th> <th>weigh</th> <th>resurrect</th> <th>alto</th> <th>curl</th> <th>cent</th> <th>june</th> <th>slice</th> <th>sha</th> <th>insecur</th> <th>coward</th> <th>ra</th> <th>usa</th> <th>georgia</th> <th>estou</th> <th>cute</th> <th>cruis</th> <th>mexico</th> <th>invad</th> <th>jealousi</th> <th>futuro</th> <th>fuist</th> <th>dejo</th> <th>halo</th> <th>tras</th> <th>beaten</th> <th>luego</th> <th>shelf</th> <th>motiv</th> <th>twelv</th> <th>it´</th> <th>rumor</th> <th>tennesse</th> <th>swept</th> <th>anna</th> <th>jaim</th> <th>nosso</th> <th>nuh</th> <th>jamá</th> <th>contain</th> <th>nein</th> <th>wort</th> <th>ate</th> <th>sleigh</th> <th>schön</th> <th>champagn</th> <th>aun</th> <th>defens</th> <th>deceit</th> <th>weird</th> <th>relief</th> <th>tá</th> <th>product</th> <th>dip</th> <th>zwei</th> <th>12</th> <th>gesicht</th> <th>singer</th> <th>vera</th> <th>vielleicht</th> <th>spi</th> <th>target</th> <th>souvenir</th> <th>stereo</th> <th>rude</th> <th>manera</th> <th>ab</th> <th>reli</th> <th>woh</th> <th>harvest</th> <th>corpo</th> <th>liquid</th> <th>exit</th> <th>sonho</th> <th>20</th> <th>web</th> <th>casi</th> <th>facil</th> <th>princess</th> <th>einmal</th> <th>muscl</th> <th>booti</th> <th>blur</th> <th>ii</th> <th>ahí</th> <th>duck</th> <th>respirar</th> <th>evid</th> <th>idiot</th> <th>breakdown</th> <th>liber</th> <th>sow</th> <th>georg</th> <th>dans</th> <th>einem</th> <th>flyin</th> <th>symphoni</th> <th>ficar</th> <th>automat</th> <th>robot</th> <th>igen</th> <th>realm</th> <th>practic</th> <th>distract</th> <th>extraño</th> <th>judgement</th> <th>sane</th> <th>april</th> <th>caer</th> <th>gear</th> <th>vicious</th> <th>womb</th> <th>visto</th> <th>h</th> <th>major</th> <th>willow</th> <th>neighborhood</th> <th>static</th> <th>wealth</th> <th>reel</th> <th>joint</th> <th>dónde</th> <th>venus</th> <th>dijo</th> <th>evri</th> <th>wolv</th> <th>ventana</th> <th>lala</th> <th>cariño</th> <th>dinero</th> <th>africa</th> <th>coraz</th> <th>homi</th> <th>sock</th> <th>arena</th> <th>support</th> <th>credit</th> <th>regga</th> <th>repres</th> <th>miro</th> <th>matin</th> <th>sleepi</th> <th>worthless</th> <th>video</th> <th>griev</th> <th>meiner</th> <th>branch</th> <th>achiev</th> <th>denk</th> <th>demain</th> <th>maze</th> <th>knockin</th> <th>correct</th> <th>dial</th> <th>file</th> <th>misma</th> <th>soi</th> <th>malo</th> <th>filthi</th> <th>jim</th> <th>juic</th> <th>convict</th> <th>cycl</th> <th>ceux</th> <th>perdu</th> <th>ello</th> <th>disturb</th> <th>pein</th> <th>chocol</th> <th>rapper</th> <th>olvid</th> <th>forgiven</th> <th>sinn</th> <th>tend</th> <th>corpor</th> <th>tunnel</th> <th>loca</th> <th>dai</th> <th>legend</th> <th>dimens</th> <th>tief</th> <th>idol</th> <th>dyin</th> <th>forsaken</th> <th>allá</th> <th>fella</th> <th>physic</th> <th>matar</th> <th>tragic</th> <th>gris</th> <th>soll</th> <th>forti</th> <th>communic</th> <th>dough</th> <th>denial</th> <th>liv</th> <th>local</th> <th>algún</th> <th>urg</th> <th>céu</th> <th>hijo</th> <th>taxi</th> <th>ambit</th> <th>voyag</th> <th>locura</th> <th>mere</th> <th>dull</th> <th>unleash</th> <th>tread</th> <th>smokin</th> <th>william</th> <th>gleam</th> <th>civil</th> <th>defi</th> <th>haga</th> <th>amongst</th> <th>ob</th> <th>heed</th> <th>bull</th> <th>host</th> <th>dieu</th> <th>villag</th> <th>unkind</th> <th>altar</th> <th>arriba</th> <th>sal</th> <th>bunch</th> <th>croi</th> <th>weiter</th> <th>pardon</th> <th>aller</th> <th>despit</th> <th>ignit</th> <th>cotton</th> <th>nei</th> <th>dr</th> <th>verd</th> <th>phase</th> <th>gracia</th> <th>tue</th> <th>depoi</th> <th>link</th> <th>intern</th> <th>seventeen</th> <th>shes</th> <th>coffin</th> <th>hound</th> <th>decept</th> <th>health</th> <th>frei</th> <th>alibi</th> <th>vengo</th> <th>bled</th> <th>rubi</th> <th>leaf</th> <th>attempt</th> <th>tienen</th> <th>llorando</th> <th>suelo</th> <th>thumb</th> <th>razon</th> <th>rode</th> <th>sober</th> <th>buen</th> <th>pela</th> <th>joka</th> <th>crimson</th> <th>height</th> <th>frost</th> <th>acid</th> <th>glaub</th> <th>net</th> <th>pimp</th> <th>empezar</th> <th>font</th> <th>selbst</th> <th>shepherd</th> <th>hunter</th> <th>jive</th> <th>prevail</th> <th>jaw</th> <th>circus</th> <th>background</th> <th>fairi</th> <th>sufrir</th> <th>quieren</th> <th>symbol</th> <th>sabor</th> <th>geh</th> <th>sulla</th> <th>jeden</th> <th>peak</th> <th>plot</th> <th>guarda</th> <th>blanco</th> <th>manag</th> <th>safeti</th> <th>sleepless</th> <th>chez</th> <th>liquor</th> <th>narrow</th> <th>explos</th> <th>object</th> <th>there’</th> <th>meal</th> <th>unholi</th> <th>nós</th> <th>deiner</th> <th>untru</th> <th>wah</th> <th>fountain</th> <th>ô</th> <th>penso</th> <th>spider</th> <th>mata</th> <th>inde</th> <th>poet</th> <th>flicker</th> <th>vote</th> <th>tank</th> <th>salli</th> <th>scale</th> <th>halfway</th> <th>jsui</th> <th>traum</th> <th>keepin</th> <th>foe</th> <th>honesti</th> <th>creer</th> <th>missin</th> <th>torch</th> <th>infinit</th> <th>niña</th> <th>wär</th> <th>haus</th> <th>holler</th> <th>gott</th> <th>attend</th> <th>skill</th> <th>ref</th> <th>atom</th> <th>bas</th> <th>scorn</th> <th>cap</th> <th>keiner</th> <th>vibrat</th> <th>faint</th> <th>nen</th> <th>offic</th> <th>pave</th> <th>peux</th> <th>stroll</th> <th>piu</th> <th>bello</th> <th>ahi</th> <th>voodoo</th> <th>cétait</th> <th>caricia</th> <th>knot</th> <th>thirti</th> <th>thigh</th> <th>tuyo</th> <th>tenga</th> <th>process</th> <th>duro</th> <th>estribillo</th> <th>gern</th> <th>valentin</th> <th>fright</th> <th>spiritu</th> <th>stock</th> <th>fiction</th> <th>senti</th> <th>memphi</th> <th>padr</th> <th>¿qué</th> <th>olla</th> <th>overwhelm</th> <th>mami</th> <th>friendship</th> <th>vampir</th> <th>paralyz</th> <th>coke</th> <th>hardcor</th> <th>pistol</th> <th>bush</th> <th>cherish</th> <th>spiral</th> <th>infin</th> <th>weav</th> <th>sack</th> <th>bam</th> <th>hacen</th> <th>dalla</th> <th>inna</th> <th>chin</th> <th>parasit</th> <th>contact</th> <th>dado</th> <th>losin</th> <th>était</th> <th>fleur</th> <th>raus</th> <th>weh</th> <th>wage</th> <th>tambien</th> <th>dissolv</th> <th>cu</th> <th>superstar</th> <th>searchin</th> <th>ali</th> <th>nueva</th> <th>hart</th> <th>diss</th> <th>whoo</th> <th>almighti</th> <th>unwind</th> <th>plea</th> <th>sexual</th> <th>dew</th> <th>negat</th> <th>bu</th> <th>spoil</th> <th>junki</th> <th>puppet</th> <th>gin</th> <th>blossom</th> <th>fuss</th> <th>plein</th> <th>vast</th> <th>stell</th> <th>histoir</th> <th>stroke</th> <th>seam</th> <th>rey</th> <th>medo</th> <th>prefer</th> <th>northern</th> <th>author</th> <th>disgust</th> <th>dure</th> <th>devant</th> <th>wretch</th> <th>sarà</th> <th>atmospher</th> <th>daydream</th> <th>pipe</th> <th>remors</th> <th>martyr</th> <th>yonder</th> <th>moin</th> <th>hizo</th> <th>sneak</th> <th>abyss</th> <th>version</th> <th>papel</th> <th>comprend</th> <th>uhhuh</th> <th>isso</th> <th>oooo</th> <th>pon</th> <th>gutter</th> <th>rate</th> <th>vaikka</th> <th>pavement</th> <th>od</th> <th>dusti</th> <th>roller</th> <th>label</th> <th>deck</th> <th>vultur</th> <th>tun</th> <th>careless</th> <th>glide</th> <th>wirklich</th> <th>vorbei</th> <th>fifteen</th> <th>bord</th> <th>nut</th> <th>mentr</th> <th>quis</th> <th>spanish</th> <th>impos</th> <th>fifti</th> <th>stink</th> <th>leap</th> <th>penetr</th> <th>dam</th> <th>ritual</th> <th>fellow</th> <th>clip</th> <th>suppli</th> <th>flee</th> <th>elev</th> <th>mail</th> <th>ribbon</th> <th>corr</th> <th>hospit</th> <th>ladder</th> <th>wail</th> <th>bathroom</th> <th>dá</th> <th>sait</th> <th>jenni</th> <th>heur</th> <th>revolv</th> <th>barrio</th> <th>knive</th> <th>vice</th> <th>firm</th> <th>chicago</th> <th>ikk</th> <th>breakfast</th> <th>despu</th> <th>darker</th> <th>upset</th> <th>oblivion</th> <th>hustl</th> <th>favourit</th> <th>reward</th> <th>servant</th> <th>rewind</th> <th>primavera</th> <th>culpa</th> <th>enslav</th> <th>solament</th> <th>charli</th> <th>pueblo</th> <th>fuse</th> <th>aquella</th> <th>toca</th> <th>tin</th> <th>opposit</th> <th>propheci</th> <th>zur</th> <th>oughta</th> <th>sorriso</th> <th>carpet</th> <th>servic</th> <th>dort</th> <th>oscuridad</th> <th>comput</th> <th>mont</th> <th>invent</th> <th>acaba</th> <th>strive</th> <th>muev</th> <th>chord</th> <th>sleepin</th> <th>foul</th> <th>scrape</th> <th>erst</th> <th>captiv</th> <th>ey</th> <th>bid</th> <th>ohhhh</th> <th>jar</th> <th>drew</th> <th>definit</th> <th>wonderin</th> <th>slight</th> <th>pole</th> <th>fascin</th> <th>shorti</th> <th>bark</th> <th>killin</th> <th>produc</th> <th>alguém</th> <th>mystic</th> <th>peep</th> <th>grate</th> <th>tranc</th> <th>nube</th> <th>resto</th> <th>nome</th> <th>oppress</th> <th>batter</th> <th>bike</th> <th>liegt</th> <th>harri</th> <th>medic</th> <th>glück</th> <th>accid</th> <th>waltz</th> <th>asshol</th> <th>soñar</th> <th>stall</th> <th>problema</th> <th>deixa</th> <th>finest</th> <th>fácil</th> <th>rome</th> <th>quedo</th> <th>savag</th> <th>bonita</th> <th>politician</th> <th>seiz</th> <th>general</th> <th>hör</th> <th>parl</th> <th>independ</th> <th>très</th> <th>wirst</th> <th>ain</th> <th>perchè</th> <th>seit</th> <th>dine</th> <th>pollut</th> <th>french</th> <th>phrase</th> <th>niemal</th> <th>circumst</th> <th>rattl</th> <th>musiqu</th> <th>romant</th> <th>ultim</th> <th>deinem</th> <th>union</th> <th>habe</th> <th>stench</th> <th>sest</th> <th>couch</th> <th>sourir</th> <th>accus</th> <th>determin</th> <th>risa</th> <th>prime</th> <th>nom</th> <th>enamorado</th> <th>hater</th> <th>egal</th> <th>bonheur</th> <th>meadow</th> <th>klar</th> <th>saudad</th> <th>beep</th> <th>shotgun</th> <th>gira</th> <th>contar</th> <th>lamp</th> <th>elvi</th> <th>trumpet</th> <th>porch</th> <th>graveyard</th> <th>gentlemen</th> <th>seren</th> <th>grito</th> <th>vil</th> <th>glitter</th> <th>larg</th> <th>kopf</th> <th>secreto</th> <th>group</th> <th>profit</th> <th>declin</th> <th>lou</th> <th>sour</th> <th>involv</th> <th>quizá</th> <th>boo</th> <th>project</th> <th>materi</th> <th>ilusión</th> <th>noel</th> <th>placer</th> <th>execut</th> <th>revers</th> <th>luci</th> <th>gambl</th> <th>summon</th> <th>também</th> <th>señor</th> <th>fest</th> <th>melhor</th> <th>madrugada</th> <th>fo</th> <th>microphon</th> <th>claro</th> <th>virus</th> <th>explor</th> <th>speech</th> <th>venom</th> <th>fino</th> <th>sehr</th> <th>vacat</th> <th>partner</th> <th>cualquier</th> <th>youâr</th> <th>sotto</th> <th>silhouett</th> <th>notion</th> <th>entrar</th> <th>market</th> <th>slay</th> <th>rail</th> <th>mold</th> <th>rêve</th> <th>yah</th> <th>raven</th> <th>insiem</th> <th>knight</th> <th>cuento</th> <th>heb</th> <th>cose</th> <th>bli</th> <th>eterno</th> <th>digniti</th> <th>escapar</th> <th>depui</th> <th>adventur</th> <th>depart</th> <th>letra</th> <th>lawn</th> <th>essenc</th> <th>fr</th> <th>paus</th> <th>outra</th> <th>tut</th> <th>sil</th> <th>preciso</th> <th>obscur</th> <th>smack</th> <th>childhood</th> <th>memoria</th> <th>lipstick</th> <th>shinin</th> <th>photo</th> <th>enchant</th> <th>tocar</th> <th>hei</th> <th>ira</th> <th>farther</th> <th>sport</th> <th>gasolin</th> <th>latest</th> <th>rosi</th> <th>guardo</th> <th>fiend</th> <th>concentr</th> <th>mina</th> <th>palac</th> <th>aboard</th> <th>strife</th> <th>lágrima</th> <th>llora</th> <th>anchor</th> <th>dreamt</th> <th>corn</th> <th>clay</th> <th>déjà</th> <th>café</th> <th>dizzi</th> <th>spray</th> <th>messiah</th> <th>voix</th> <th>brake</th> <th>pleur</th> <th>cafe</th> <th>sum</th> <th>pet</th> <th>jade</th> <th>combin</th> <th>può</th> <th>tod</th> <th>hur</th> <th>apathi</th> <th>desol</th> <th>crippl</th> <th>axe</th> <th>rabbit</th> <th>sanctuari</th> <th>valor</th> <th>transform</th> <th>uniform</th> <th>confront</th> <th>swift</th> <th>barrel</th> <th>filth</th> <th>vrai</th> <th>entonc</th> <th>lune</th> <th>masquerad</th> <th>mississippi</th> <th>chime</th> <th>50</th> <th>railroad</th> <th>qua</th> <th>llego</th> <th>actual</th> <th>shoulda</th> <th>gloom</th> <th>escond</th> <th>perd</th> <th>15</th> <th>jama</th> <th>conoc</th> <th>abr</th> <th>blut</th> <th>inn</th> <th>phantom</th> <th>appeal</th> <th>plug</th> <th>vaniti</th> <th>poni</th> <th>mainten</th> <th>cristal</th> <th>fearless</th> <th>stitch</th> <th>fragment</th> <th>clutch</th> <th>pecho</th> <th>30</th> <th>squad</th> <th>cambio</th> <th>makeup</th> <th>stalk</th> <th>surf</th> <th>outer</th> <th>basement</th> <th>obscen</th> <th>gehn</th> <th>passé</th> <th>fiddl</th> <th>steve</th> <th>boulevard</th> <th>chart</th> <th>arrang</th> <th>increas</th> <th>septemb</th> <th>i`m</th> <th>rua</th> <th>endlich</th> <th>guitarra</th> <th>leve</th> <th>evolut</th> <th>wooden</th> <th>vraiment</th> <th>kickin</th> <th>unter</th> <th>logic</th> <th>40</th> <th>toma</th> <th>feat</th> <th>gotten</th> <th>tryna</th> <th>mire</th> <th>esser</th> <th>hid</th> <th>fighter</th> <th>husband</th> <th>jumpin</th> <th>suo</th> <th>machen</th> <th>pasión</th> <th>maim</th> <th>program</th> <th>demasiado</th> <th>majesti</th> <th>retreat</th> <th>appreci</th> <th>daze</th> <th>challeng</th> <th>queria</th> <th>letzt</th> <th>nosotro</th> <th>sogno</th> <th>ku</th> <th>subject</th> <th>standard</th> <th>troppo</th> <th>jazz</th> <th>opportun</th> <th>sehn</th> <th>miser</th> <th>col</th> <th>legion</th> <th>submit</th> <th>qualquer</th> <th>cough</th> <th>medio</th> <th>teen</th> <th>wilder</th> <th>sed</th> <th>peau</th> <th>pone</th> <th>studi</th> <th>dije</th> <th>jacket</th> <th>overflow</th> <th>vient</th> <th>suprem</th> <th>butcher</th> <th>balloon</th> <th>pushin</th> <th>tradit</th> <th>pane</th> <th>cur</th> <th>stomp</th> <th>alegr</th> <th>judgment</th> <th>industri</th> <th>jugar</th> <th>introduc</th> <th>lai</th> <th>esquina</th> <th>venir</th> <th>iba</th> <th>taint</th> <th>pude</th> <th>counti</th> <th>fleet</th> <th>rêves</th> <th>allah</th> <th>groovi</th> <th>sogni</th> <th>chrome</th> <th>blah</th> <th>genocid</th> <th>kalt</th> <th></th> <th>unreal</th> <th>slumber</th> <th>thiev</th> <th>frank</th> <th>id</th> <th>lurk</th> <th>unhappi</th> <th>ihm</th> <th>morena</th> <th>chico</th> <th>dusk</th> <th>cuatro</th> <th>lap</th> <th>dynamit</th> <th>blick</th> <th>twin</th> <th>muer</th> <th>dub</th> <th>yi</th> <th>thirsti</th> <th>skirt</th> <th>hopin</th> <th>predict</th> <th>heroin</th> <th>escucha</th> <th>ormai</th> <th>scari</th> <th>steer</th> <th>genau</th> <th>besoin</th> <th>ana</th> <th>llanto</th> <th>screamin</th> <th>routin</th> <th>contr</th> <th>tooth</th> <th>paura</th> <th>sopra</th> <th>perdida</th> <th>vuela</th> <th>fuori</th> <th>pierdo</th> <th>remedi</th> <th>cloudi</th> <th>adam</th> <th>raison</th> <th>perro</th> <th>amus</th> <th>closet</th> <th>ner</th> <th>ano</th> <th>western</th> <th>ness</th> <th>piedra</th> <th>beef</th> <th>aprè</th> <th>featur</th> <th>robin</th> <th>decad</th> <th>qued</th> <th>bald</th> <th>wollt</th> <th>neue</th> <th>whine</th> <th>chees</th> <th>feu</th> <th>aprend</th> <th>dish</th> <th>leva</th> <th>brauch</th> <th>misunderstood</th> <th>misti</th> <th>diferent</th> <th>habla</th> <th>når</th> <th>psycho</th> <th>spotlight</th> <th>reviv</th> <th>suitcas</th> <th>freund</th> <th>duda</th> <th>etwa</th> <th>geld</th> <th>stadt</th> <th>mellow</th> <th>poetri</th> <th>lumièr</th> <th>bean</th> <th>print</th> <th>confin</th> <th>kommen</th> <th>domani</th> <th>correr</th> <th>perman</th> <th>strada</th> <th>inhal</th> <th>idl</th> <th>allen</th> <th>statu</th> <th>bluebird</th> <th>uniti</th> <th>reckless</th> <th>robe</th> <th>leer</th> <th>lhe</th> <th>vite</th> <th>modo</th> <th>menschen</th> <th>incred</th> <th>aujourdhui</th> <th>anticip</th> <th>etc</th> <th>estc</th> <th>keinen</th> <th>raindrop</th> <th>puzzl</th> <th>chemin</th> <th>lindo</th> <th>wax</th> <th>foss</th> <th>junk</th> <th>veut</th> <th>kaiken</th> <th>contempl</th> <th>skeleton</th> <th>caso</th> <th>wollen</th> <th>ruido</th> <th>grade</th> <th>leau</th> <th>‘caus</th> <th>effort</th> <th>dêtre</th> <th>hippi</th> <th>fil</th> <th>curv</th> <th>dabei</th> <th>nossa</th> <th>eventu</th> <th>recordar</th> <th>disconnect</th> <th>carol</th> <th>strung</th> <th>infierno</th> <th>daß</th> <th>cousin</th> <th>radiat</th> <th>pal</th> <th>stiff</th> <th>trend</th> <th>lento</th> <th>fore</th> <th>vide</th> <th>channel</th> <th>joli</th> <th>parc</th> <th>vuol</th> <th>então</th> <th>stern</th> <th>cope</th> <th>garbag</th> <th>admir</th> <th>blister</th> <th>sull</th> <th>mão</th> <th>odio</th> <th>pitch</th> <th>carn</th> <th>slippin</th> <th>we’r</th> <th>debo</th> <th>honki</th> <th>shark</th> <th>afar</th> <th>jest</th> <th>pu</th> <th>ust</th> <th>hiphop</th> <th>ident</th> <th>billion</th> <th>punto</th> <th>oon</th> <th>romeo</th> <th>banana</th> <th>escuchar</th> <th>richard</th> <th>livet</th> <th>jung</th> <th>fiel</th> <th>noos</th> <th>beggin</th> <th>trunk</th> <th>ink</th> <th>mash</th> <th>succeed</th> <th>toni</th> <th>bi</th> <th>spinnin</th> <th>powder</th> <th>fou</th> <th>hun</th> <th>butter</th> <th>fatto</th> <th>manchmal</th> <th>llevar</th> <th>fur</th> <th>disagre</th> <th>voll</th> <th>assur</th> <th>från</th> <th>savoir</th> <th>horizont</th> <th>carnav</th> <th>drunken</th> <th>tuck</th> <th>keeper</th> <th>broad</th> <th>maid</th> <th>flock</th> <th>gib</th> <th>tellement</th> <th>vieux</th> <th>tango</th> <th>bailando</th> <th>larm</th> <th>berlin</th> <th>handsom</th> <th>gefühl</th> <th>blunt</th> <th>qual</th> <th>inject</th> <th>timeless</th> <th>gi</th> <th>cor</th> <th>bonni</th> <th>clone</th> <th>allí</th> <th>mall</th> <th>wink</th> <th>blanca</th> <th>sinto</th> <th>mirando</th> <th>meaningless</th> <th>nessuno</th> <th>legal</th> <th>hypocrit</th> <th>hermano</th> <th>pasion</th> <th>aid</th> <th>brooklyn</th> <th>donc</th> <th>delus</th> <th>term</th> <th>primera</th> <th>pourtant</th> <th>layin</th> <th>conceiv</th> <th>seel</th> <th>devast</th> <th>slick</th> <th>vega</th> <th>pluie</th> <th>tax</th> <th>frío</th> <th>ty</th> <th>virtu</th> <th>lontano</th> <th>unabl</th> <th>distress</th> <th>bla</th> <th>ember</th> <th>wee</th> <th>mmmm</th> <th>pedir</th> <th>beckon</th> <th>galaxi</th> <th>diz</th> <th>ley</th> <th>passo</th> <th>mous</th> <th>issu</th> <th>absurd</th> <th>imma</th> <th>zoo</th> <th>rocki</th> <th>pide</th> <th>jackson</th> <th>neat</th> <th>itch</th> <th>insect</th> <th>shred</th> <th>000</th> <th>segundo</th> <th>avait</th> <th>bonito</th> <th>foundat</th> <th>13</th> <th>mag</th> <th>scarlet</th> <th>lunch</th> <th>cansado</th> <th>leak</th> <th>près</th> <th>bah</th> <th>giorni</th> <th>siehst</th> <th>consol</th> <th>flirt</th> <th>absenc</th> <th>lalala</th> <th>comprehend</th> <th>hin</th> <th>scum</th> <th>stride</th> <th>fingertip</th> <th>lua</th> <th>translat</th> <th>reput</th> <th>starri</th> <th>conclus</th> <th>pouco</th> <th>belt</th> <th>sig</th> <th>tribe</th> <th>illumin</th> <th>knowin</th> <th>forg</th> <th>minor</th> <th>behav</th> <th>oli</th> <th>croir</th> <th>troi</th> <th>passer</th> <th>dautr</th> <th>vela</th> <th>anyhow</th> <th>mock</th> <th>habrá</th> <th>espejo</th> <th>intens</th> <th>saddl</th> <th>glue</th> <th>rendezv</th> <th>cd</th> <th>mío</th> <th>rave</th> <th>dimmi</th> <th>retir</th> <th>vara</th> <th>molli</th> <th>forbidden</th> <th>combat</th> <th>trippin</th> <th>ingent</th> <th>deepli</th> <th>puttin</th> <th>silk</th> <th>paranoia</th> <th>weißt</th> <th>whirl</th> <th>duti</th> <th>quedan</th> <th>adentro</th> <th>ditch</th> <th>shave</th> <th>esté</th> <th>sicken</th> <th>premier</th> <th>bleib</th> <th>reliev</th> <th>restor</th> <th>unawar</th> <th>quella</th> <th>dash</th> <th>gore</th> <th>acabar</th> <th>kissin</th> <th>indiffer</th> <th>temperatur</th> <th>messin</th> <th>rumbl</th> <th>argu</th> <th>freeway</th> <th>vuelto</th> <th>manipul</th> <th>annihil</th> <th>mek</th> <th>passag</th> <th>minuto</th> <th>fora</th> <th>cosmic</th> <th>despierta</th> <th>betti</th> <th>request</th> <th>pudiera</th> <th>bucket</th> <th>proper</th> <th>ace</th> <th>gritar</th> <th>puro</th> <th>gown</th> <th>chapter</th> <th>digit</th> <th>actor</th> <th>cambia</th> <th>prendr</th> <th>creator</th> <th>skate</th> <th>askin</th> <th>difícil</th> <th>flown</th> <th>nurs</th> <th>sim</th> <th>waist</th> <th>gleich</th> <th>saben</th> <th>collar</th> <th>joue</th> <th>demai</th> <th>current</th> <th>flaw</th> <th>16</th> <th>doigt</th> <th>olvida</th> <th>comb</th> <th>headlight</th> <th>diablo</th> <th>suav</th> <th>ascend</th> <th>cree</th> <th>vete</th> <th>pledg</th> <th>mistaken</th> <th>method</th> <th>vagu</th> <th>dura</th> <th>voit</th> <th>maiden</th> <th>sangu</th> <th>ando</th> <th>element</th> <th>entir</th> <th>alleluia</th> <th>oft</th> <th>intox</th> <th>besser</th> <th>pueden</th> <th>rug</th> <th>aura</th> <th>guest</th> <th>chamber</th> <th>sere</th> <th>jukebox</th> <th>skinni</th> <th>wissen</th> <th>holla</th> <th>cherch</th> <th>hurtin</th> <th>tenemo</th> <th>dedo</th> <th>droit</th> <th>glisten</th> <th>assassin</th> <th>landscap</th> <th>mutil</th> <th>seein</th> <th>senseless</th> <th>golp</th> <th>lili</th> <th>jaurai</th> <th>auto</th> <th>structur</th> <th>assum</th> <th>veneno</th> <th>spawn</th> <th>proclaim</th> <th>threaten</th> <th>distancia</th> <th>magia</th> <th>swirl</th> <th>curious</th> <th>complex</th> <th>uptown</th> <th>100</th> <th>advanc</th> <th>alegría</th> <th>empieza</th> <th>hah</th> <th>dug</th> <th>aquello</th> <th>lucif</th> <th>cruz</th> <th>jamaica</th> <th>flavor</th> <th>24</th> <th>anguish</th> <th>foto</th> <th>chat</th> <th>jétai</th> <th>caminho</th> <th>observ</th> <th>altro</th> <th>javai</th> <th>oer</th> <th>nickel</th> <th>booz</th> <th>sew</th> <th>música</th> <th>stai</th> <th>naughti</th> <th>entiendo</th> <th>står</th> <th>champion</th> <th>forsak</th> <th>seventh</th> <th>capit</th> <th>writer</th> <th>motivo</th> <th>bake</th> <th>insist</th> <th>santo</th> <th>pe</th> <th>gee</th> <th>colleg</th>\n",
       "        </tr>\n",
       "    </thead>\n",
       "    <tbody>\n",
       "        <tr>\n",
       "            <td>Slicker Than Your Average</td> <td>Craig David</td> <td>Hip-hop</td> <td>0.0495356</td> <td>0.0170279</td> <td>0.0356037</td> <td>0.0201238</td> <td>0.00773994</td> <td>0.00619195</td> <td>0.0588235</td> <td>0.00928793</td> <td>0.0139319</td> <td>0.00619195</td> <td>0.0216718</td> <td>0.00309597</td> <td>0.00154799</td> <td>0.0263158</td> <td>0.0263158</td> <td>0.0247678</td> <td>0.00309597</td> <td>0.00928793</td> <td>0   </td> <td>0.00928793</td> <td>0.00154799</td> <td>0.00309597</td> <td>0.00154799</td> <td>0.00773994</td> <td>0.00464396</td> <td>0.00464396</td> <td>0.00154799</td> <td>0.0139319</td> <td>0.00619195</td> <td>0.00309597</td> <td>0   </td> <td>0.00154799</td> <td>0.0278638</td> <td>0.00309597</td> <td>0.0139319</td> <td>0.00464396</td> <td>0.00928793</td> <td>0   </td> <td>0.00464396</td> <td>0   </td> <td>0.00154799</td> <td>0   </td> <td>0.00773994</td> <td>0.0170279</td> <td>0.00464396</td> <td>0.00309597</td> <td>0   </td> <td>0.00309597</td> <td>0.0247678</td> <td>0.00154799</td> <td>0   </td> <td>0.00154799</td> <td>0   </td> <td>0.00928793</td> <td>0.00154799</td> <td>0   </td> <td>0.00309597</td> <td>0.00154799</td> <td>0.0216718</td> <td>0.00154799</td> <td>0   </td> <td>0.0201238</td> <td>0.00619195</td> <td>0   </td> <td>0   </td> <td>0.00464396</td> <td>0.00464396</td> <td>0.00154799</td> <td>0.00309597</td> <td>0.00309597</td> <td>0.00154799</td> <td>0.00154799</td> <td>0   </td> <td>0   </td> <td>0   </td> <td>0.00619195</td> <td>0   </td> <td>0.00154799</td> <td>0.00154799</td> <td>0   </td> <td>0    </td> <td>0.00154799</td> <td>0.00619195</td> <td>0    </td> <td>0    </td> <td>0   </td> <td>0   </td> <td>0   </td> <td>0.00154799</td> <td>0   </td> <td>0   </td> <td>0.00154799</td> <td>0.00154799</td> <td>0.00154799</td> <td>0   </td> <td>0    </td> <td>0   </td> <td>0.00619195</td> <td>0.00154799</td> <td>0.0263158</td> <td>0    </td> <td>0   </td> <td>0.00309597</td> <td>0   </td> <td>0      </td> <td>0.00154799</td> <td>0.00154799</td> <td>0    </td> <td>0   </td> <td>0.00464396</td> <td>0.00154799</td> <td>0   </td> <td>0.00464396</td> <td>0   </td> <td>0   </td> <td>0.00773994</td> <td>0   </td> <td>0.0108359</td> <td>0    </td> <td>0.00154799</td> <td>0.00154799</td> <td>0   </td> <td>0   </td> <td>0    </td> <td>0   </td> <td>0   </td> <td>0.00154799</td> <td>0   </td> <td>0   </td> <td>0.00464396</td> <td>0   </td> <td>0   </td> <td>0     </td> <td>0.00154799</td> <td>0    </td> <td>0.00309597</td> <td>0   </td> <td>0.00154799</td> <td>0.00154799</td> <td>0   </td> <td>0   </td> <td>0.00154799</td> <td>0    </td> <td>0.00154799</td> <td>0   </td> <td>0    </td> <td>0    </td> <td>0.00309597</td> <td>0.00309597</td> <td>0   </td> <td>0   </td> <td>0   </td> <td>0   </td> <td>0   </td> <td>0.00154799</td> <td>0   </td> <td>0   </td> <td>0   </td> <td>0   </td> <td>0.00154799</td> <td>0.00619195</td> <td>0   </td> <td>0   </td> <td>0   </td> <td>0   </td> <td>0   </td> <td>0   </td> <td>0     </td> <td>0      </td> <td>0   </td> <td>0   </td> <td>0   </td> <td>0   </td> <td>0.00309597</td> <td>0.00464396</td> <td>0    </td> <td>0   </td> <td>0     </td> <td>0   </td> <td>0    </td> <td>0   </td> <td>0    </td> <td>0   </td> <td>0   </td> <td>0   </td> <td>0    </td> <td>0.00464396</td> <td>0    </td> <td>0   </td> <td>0   </td> <td>0.00309597</td> <td>0.00154799</td> <td>0     </td> <td>0.00154799</td> <td>0     </td> <td>0   </td> <td>0    </td> <td>0   </td> <td>0   </td> <td>0   </td> <td>0   </td> <td>0.0201238</td> <td>0.0123839</td> <td>0      </td> <td>0   </td> <td>0   </td> <td>0.00154799</td> <td>0   </td> <td>0   </td> <td>0   </td> <td>0.00154799</td> <td>0   </td> <td>0.00309597</td> <td>0   </td> <td>0.00309597</td> <td>0   </td> <td>0    </td> <td>0   </td> <td>0    </td> <td>0.00309597</td> <td>0.00154799</td> <td>0     </td> <td>0   </td> <td>0   </td> <td>0   </td> <td>0   </td> <td>0   </td> <td>0   </td> <td>0.00464396</td> <td>0.00154799</td> <td>0   </td> <td>0      </td> <td>0   </td> <td>0.00309597</td> <td>0   </td> <td>0   </td> <td>0   </td> <td>0.00154799</td> <td>0   </td> <td>0   </td> <td>0.00309597</td> <td>0   </td> <td>0   </td> <td>0.00154799</td> <td>0   </td> <td>0   </td> <td>0   </td> <td>0   </td> <td>0   </td> <td>0   </td> <td>0   </td> <td>0   </td> <td>0   </td> <td>0   </td> <td>0   </td> <td>0   </td> <td>0   </td> <td>0.00154799</td> <td>0   </td> <td>0    </td> <td>0    </td> <td>0   </td> <td>0     </td> <td>0     </td> <td>0    </td> <td>0    </td> <td>0    </td> <td>0   </td> <td>0.00154799</td> <td>0   </td> <td>0   </td> <td>0   </td> <td>0    </td> <td>0   </td> <td>0    </td> <td>0.00154799</td> <td>0   </td> <td>0    </td> <td>0   </td> <td>0   </td> <td>0   </td> <td>0     </td> <td>0   </td> <td>0   </td> <td>0   </td> <td>0   </td> <td>0   </td> <td>0.00309597</td> <td>0    </td> <td>0.00154799</td> <td>0   </td> <td>0   </td> <td>0   </td> <td>0   </td> <td>0   </td> <td>0   </td> <td>0   </td> <td>0   </td> <td>0   </td> <td>0   </td> <td>0    </td> <td>0   </td> <td>0.00154799</td> <td>0    </td> <td>0   </td> <td>0    </td> <td>0   </td> <td>0   </td> <td>0   </td> <td>0   </td> <td>0   </td> <td>0     </td> <td>0   </td> <td>0   </td> <td>0.00154799</td> <td>0   </td> <td>0    </td> <td>0     </td> <td>0   </td> <td>0   </td> <td>0   </td> <td>0    </td> <td>0   </td> <td>0.00154799</td> <td>0     </td> <td>0.00154799</td> <td>0    </td> <td>0.00154799</td> <td>0       </td> <td>0    </td> <td>0   </td> <td>0    </td> <td>0    </td> <td>0   </td> <td>0   </td> <td>0   </td> <td>0.00154799</td> <td>0   </td> <td>0   </td> <td>0   </td> <td>0        </td> <td>0   </td> <td>0   </td> <td>0   </td> <td>0     </td> <td>0   </td> <td>0   </td> <td>0   </td> <td>0   </td> <td>0   </td> <td>0   </td> <td>0   </td> <td>0     </td> <td>0    </td> <td>0.00154799</td> <td>0   </td> <td>0   </td> <td>0   </td> <td>0   </td> <td>0   </td> <td>0   </td> <td>0.00309597</td> <td>0   </td> <td>0   </td> <td>0      </td> <td>0   </td> <td>0   </td> <td>0   </td> <td>0    </td> <td>0   </td> <td>0   </td> <td>0.00309597</td> <td>0.00154799</td> <td>0   </td> <td>0   </td> <td>0    </td> <td>0.00154799</td> <td>0      </td> <td>0.00309597</td> <td>0   </td> <td>0    </td> <td>0   </td> <td>0   </td> <td>0    </td> <td>0   </td> <td>0   </td> <td>0   </td> <td>0   </td> <td>0    </td> <td>0   </td> <td>0   </td> <td>0    </td> <td>0   </td> <td>0     </td> <td>0   </td> <td>0   </td> <td>0     </td> <td>0     </td> <td>0   </td> <td>0   </td> <td>0   </td> <td>0   </td> <td>0    </td> <td>0   </td> <td>0   </td> <td>0     </td> <td>0   </td> <td>0    </td> <td>0    </td> <td>0     </td> <td>0   </td> <td>0   </td> <td>0.00154799</td> <td>0    </td> <td>0   </td> <td>0   </td> <td>0   </td> <td>0   </td> <td>0   </td> <td>0.00154799</td> <td>0   </td> <td>0   </td> <td>0   </td> <td>0   </td> <td>0   </td> <td>0     </td> <td>0   </td> <td>0.00154799</td> <td>0   </td> <td>0   </td> <td>0     </td> <td>0   </td> <td>0    </td> <td>0   </td> <td>0   </td> <td>0    </td> <td>0    </td> <td>0     </td> <td>0    </td> <td>0   </td> <td>0   </td> <td>0   </td> <td>0.00154799</td> <td>0    </td> <td>0   </td> <td>0   </td> <td>0    </td> <td>0   </td> <td>0   </td> <td>0    </td> <td>0    </td> <td>0   </td> <td>0   </td> <td>0    </td> <td>0   </td> <td>0    </td> <td>0   </td> <td>0   </td> <td>0   </td> <td>0   </td> <td>0   </td> <td>0.00154799</td> <td>0.00154799</td> <td>0       </td> <td>0      </td> <td>0     </td> <td>0     </td> <td>0.00154799</td> <td>0.00154799</td> <td>0   </td> <td>0   </td> <td>0   </td> <td>0    </td> <td>0   </td> <td>0   </td> <td>0    </td> <td>0    </td> <td>0   </td> <td>0   </td> <td>0   </td> <td>0     </td> <td>0   </td> <td>0    </td> <td>0   </td> <td>0   </td> <td>0.00309597</td> <td>0   </td> <td>0   </td> <td>0   </td> <td>0    </td> <td>0   </td> <td>0.00154799</td> <td>0   </td> <td>0   </td> <td>0   </td> <td>0   </td> <td>0   </td> <td>0.00154799</td> <td>0    </td> <td>0    </td> <td>0   </td> <td>0   </td> <td>0   </td> <td>0   </td> <td>0   </td> <td>0     </td> <td>0   </td> <td>0    </td> <td>0   </td> <td>0    </td> <td>0     </td> <td>0   </td> <td>0    </td> <td>0.00154799</td> <td>0    </td> <td>0     </td> <td>0    </td> <td>0   </td> <td>0   </td> <td>0   </td> <td>0   </td> <td>0    </td> <td>0.00154799</td> <td>0   </td> <td>0   </td> <td>0   </td> <td>0   </td> <td>0   </td> <td>0     </td> <td>0   </td> <td>0     </td> <td>0      </td> <td>0   </td> <td>0    </td> <td>0   </td> <td>0.00154799</td> <td>0   </td> <td>0   </td> <td>0   </td> <td>0   </td> <td>0   </td> <td>0   </td> <td>0   </td> <td>0.00154799</td> <td>0     </td> <td>0.00154799</td> <td>0    </td> <td>0   </td> <td>0    </td> <td>0     </td> <td>0   </td> <td>0    </td> <td>0   </td> <td>0   </td> <td>0   </td> <td>0   </td> <td>0   </td> <td>0    </td> <td>0    </td> <td>0    </td> <td>0    </td> <td>0.00154799</td> <td>0   </td> <td>0   </td> <td>0   </td> <td>0     </td> <td>0   </td> <td>0     </td> <td>0   </td> <td>0     </td> <td>0    </td> <td>0    </td> <td>0   </td> <td>0     </td> <td>0   </td> <td>0   </td> <td>0   </td> <td>0   </td> <td>0     </td> <td>0    </td> <td>0    </td> <td>0   </td> <td>0   </td> <td>0    </td> <td>0       </td> <td>0    </td> <td>0   </td> <td>0   </td> <td>0.00154799</td> <td>0    </td> <td>0   </td> <td>0      </td> <td>0    </td> <td>0     </td> <td>0   </td> <td>0   </td> <td>0   </td> <td>0    </td> <td>0    </td> <td>0   </td> <td>0    </td> <td>0    </td> <td>0   </td> <td>0   </td> <td>0     </td> <td>0     </td> <td>0   </td> <td>0      </td> <td>0    </td> <td>0     </td> <td>0   </td> <td>0   </td> <td>0   </td> <td>0       </td> <td>0    </td> <td>0    </td> <td>0    </td> <td>0   </td> <td>0   </td> <td>0     </td> <td>0   </td> <td>0   </td> <td>0    </td> <td>0   </td> <td>0     </td> <td>0   </td> <td>0   </td> <td>0   </td> <td>0   </td> <td>0   </td> <td>0    </td> <td>0.00154799</td> <td>0    </td> <td>0.00154799</td> <td>0   </td> <td>0   </td> <td>0    </td> <td>0    </td> <td>0   </td> <td>0   </td> <td>0   </td> <td>0     </td> <td>0   </td> <td>0   </td> <td>0   </td> <td>0   </td> <td>0   </td> <td>0   </td> <td>0     </td> <td>0   </td> <td>0   </td> <td>0.0123839</td> <td>0   </td> <td>0   </td> <td>0.00154799</td> <td>0    </td> <td>0   </td> <td>0       </td> <td>0    </td> <td>0    </td> <td>0   </td> <td>0   </td> <td>0    </td> <td>0   </td> <td>0   </td> <td>0   </td> <td>0   </td> <td>0   </td> <td>0    </td> <td>0       </td> <td>0    </td> <td>0   </td> <td>0      </td> <td>0   </td> <td>0   </td> <td>0    </td> <td>0     </td> <td>0     </td> <td>0   </td> <td>0   </td> <td>0   </td> <td>0    </td> <td>0     </td> <td>0   </td> <td>0   </td> <td>0   </td> <td>0   </td> <td>0   </td> <td>0   </td> <td>0   </td> <td>0   </td> <td>0   </td> <td>0   </td> <td>0     </td> <td>0     </td> <td>0     </td> <td>0   </td> <td>0   </td> <td>0   </td> <td>0   </td> <td>0       </td> <td>0   </td> <td>0   </td> <td>0   </td> <td>0   </td> <td>0   </td> <td>0.00154799</td> <td>0    </td> <td>0    </td> <td>0       </td> <td>0   </td> <td>0.00154799</td> <td>0.00309597</td> <td>0   </td> <td>0   </td> <td>0    </td> <td>0   </td> <td>0   </td> <td>0   </td> <td>0    </td> <td>0     </td> <td>0    </td> <td>0   </td> <td>0   </td> <td>0   </td> <td>0   </td> <td>0   </td> <td>0    </td> <td>0   </td> <td>0    </td> <td>0      </td> <td>0     </td> <td>0.00154799</td> <td>0    </td> <td>0   </td> <td>0    </td> <td>0    </td> <td>0   </td> <td>0   </td> <td>0    </td> <td>0   </td> <td>0   </td> <td>0   </td> <td>0   </td> <td>0   </td> <td>0    </td> <td>0.00154799</td> <td>0    </td> <td>0     </td> <td>0    </td> <td>0     </td> <td>0   </td> <td>0   </td> <td>0    </td> <td>0      </td> <td>0    </td> <td>0      </td> <td>0   </td> <td>0     </td> <td>0   </td> <td>0.00154799</td> <td>0     </td> <td>0       </td> <td>0    </td> <td>0    </td> <td>0    </td> <td>0    </td> <td>0    </td> <td>0   </td> <td>0    </td> <td>0    </td> <td>0   </td> <td>0    </td> <td>0   </td> <td>0     </td> <td>0    </td> <td>0    </td> <td>0     </td> <td>0   </td> <td>0   </td> <td>0    </td> <td>0    </td> <td>0   </td> <td>0    </td> <td>0   </td> <td>0   </td> <td>0   </td> <td>0   </td> <td>0   </td> <td>0    </td> <td>0   </td> <td>0    </td> <td>0   </td> <td>0       </td> <td>0    </td> <td>0   </td> <td>0    </td> <td>0   </td> <td>0    </td> <td>0    </td> <td>0    </td> <td>0   </td> <td>0.0123839</td> <td>0      </td> <td>0     </td> <td>0   </td> <td>0    </td> <td>0     </td> <td>0   </td> <td>0     </td> <td>0   </td> <td>0   </td> <td>0   </td> <td>0    </td> <td>0   </td> <td>0.00154799</td> <td>0   </td> <td>0   </td> <td>0    </td> <td>0     </td> <td>0   </td> <td>0     </td> <td>0    </td> <td>0    </td> <td>0     </td> <td>0   </td> <td>0     </td> <td>0   </td> <td>0   </td> <td>0   </td> <td>0    </td> <td>0     </td> <td>0     </td> <td>0   </td> <td>0    </td> <td>0   </td> <td>0    </td> <td>0      </td> <td>0        </td> <td>0   </td> <td>0    </td> <td>0     </td> <td>0   </td> <td>0   </td> <td>0    </td> <td>0    </td> <td>0     </td> <td>0   </td> <td>0   </td> <td>0    </td> <td>0     </td> <td>0   </td> <td>0   </td> <td>0    </td> <td>0   </td> <td>0     </td> <td>0   </td> <td>0   </td> <td>0    </td> <td>0.00154799</td> <td>0    </td> <td>0    </td> <td>0   </td> <td>0   </td> <td>0   </td> <td>0   </td> <td>0   </td> <td>0   </td> <td>0    </td> <td>0     </td> <td>0   </td> <td>0     </td> <td>0   </td> <td>0      </td> <td>0   </td> <td>0.00154799</td> <td>0    </td> <td>0   </td> <td>0    </td> <td>0.00154799</td> <td>0   </td> <td>0   </td> <td>0   </td> <td>0    </td> <td>0   </td> <td>0    </td> <td>0     </td> <td>0    </td> <td>0    </td> <td>0   </td> <td>0   </td> <td>0   </td> <td>0   </td> <td>0   </td> <td>0     </td> <td>0     </td> <td>0   </td> <td>0     </td> <td>0    </td> <td>0    </td> <td>0   </td> <td>0    </td> <td>0     </td> <td>0    </td> <td>0     </td> <td>0   </td> <td>0   </td> <td>0      </td> <td>0    </td> <td>0   </td> <td>0   </td> <td>0    </td> <td>0   </td> <td>0   </td> <td>0   </td> <td>0    </td> <td>0   </td> <td>0    </td> <td>0   </td> <td>0   </td> <td>0    </td> <td>0   </td> <td>0       </td> <td>0     </td> <td>0      </td> <td>0      </td> <td>0     </td> <td>0.00154799</td> <td>0     </td> <td>0     </td> <td>0   </td> <td>0    </td> <td>0      </td> <td>0   </td> <td>0   </td> <td>0   </td> <td>0    </td> <td>0   </td> <td>0   </td> <td>0    </td> <td>0   </td> <td>0   </td> <td>0    </td> <td>0    </td> <td>0   </td> <td>0    </td> <td>0    </td> <td>0    </td> <td>0   </td> <td>0    </td> <td>0     </td> <td>0   </td> <td>0     </td> <td>0   </td> <td>0   </td> <td>0   </td> <td>0   </td> <td>0    </td> <td>0    </td> <td>0     </td> <td>0   </td> <td>0    </td> <td>0   </td> <td>0     </td> <td>0    </td> <td>0    </td> <td>0   </td> <td>0.00154799</td> <td>0   </td> <td>0       </td> <td>0   </td> <td>0   </td> <td>0      </td> <td>0      </td> <td>0      </td> <td>0   </td> <td>0   </td> <td>0   </td> <td>0   </td> <td>0    </td> <td>0   </td> <td>0   </td> <td>0    </td> <td>0   </td> <td>0    </td> <td>0     </td> <td>0    </td> <td>0   </td> <td>0     </td> <td>0   </td> <td>0    </td> <td>0     </td> <td>0   </td> <td>0     </td> <td>0   </td> <td>0   </td> <td>0    </td> <td>0    </td> <td>0   </td> <td>0     </td> <td>0    </td> <td>0   </td> <td>0   </td> <td>0   </td> <td>0    </td> <td>0   </td> <td>0   </td> <td>0   </td> <td>0   </td> <td>0.00309597</td> <td>0    </td> <td>0    </td> <td>0    </td> <td>0    </td> <td>0   </td> <td>0   </td> <td>0   </td> <td>0   </td> <td>0   </td> <td>0     </td> <td>0    </td> <td>0   </td> <td>0   </td> <td>0        </td> <td>0    </td> <td>0   </td> <td>0   </td> <td>0    </td> <td>0   </td> <td>0   </td> <td>0.00154799</td> <td>0   </td> <td>0      </td> <td>0    </td> <td>0    </td> <td>0   </td> <td>0   </td> <td>0      </td> <td>0   </td> <td>0   </td> <td>0    </td> <td>0     </td> <td>0    </td> <td>0   </td> <td>0   </td> <td>0     </td> <td>0   </td> <td>0    </td> <td>0   </td> <td>0   </td> <td>0   </td> <td>0     </td> <td>0   </td> <td>0    </td> <td>0   </td> <td>0   </td> <td>0   </td> <td>0    </td> <td>0   </td> <td>0.00154799</td> <td>0   </td> <td>0.00309597</td> <td>0   </td> <td>0    </td> <td>0   </td> <td>0   </td> <td>0     </td> <td>0   </td> <td>0    </td> <td>0    </td> <td>0     </td> <td>0   </td> <td>0   </td> <td>0     </td> <td>0   </td> <td>0     </td> <td>0   </td> <td>0     </td> <td>0       </td> <td>0   </td> <td>0   </td> <td>0     </td> <td>0   </td> <td>0      </td> <td>0   </td> <td>0     </td> <td>0   </td> <td>0      </td> <td>0   </td> <td>0    </td> <td>0         </td> <td>0   </td> <td>0   </td> <td>0    </td> <td>0     </td> <td>0.00154799</td> <td>0    </td> <td>0   </td> <td>0     </td> <td>0    </td> <td>0   </td> <td>0    </td> <td>0   </td> <td>0    </td> <td>0   </td> <td>0   </td> <td>0   </td> <td>0    </td> <td>0   </td> <td>0   </td> <td>0   </td> <td>0   </td> <td>0   </td> <td>0     </td> <td>0   </td> <td>0   </td> <td>0     </td> <td>0   </td> <td>0   </td> <td>0   </td> <td>0   </td> <td>0     </td> <td>0    </td> <td>0      </td> <td>0   </td> <td>0     </td> <td>0   </td> <td>0   </td> <td>0   </td> <td>0   </td> <td>0    </td> <td>0   </td> <td>0    </td> <td>0    </td> <td>0.00154799</td> <td>0    </td> <td>0      </td> <td>0   </td> <td>0      </td> <td>0      </td> <td>0   </td> <td>0   </td> <td>0   </td> <td>0    </td> <td>0   </td> <td>0    </td> <td>0      </td> <td>0      </td> <td>0    </td> <td>0     </td> <td>0   </td> <td>0   </td> <td>0     </td> <td>0     </td> <td>0   </td> <td>0   </td> <td>0   </td> <td>0   </td> <td>0   </td> <td>0    </td> <td>0   </td> <td>0   </td> <td>0   </td> <td>0   </td> <td>0      </td> <td>0     </td> <td>0    </td> <td>0   </td> <td>0   </td> <td>0   </td> <td>0      </td> <td>0   </td> <td>0   </td> <td>0       </td> <td>0   </td> <td>0    </td> <td>0    </td> <td>0   </td> <td>0   </td> <td>0     </td> <td>0     </td> <td>0   </td> <td>0    </td> <td>0   </td> <td>0   </td> <td>0   </td> <td>0   </td> <td>0       </td> <td>0   </td> <td>0   </td> <td>0   </td> <td>0      </td> <td>0   </td> <td>0   </td> <td>0   </td> <td>0   </td> <td>0    </td> <td>0    </td> <td>0    </td> <td>0    </td> <td>0   </td> <td>0   </td> <td>0    </td> <td>0   </td> <td>0    </td> <td>0      </td> <td>0      </td> <td>0     </td> <td>0      </td> <td>0   </td> <td>0    </td> <td>0   </td> <td>0   </td> <td>0    </td> <td>0    </td> <td>0      </td> <td>0   </td> <td>0   </td> <td>0   </td> <td>0   </td> <td>0   </td> <td>0    </td> <td>0   </td> <td>0       </td> <td>0   </td> <td>0    </td> <td>0    </td> <td>0   </td> <td>0   </td> <td>0   </td> <td>0    </td> <td>0   </td> <td>0    </td> <td>0    </td> <td>0    </td> <td>0      </td> <td>0   </td> <td>0   </td> <td>0   </td> <td>0   </td> <td>0   </td> <td>0    </td> <td>0     </td> <td>0   </td> <td>0   </td> <td>0    </td> <td>0   </td> <td>0   </td> <td>0   </td> <td>0   </td> <td>0   </td> <td>0    </td> <td>0   </td> <td>0   </td> <td>0    </td> <td>0        </td> <td>0       </td> <td>0     </td> <td>0     </td> <td>0     </td> <td>0    </td> <td>0     </td> <td>0     </td> <td>0   </td> <td>0   </td> <td>0   </td> <td>0.00154799</td> <td>0   </td> <td>0   </td> <td>0   </td> <td>0     </td> <td>0    </td> <td>0    </td> <td>0   </td> <td>0     </td> <td>0   </td> <td>0     </td> <td>0    </td> <td>0      </td> <td>0   </td> <td>0   </td> <td>0    </td> <td>0      </td> <td>0   </td> <td>0   </td> <td>0      </td> <td>0     </td> <td>0     </td> <td>0   </td> <td>0   </td> <td>0   </td> <td>0    </td> <td>0   </td> <td>0     </td> <td>0   </td> <td>0    </td> <td>0    </td> <td>0   </td> <td>0   </td> <td>0   </td> <td>0   </td> <td>0     </td> <td>0     </td> <td>0   </td> <td>0   </td> <td>0    </td> <td>0      </td> <td>0      </td> <td>0   </td> <td>0    </td> <td>0   </td> <td>0      </td> <td>0   </td> <td>0   </td> <td>0    </td> <td>0    </td> <td>0   </td> <td>0   </td> <td>0     </td> <td>0.00154799</td> <td>0   </td> <td>0      </td> <td>0      </td> <td>0   </td> <td>0     </td> <td>0     </td> <td>0   </td> <td>0   </td> <td>0   </td> <td>0     </td> <td>0     </td> <td>0   </td> <td>0    </td> <td>0   </td> <td>0    </td> <td>0      </td> <td>0   </td> <td>0   </td> <td>0   </td> <td>0   </td> <td>0     </td> <td>0    </td> <td>0   </td> <td>0     </td> <td>0   </td> <td>0    </td> <td>0    </td> <td>0     </td> <td>0   </td> <td>0      </td> <td>0   </td> <td>0   </td> <td>0   </td> <td>0   </td> <td>0      </td> <td>0     </td> <td>0   </td> <td>0   </td> <td>0   </td> <td>0     </td> <td>0     </td> <td>0   </td> <td>0   </td> <td>0   </td> <td>0   </td> <td>0   </td> <td>0   </td> <td>0   </td> <td>0      </td> <td>0   </td> <td>0   </td> <td>0   </td> <td>0   </td> <td>0   </td> <td>0      </td> <td>0    </td> <td>0         </td> <td>0    </td> <td>0    </td> <td>0      </td> <td>0    </td> <td>0   </td> <td>0   </td> <td>0       </td> <td>0   </td> <td>0   </td> <td>0      </td> <td>0   </td> <td>0   </td> <td>0   </td> <td>0    </td> <td>0   </td> <td>0    </td> <td>0   </td> <td>0    </td> <td>0     </td> <td>0     </td> <td>0   </td> <td>0   </td> <td>0      </td> <td>0   </td> <td>0   </td> <td>0     </td> <td>0     </td> <td>0   </td> <td>0   </td> <td>0   </td> <td>0.00154799</td> <td>0    </td> <td>0   </td> <td>0    </td> <td>0    </td> <td>0    </td> <td>0    </td> <td>0   </td> <td>0   </td> <td>0    </td> <td>0   </td> <td>0     </td> <td>0.00154799</td> <td>0    </td> <td>0    </td> <td>0    </td> <td>0   </td> <td>0   </td> <td>0    </td> <td>0     </td> <td>0      </td> <td>0      </td> <td>0   </td> <td>0   </td> <td>0     </td> <td>0   </td> <td>0    </td> <td>0      </td> <td>0   </td> <td>0    </td> <td>0    </td> <td>0     </td> <td>0   </td> <td>0   </td> <td>0   </td> <td>0      </td> <td>0     </td> <td>0   </td> <td>0   </td> <td>0    </td> <td>0    </td> <td>0    </td> <td>0   </td> <td>0   </td> <td>0   </td> <td>0   </td> <td>0   </td> <td>0    </td> <td>0    </td> <td>0       </td> <td>0     </td> <td>0    </td> <td>0    </td> <td>0    </td> <td>0.00309597</td> <td>0    </td> <td>0         </td> <td>0    </td> <td>0    </td> <td>0   </td> <td>0   </td> <td>0    </td> <td>0     </td> <td>0        </td> <td>0   </td> <td>0   </td> <td>0     </td> <td>0     </td> <td>0   </td> <td>0     </td> <td>0   </td> <td>0     </td> <td>0   </td> <td>0   </td> <td>0   </td> <td>0   </td> <td>0     </td> <td>0   </td> <td>0     </td> <td>0    </td> <td>0   </td> <td>0    </td> <td>0.00154799</td> <td>0   </td> <td>0      </td> <td>0    </td> <td>0   </td> <td>0    </td> <td>0   </td> <td>0   </td> <td>0   </td> <td>0     </td> <td>0    </td> <td>0   </td> <td>0    </td> <td>0     </td> <td>0   </td> <td>0     </td> <td>0       </td> <td>0       </td> <td>0   </td> <td>0   </td> <td>0.00154799</td> <td>0   </td> <td>0     </td> <td>0   </td> <td>0   </td> <td>0    </td> <td>0   </td> <td>0       </td> <td>0   </td> <td>0     </td> <td>0     </td> <td>0    </td> <td>0    </td> <td>0     </td> <td>0   </td> <td>0    </td> <td>0   </td> <td>0   </td> <td>0   </td> <td>0   </td> <td>0   </td> <td>0     </td> <td>0   </td> <td>0     </td> <td>0    </td> <td>0     </td> <td>0   </td> <td>0    </td> <td>0    </td> <td>0     </td> <td>0    </td> <td>0    </td> <td>0   </td> <td>0   </td> <td>0   </td> <td>0    </td> <td>0   </td> <td>0    </td> <td>0   </td> <td>0   </td> <td>0      </td> <td>0    </td> <td>0    </td> <td>0    </td> <td>0   </td> <td>0    </td> <td>0   </td> <td>0   </td> <td>0   </td> <td>0    </td> <td>0   </td> <td>0   </td> <td>0   </td> <td>0   </td> <td>0   </td> <td>0    </td> <td>0     </td> <td>0      </td> <td>0    </td> <td>0    </td> <td>0     </td> <td>0    </td> <td>0     </td> <td>0   </td> <td>0   </td> <td>0     </td> <td>0   </td> <td>0   </td> <td>0    </td> <td>0       </td> <td>0   </td> <td>0     </td> <td>0      </td> <td>0   </td> <td>0    </td> <td>0   </td> <td>0    </td> <td>0    </td> <td>0      </td> <td>0     </td> <td>0   </td> <td>0   </td> <td>0     </td> <td>0      </td> <td>0   </td> <td>0   </td> <td>0    </td> <td>0     </td> <td>0     </td> <td>0   </td> <td>0     </td> <td>0   </td> <td>0    </td> <td>0   </td> <td>0      </td> <td>0    </td> <td>0   </td> <td>0   </td> <td>0      </td> <td>0      </td> <td>0      </td> <td>0   </td> <td>0   </td> <td>0     </td> <td>0   </td> <td>0   </td> <td>0   </td> <td>0   </td> <td>0    </td> <td>0     </td> <td>0     </td> <td>0    </td> <td>0      </td> <td>0      </td> <td>0    </td> <td>0     </td> <td>0   </td> <td>0   </td> <td>0   </td> <td>0   </td> <td>0    </td> <td>0    </td> <td>0   </td> <td>0   </td> <td>0     </td> <td>0   </td> <td>0      </td> <td>0    </td> <td>0   </td> <td>0       </td> <td>0     </td> <td>0    </td> <td>0   </td> <td>0   </td> <td>0   </td> <td>0      </td> <td>0      </td> <td>0    </td> <td>0      </td> <td>0   </td> <td>0    </td> <td>0     </td> <td>0    </td> <td>0   </td> <td>0    </td> <td>0   </td> <td>0    </td> <td>0   </td> <td>0      </td> <td>0   </td> <td>0   </td> <td>0     </td> <td>0.00154799</td> <td>0     </td> <td>0.00154799</td> <td>0   </td> <td>0   </td> <td>0   </td> <td>0     </td> <td>0   </td> <td>0     </td> <td>0       </td> <td>0   </td> <td>0    </td> <td>0   </td> <td>0   </td> <td>0     </td> <td>0     </td> <td>0   </td> <td>0   </td> <td>0   </td> <td>0   </td> <td>0    </td> <td>0   </td> <td>0     </td> <td>0   </td> <td>0   </td> <td>0   </td> <td>0   </td> <td>0   </td> <td>0   </td> <td>0   </td> <td>0   </td> <td>0    </td> <td>0     </td> <td>0     </td> <td>0    </td> <td>0     </td> <td>0    </td> <td>0   </td> <td>0     </td> <td>0   </td> <td>0      </td> <td>0   </td> <td>0   </td> <td>0   </td> <td>0      </td> <td>0   </td> <td>0   </td> <td>0   </td> <td>0   </td> <td>0       </td> <td>0   </td> <td>0     </td> <td>0       </td> <td>0      </td> <td>0     </td> <td>0   </td> <td>0   </td> <td>0   </td> <td>0   </td> <td>0   </td> <td>0    </td> <td>0   </td> <td>0    </td> <td>0    </td> <td>0     </td> <td>0   </td> <td>0   </td> <td>0    </td> <td>0     </td> <td>0    </td> <td>0     </td> <td>0   </td> <td>0    </td> <td>0   </td> <td>0    </td> <td>0.00154799</td> <td>0    </td> <td>0    </td> <td>0   </td> <td>0     </td> <td>0   </td> <td>0      </td> <td>0   </td> <td>0      </td> <td>0      </td> <td>0   </td> <td>0   </td> <td>0   </td> <td>0    </td> <td>0      </td> <td>0   </td> <td>0     </td> <td>0     </td> <td>0      </td> <td>0   </td> <td>0   </td> <td>0   </td> <td>0   </td> <td>0    </td> <td>0       </td> <td>0    </td> <td>0       </td> <td>0    </td> <td>0     </td> <td>0   </td> <td>0    </td> <td>0    </td> <td>0   </td> <td>0   </td> <td>0   </td> <td>0      </td> <td>0    </td> <td>0    </td> <td>0   </td> <td>0    </td> <td>0     </td> <td>0    </td> <td>0   </td> <td>0      </td> <td>0   </td> <td>0   </td> <td>0   </td> <td>0        </td> <td>0    </td> <td>0   </td> <td>0   </td> <td>0     </td> <td>0   </td> <td>0     </td> <td>0     </td> <td>0   </td> <td>0    </td> <td>0   </td> <td>0   </td> <td>0    </td> <td>0    </td> <td>0    </td> <td>0    </td> <td>0    </td> <td>0   </td> <td>0   </td> <td>0      </td> <td>0   </td> <td>0   </td> <td>0     </td> <td>0       </td> <td>0   </td> <td>0   </td> <td>0   </td> <td>0     </td> <td>0     </td> <td>0   </td> <td>0   </td> <td>0   </td> <td>0     </td> <td>0      </td> <td>0    </td> <td>0          </td> <td>0    </td> <td>0     </td> <td>0    </td> <td>0    </td> <td>0   </td> <td>0   </td> <td>0   </td> <td>0   </td> <td>0   </td> <td>0     </td> <td>0   </td> <td>0   </td> <td>0   </td> <td>0    </td> <td>0.00154799</td> <td>0    </td> <td>0     </td> <td>0   </td> <td>0    </td> <td>0     </td> <td>0    </td> <td>0    </td> <td>0     </td> <td>0       </td> <td>0   </td> <td>0   </td> <td>0   </td> <td>0     </td> <td>0      </td> <td>0       </td> <td>0   </td> <td>0   </td> <td>0   </td> <td>0   </td> <td>0    </td> <td>0   </td> <td>0   </td> <td>0   </td> <td>0    </td> <td>0   </td> <td>0   </td> <td>0    </td> <td>0   </td> <td>0     </td> <td>0      </td> <td>0    </td> <td>0     </td> <td>0   </td> <td>0    </td> <td>0   </td> <td>0   </td> <td>0   </td> <td>0   </td> <td>0   </td> <td>0   </td> <td>0   </td> <td>0   </td> <td>0      </td> <td>0   </td> <td>0      </td> <td>0      </td> <td>0     </td> <td>0   </td> <td>0     </td> <td>0   </td> <td>0    </td> <td>0     </td> <td>0     </td> <td>0   </td> <td>0   </td> <td>0   </td> <td>0   </td> <td>0    </td> <td>0    </td> <td>0   </td> <td>0.00154799</td> <td>0   </td> <td>0   </td> <td>0    </td> <td>0   </td> <td>0     </td> <td>0   </td> <td>0      </td> <td>0   </td> <td>0     </td> <td>0   </td> <td>0    </td> <td>0   </td> <td>0   </td> <td>0     </td> <td>0   </td> <td>0    </td> <td>0   </td> <td>0     </td> <td>0      </td> <td>0   </td> <td>0.00154799</td> <td>0     </td> <td>0     </td> <td>0    </td> <td>0    </td> <td>0   </td> <td>0   </td> <td>0    </td> <td>0    </td> <td>0   </td> <td>0   </td> <td>0   </td> <td>0   </td> <td>0    </td> <td>0      </td> <td>0   </td> <td>0    </td> <td>0    </td> <td>0    </td> <td>0     </td> <td>0   </td> <td>0    </td> <td>0   </td> <td>0   </td> <td>0      </td> <td>0     </td> <td>0    </td> <td>0     </td> <td>0    </td> <td>0     </td> <td>0     </td> <td>0   </td> <td>0       </td> <td>0   </td> <td>0    </td> <td>0   </td> <td>0    </td> <td>0   </td> <td>0    </td> <td>0   </td> <td>0   </td> <td>0   </td> <td>0   </td> <td>0    </td> <td>0   </td> <td>0     </td> <td>0        </td> <td>0   </td> <td>0    </td> <td>0   </td> <td>0   </td> <td>0.00154799</td> <td>0   </td> <td>0    </td> <td>0    </td> <td>0       </td> <td>0     </td> <td>0      </td> <td>0    </td> <td>0   </td> <td>0    </td> <td>0   </td> <td>0     </td> <td>0   </td> <td>0    </td> <td>0      </td> <td>0      </td> <td>0   </td> <td>0       </td> <td>0    </td> <td>0     </td> <td>0   </td> <td>0   </td> <td>0   </td> <td>0      </td> <td>0   </td> <td>0   </td> <td>0     </td> <td>0     </td> <td>0   </td> <td>0    </td> <td>0    </td> <td>0   </td> <td>0   </td> <td>0   </td> <td>0   </td> <td>0   </td> <td>0      </td> <td>0    </td> <td>0     </td> <td>0    </td> <td>0   </td> <td>0   </td> <td>0    </td> <td>0.00154799</td> <td>0     </td> <td>0     </td> <td>0   </td> <td>0       </td> <td>0    </td> <td>0   </td> <td>0    </td> <td>0    </td> <td>0      </td> <td>0         </td> <td>0   </td> <td>0      </td> <td>0    </td> <td>0   </td> <td>0    </td> <td>0     </td> <td>0   </td> <td>0    </td> <td>0    </td> <td>0   </td> <td>0    </td> <td>0     </td> <td>0   </td> <td>0   </td> <td>0    </td> <td>0    </td> <td>0    </td> <td>0     </td> <td>0    </td> <td>0     </td> <td>0     </td> <td>0    </td> <td>0    </td> <td>0     </td> <td>0   </td> <td>0     </td> <td>0     </td> <td>0         </td> <td>0    </td> <td>0      </td> <td>0   </td> <td>0      </td> <td>0     </td> <td>0    </td> <td>0   </td> <td>0    </td> <td>0   </td> <td>0    </td> <td>0   </td> <td>0    </td> <td>0   </td> <td>0    </td> <td>0    </td> <td>0     </td> <td>0    </td> <td>0   </td> <td>0      </td> <td>0    </td> <td>0     </td> <td>0   </td> <td>0      </td> <td>0   </td> <td>0      </td> <td>0     </td> <td>0     </td> <td>0   </td> <td>0    </td> <td>0   </td> <td>0   </td> <td>0   </td> <td>0    </td> <td>0   </td> <td>0       </td> <td>0       </td> <td>0      </td> <td>0   </td> <td>0       </td> <td>0    </td> <td>0   </td> <td>0   </td> <td>0    </td> <td>0     </td> <td>0    </td> <td>0   </td> <td>0     </td> <td>0   </td> <td>0     </td> <td>0    </td> <td>0    </td> <td>0   </td> <td>0   </td> <td>0     </td> <td>0    </td> <td>0   </td> <td>0    </td> <td>0   </td> <td>0     </td> <td>0     </td> <td>0   </td> <td>0    </td> <td>0    </td> <td>0      </td> <td>0   </td> <td>0      </td> <td>0      </td> <td>0     </td> <td>0   </td> <td>0   </td> <td>0     </td> <td>0     </td> <td>0     </td> <td>0    </td> <td>0   </td> <td>0     </td> <td>0     </td> <td>0   </td> <td>0       </td> <td>0    </td> <td>0    </td> <td>0   </td> <td>0   </td> <td>0   </td> <td>0      </td> <td>0   </td> <td>0     </td> <td>0     </td> <td>0     </td> <td>0      </td> <td>0      </td> <td>0   </td> <td>0   </td> <td>0   </td> <td>0   </td> <td>0    </td> <td>0     </td> <td>0   </td> <td>0    </td> <td>0    </td> <td>0   </td> <td>0     </td> <td>0     </td> <td>0   </td> <td>0      </td> <td>0     </td> <td>0   </td> <td>0    </td> <td>0     </td> <td>0   </td> <td>0     </td> <td>0      </td> <td>0   </td> <td>0   </td> <td>0   </td> <td>0    </td> <td>0   </td> <td>0     </td> <td>0     </td> <td>0   </td> <td>0   </td> <td>0   </td> <td>0   </td> <td>0   </td> <td>0   </td> <td>0       </td> <td>0   </td> <td>0     </td> <td>0     </td> <td>0     </td> <td>0     </td> <td>0       </td> <td>0     </td> <td>0    </td> <td>0     </td> <td>0   </td> <td>0   </td> <td>0   </td> <td>0    </td> <td>0   </td> <td>0   </td> <td>0   </td> <td>0   </td> <td>0   </td> <td>0    </td> <td>0    </td> <td>0   </td> <td>0   </td> <td>0    </td> <td>0   </td> <td>0   </td> <td>0       </td> <td>0     </td> <td>0     </td> <td>0   </td> <td>0     </td> <td>0    </td> <td>0       </td> <td>0   </td> <td>0   </td> <td>0   </td> <td>0     </td> <td>0.00154799</td> <td>0     </td> <td>0   </td> <td>0     </td> <td>0    </td> <td>0   </td> <td>0   </td> <td>0   </td> <td>0      </td> <td>0   </td> <td>0      </td> <td>0    </td> <td>0     </td> <td>0      </td> <td>0   </td> <td>0    </td> <td>0.00309597</td> <td>0   </td> <td>0      </td> <td>0     </td> <td>0   </td> <td>0      </td> <td>0   </td> <td>0      </td> <td>0    </td> <td>0    </td> <td>0   </td> <td>0    </td> <td>0      </td> <td>0   </td> <td>0     </td> <td>0     </td> <td>0    </td> <td>0        </td> <td>0   </td> <td>0   </td> <td>0    </td> <td>0     </td> <td>0    </td> <td>0        </td> <td>0    </td> <td>0     </td> <td>0   </td> <td>0     </td> <td>0     </td> <td>0   </td> <td>0   </td> <td>0    </td> <td>0   </td> <td>0      </td> <td>0    </td> <td>0    </td> <td>0      </td> <td>0    </td> <td>0      </td> <td>0   </td> <td>0    </td> <td>0   </td> <td>0   </td> <td>0   </td> <td>0    </td> <td>0   </td> <td>0     </td> <td>0   </td> <td>0    </td> <td>0     </td> <td>0   </td> <td>0    </td> <td>0      </td> <td>0   </td> <td>0   </td> <td>0       </td> <td>0   </td> <td>0   </td> <td>0   </td> <td>0   </td> <td>0   </td> <td>0   </td> <td>0   </td> <td>0        </td> <td>0   </td> <td>0        </td> <td>0    </td> <td>0    </td> <td>0    </td> <td>0   </td> <td>0   </td> <td>0     </td> <td>0    </td> <td>0     </td> <td>0   </td> <td>0   </td> <td>0    </td> <td>0     </td> <td>0   </td> <td>0      </td> <td>0    </td> <td>0     </td> <td>0    </td> <td>0    </td> <td>0     </td> <td>0        </td> <td>0   </td> <td>0   </td> <td>0      </td> <td>0    </td> <td>0     </td> <td>0    </td> <td>0    </td> <td>0   </td> <td>0    </td> <td>0   </td> <td>0   </td> <td>0    </td> <td>0   </td> <td>0   </td> <td>0   </td> <td>0   </td> <td>0     </td> <td>0   </td> <td>0     </td> <td>0   </td> <td>0    </td> <td>0   </td> <td>0    </td> <td>0   </td> <td>0   </td> <td>0   </td> <td>0     </td> <td>0   </td> <td>0   </td> <td>0    </td> <td>0    </td> <td>0     </td> <td>0    </td> <td>0   </td> <td>0     </td> <td>0     </td> <td>0      </td> <td>0   </td> <td>0   </td> <td>0    </td> <td>0      </td> <td>0    </td> <td>0    </td> <td>0      </td> <td>0     </td> <td>0    </td> <td>0    </td> <td>0   </td> <td>0    </td> <td>0    </td> <td>0   </td> <td>0    </td> <td>0   </td> <td>0   </td> <td>0   </td> <td>0    </td> <td>0   </td> <td>0       </td> <td>0     </td> <td>0   </td> <td>0    </td> <td>0   </td> <td>0.00154799</td> <td>0     </td> <td>0      </td> <td>0   </td> <td>0     </td> <td>0   </td> <td>0    </td> <td>0     </td> <td>0   </td> <td>0    </td> <td>0    </td> <td>0   </td> <td>0   </td> <td>0     </td> <td>0    </td> <td>0     </td> <td>0     </td> <td>0    </td> <td>0     </td> <td>0    </td> <td>0    </td> <td>0   </td> <td>0    </td> <td>0    </td> <td>0      </td> <td>0     </td> <td>0   </td> <td>0   </td> <td>0     </td> <td>0    </td> <td>0   </td> <td>0   </td> <td>0      </td> <td>0       </td> <td>0      </td> <td>0     </td> <td>0   </td> <td>0    </td> <td>0      </td> <td>0    </td> <td>0   </td> <td>0    </td> <td>0     </td> <td>0      </td> <td>0      </td> <td>0   </td> <td>0       </td> <td>0      </td> <td>0    </td> <td>0   </td> <td>0   </td> <td>0       </td> <td>0   </td> <td>0      </td> <td>0   </td> <td>0   </td> <td>0    </td> <td>0   </td> <td>0   </td> <td>0    </td> <td>0     </td> <td>0    </td> <td>0    </td> <td>0    </td> <td>0    </td> <td>0   </td> <td>0     </td> <td>0    </td> <td>0   </td> <td>0.00154799</td> <td>0    </td> <td>0   </td> <td>0   </td> <td>0    </td> <td>0   </td> <td>0     </td> <td>0   </td> <td>0   </td> <td>0   </td> <td>0    </td> <td>0       </td> <td>0     </td> <td>0    </td> <td>0   </td> <td>0    </td> <td>0    </td> <td>0   </td> <td>0      </td> <td>0    </td> <td>0     </td> <td>0       </td> <td>0   </td> <td>0   </td> <td>0      </td> <td>0       </td> <td>0     </td> <td>0    </td> <td>0   </td> <td>0   </td> <td>0   </td> <td>0    </td> <td>0    </td> <td>0   </td> <td>0   </td> <td>0    </td> <td>0    </td> <td>0        </td> <td>0   </td> <td>0    </td> <td>0   </td> <td>0      </td> <td>0      </td> <td>0    </td> <td>0   </td> <td>0     </td> <td>0       </td> <td>0       </td> <td>0   </td> <td>0   </td> <td>0      </td> <td>0      </td> <td>0     </td> <td>0       </td> <td>0      </td> <td>0   </td> <td>0   </td> <td>0     </td> <td>0    </td> <td>0    </td> <td>0     </td> <td>0         </td> <td>0   </td> <td>0   </td> <td>0      </td> <td>0    </td> <td>0   </td> <td>0   </td> <td>0   </td> <td>0   </td> <td>0    </td> <td>0   </td> <td>0   </td> <td>0    </td> <td>0   </td> <td>0   </td> <td>0       </td> <td>0   </td> <td>0    </td> <td>0    </td> <td>0    </td> <td>0       </td> <td>0   </td> <td>0      </td> <td>0        </td> <td>0    </td> <td>0   </td> <td>0    </td> <td>0      </td> <td>0   </td> <td>0     </td> <td>0    </td> <td>0    </td> <td>0      </td> <td>0    </td> <td>0   </td> <td>0   </td> <td>0     </td> <td>0      </td> <td>0   </td> <td>0    </td> <td>0    </td> <td>0     </td> <td>0     </td> <td>0     </td> <td>0     </td> <td>0     </td> <td>0    </td> <td>0   </td> <td>0   </td> <td>0    </td> <td>0         </td> <td>0   </td> <td>0      </td> <td>0    </td> <td>0    </td> <td>0   </td> <td>0     </td> <td>0     </td> <td>0   </td> <td>0   </td> <td>0   </td> <td>0   </td> <td>0   </td> <td>0       </td> <td>0   </td> <td>0      </td> <td>0     </td> <td>0    </td> <td>0    </td> <td>0    </td> <td>0   </td> <td>0    </td> <td>0   </td> <td>0    </td> <td>0    </td> <td>0   </td> <td>0     </td> <td>0   </td> <td>0      </td> <td>0      </td> <td>0    </td> <td>0   </td> <td>0    </td> <td>0       </td> <td>0   </td> <td>0    </td> <td>0   </td> <td>0   </td> <td>0      </td> <td>0   </td> <td>0      </td> <td>0      </td> <td>0    </td> <td>0   </td> <td>0      </td> <td>0   </td> <td>0.00154799</td> <td>0     </td> <td>0    </td> <td>0    </td> <td>0   </td> <td>0     </td> <td>0      </td> <td>0        </td> <td>0       </td> <td>0   </td> <td>0   </td> <td>0     </td> <td>0     </td> <td>0     </td> <td>0    </td> <td>0   </td> <td>0       </td> <td>0    </td> <td>0    </td> <td>0    </td> <td>0    </td> <td>0.00154799</td> <td>0   </td> <td>0   </td> <td>0    </td> <td>0   </td> <td>0   </td> <td>0   </td> <td>0   </td> <td>0     </td> <td>0   </td> <td>0   </td> <td>0      </td> <td>0     </td> <td>0      </td> <td>0     </td> <td>0     </td> <td>0   </td> <td>0    </td> <td>0     </td> <td>0   </td> <td>0    </td> <td>0    </td> <td>0   </td> <td>0   </td> <td>0   </td> <td>0     </td> <td>0   </td> <td>0     </td> <td>0      </td> <td>0   </td> <td>0    </td> <td>0       </td> <td>0     </td> <td>0   </td> <td>0    </td> <td>0   </td> <td>0   </td> <td>0      </td> <td>0   </td> <td>0   </td> <td>0      </td> <td>0   </td> <td>0   </td> <td>0     </td> <td>0    </td> <td>0      </td> <td>0    </td> <td>0   </td> <td>0       </td> <td>0   </td> <td>0   </td> <td>0.00154799</td> <td>0   </td> <td>0     </td> <td>0      </td> <td>0    </td> <td>0   </td> <td>0      </td> <td>0      </td> <td>0    </td> <td>0    </td> <td>0     </td> <td>0   </td> <td>0   </td> <td>0    </td> <td>0    </td> <td>0   </td> <td>0    </td> <td>0   </td> <td>0      </td> <td>0   </td> <td>0.00154799</td> <td>0   </td> <td>0     </td> <td>0    </td> <td>0   </td> <td>0   </td> <td>0   </td> <td>0    </td> <td>0   </td> <td>0     </td> <td>0   </td> <td>0   </td> <td>0   </td> <td>0     </td> <td>0   </td> <td>0   </td> <td>0      </td> <td>0       </td> <td>0       </td> <td>0     </td> <td>0    </td> <td>0       </td> <td>0     </td> <td>0   </td> <td>0   </td> <td>0     </td> <td>0    </td> <td>0       </td> <td>0    </td> <td>0    </td> <td>0      </td> <td>0      </td> <td>0   </td> <td>0       </td> <td>0      </td> <td>0    </td> <td>0   </td> <td>0   </td> <td>0   </td> <td>0        </td> <td>0    </td> <td>0         </td> <td>0   </td> <td>0   </td> <td>0   </td> <td>0    </td> <td>0   </td> <td>0   </td> <td>0       </td> <td>0    </td> <td>0   </td> <td>0   </td> <td>0     </td> <td>0   </td> <td>0   </td> <td>0     </td> <td>0      </td> <td>0   </td> <td>0     </td> <td>0   </td> <td>0    </td> <td>0      </td> <td>0     </td> <td>0   </td> <td>0     </td> <td>0     </td> <td>0   </td> <td>0   </td> <td>0    </td> <td>0    </td> <td>0      </td> <td>0   </td> <td>0   </td> <td>0   </td> <td>0.00154799</td> <td>0      </td> <td>0    </td> <td>0   </td> <td>0   </td> <td>0     </td> <td>0      </td> <td>0     </td> <td>0     </td> <td>0    </td> <td>0   </td> <td>0    </td> <td>0    </td> <td>0     </td> <td>0    </td> <td>0     </td> <td>0   </td> <td>0      </td> <td>0   </td> <td>0     </td> <td>0   </td> <td>0   </td> <td>0   </td> <td>0    </td> <td>0    </td> <td>0    </td> <td>0     </td> <td>0   </td> <td>0     </td> <td>0   </td> <td>0    </td> <td>0      </td> <td>0   </td> <td>0     </td> <td>0     </td> <td>0        </td> <td>0     </td> <td>0    </td> <td>0    </td> <td>0    </td> <td>0      </td> <td>0   </td> <td>0       </td> <td>0   </td> <td>0   </td> <td>0    </td> <td>0   </td> <td>0      </td> <td>0     </td> <td>0   </td> <td>0    </td> <td>0    </td> <td>0     </td> <td>0     </td> <td>0   </td> <td>0    </td> <td>0   </td> <td>0         </td> <td>0       </td> <td>0      </td> <td>0     </td> <td>0   </td> <td>0   </td> <td>0        </td> <td>0    </td> <td>0    </td> <td>0     </td> <td>0   </td> <td>0   </td> <td>0   </td> <td>0   </td> <td>0   </td> <td>0    </td> <td>0    </td> <td>0      </td> <td>0    </td> <td>0     </td> <td>0   </td> <td>0   </td> <td>0   </td> <td>0    </td> <td>0   </td> <td>0   </td> <td>0     </td> <td>0     </td> <td>0   </td> <td>0   </td> <td>0   </td> <td>0    </td> <td>0     </td> <td>0     </td> <td>0    </td> <td>0     </td> <td>0   </td> <td>0    </td> <td>0   </td> <td>0   </td> <td>0     </td> <td>0      </td> <td>0    </td> <td>0    </td> <td>0     </td> <td>0    </td> <td>0   </td> <td>0      </td> <td>0    </td> <td>0     </td> <td>0   </td> <td>0   </td> <td>0    </td> <td>0   </td> <td>0    </td> <td>0    </td> <td>0   </td> <td>0   </td> <td>0     </td> <td>0   </td> <td>0    </td> <td>0   </td> <td>0    </td> <td>0   </td> <td>0   </td> <td>0   </td> <td>0     </td> <td>0    </td> <td>0    </td> <td>0    </td> <td>0        </td> <td>0    </td> <td>0      </td> <td>0   </td> <td>0   </td> <td>0    </td> <td>0    </td> <td>0      </td> <td>0    </td> <td>0     </td> <td>0    </td> <td>0   </td> <td>0     </td> <td>0    </td> <td>0    </td> <td>0   </td> <td>0   </td> <td>0    </td> <td>0    </td> <td>0    </td> <td>0      </td> <td>0     </td> <td>0   </td> <td>0   </td> <td>0     </td> <td>0     </td> <td>0    </td> <td>0   </td> <td>0     </td> <td>0   </td> <td>0     </td> <td>0   </td> <td>0   </td> <td>0     </td> <td>0   </td> <td>0     </td> <td>0       </td> <td>0   </td> <td>0     </td> <td>0   </td> <td>0    </td> <td>0     </td> <td>0    </td> <td>0   </td> <td>0       </td> <td>0      </td> <td>0    </td> <td>0     </td> <td>0   </td> <td>0    </td> <td>0   </td> <td>0        </td> <td>0      </td> <td>0   </td> <td>0    </td> <td>0.00154799</td> <td>0   </td> <td>0   </td> <td>0      </td> <td>0   </td> <td>0   </td> <td>0      </td> <td>0   </td> <td>0    </td> <td>0   </td> <td>0    </td> <td>0   </td> <td>0    </td> <td>0        </td> <td>0   </td> <td>0   </td> <td>0   </td> <td>0   </td> <td>0    </td> <td>0        </td> <td>0     </td> <td>0    </td> <td>0    </td> <td>0   </td> <td>0      </td> <td>0    </td> <td>0   </td> <td>0    </td> <td>0    </td> <td>0   </td> <td>0    </td> <td>0   </td> <td>0   </td> <td>0   </td> <td>0   </td> <td>0      </td> <td>0      </td> <td>0   </td> <td>0     </td> <td>0        </td> <td>0    </td> <td>0    </td> <td>0   </td> <td>0      </td> <td>0   </td> <td>0     </td> <td>0    </td> <td>0     </td> <td>0     </td> <td>0   </td> <td>0     </td> <td>0      </td> <td>0    </td> <td>0     </td> <td>0    </td> <td>0   </td> <td>0    </td> <td>0    </td> <td>0     </td> <td>0   </td> <td>0     </td> <td>0   </td> <td>0   </td> <td>0    </td> <td>0   </td> <td>0   </td> <td>0    </td> <td>0   </td> <td>0    </td> <td>0    </td> <td>0        </td> <td>0     </td> <td>0   </td> <td>0    </td> <td>0      </td> <td>0     </td> <td>0       </td> <td>0     </td> <td>0   </td> <td>0   </td> <td>0     </td> <td>0     </td> <td>0     </td> <td>0   </td> <td>0      </td> <td>0     </td> <td>0   </td> <td>0   </td> <td>0    </td> <td>0     </td> <td>0    </td> <td>0    </td> <td>0     </td> <td>0    </td> <td>0   </td> <td>0     </td> <td>0    </td> <td>0      </td> <td>0   </td> <td>0    </td> <td>0   </td> <td>0     </td> <td>0       </td> <td>0   </td> <td>0    </td> <td>0   </td> <td>0   </td> <td>0    </td> <td>0      </td> <td>0     </td> <td>0   </td> <td>0    </td> <td>0   </td> <td>0   </td> <td>0     </td> <td>0    </td> <td>0   </td> <td>0    </td> <td>0     </td> <td>0   </td> <td>0   </td> <td>0   </td> <td>0     </td> <td>0    </td> <td>0   </td> <td>0    </td> <td>0    </td> <td>0   </td> <td>0    </td> <td>0   </td> <td>0    </td> <td>0       </td> <td>0      </td> <td>0   </td> <td>0      </td> <td>0     </td> <td>0      </td> <td>0    </td> <td>0    </td> <td>0   </td> <td>0   </td> <td>0     </td> <td>0     </td> <td>0   </td> <td>0   </td> <td>0    </td> <td>0     </td> <td>0   </td> <td>0   </td> <td>0   </td> <td>0    </td> <td>0    </td> <td>0      </td> <td>0    </td> <td>0     </td> <td>0      </td> <td>0   </td> <td>0   </td> <td>0     </td> <td>0   </td> <td>0     </td> <td>0    </td> <td>0   </td> <td>0    </td> <td>0     </td> <td>0     </td> <td>0      </td> <td>0     </td> <td>0     </td> <td>0    </td> <td>0     </td> <td>0      </td> <td>0    </td> <td>0    </td> <td>0      </td> <td>0      </td> <td>0     </td> <td>0      </td> <td>0    </td> <td>0        </td> <td>0      </td> <td>0   </td> <td>0   </td> <td>0   </td> <td>0     </td> <td>0     </td> <td>0     </td> <td>0     </td> <td>0   </td> <td>0   </td> <td>0   </td> <td>0   </td> <td>0   </td> <td>0     </td> <td>0    </td> <td>0       </td> <td>0   </td> <td>0   </td> <td>0    </td> <td>0   </td> <td>0      </td> <td>0    </td> <td>0       </td> <td>0      </td> <td>0     </td> <td>0     </td> <td>0   </td> <td>0   </td> <td>0    </td> <td>0    </td> <td>0       </td> <td>0     </td> <td>0    </td> <td>0       </td> <td>0     </td> <td>0    </td> <td>0    </td> <td>0   </td> <td>0   </td> <td>0   </td> <td>0    </td> <td>0     </td> <td>0   </td> <td>0      </td> <td>0      </td> <td>0   </td> <td>0     </td> <td>0     </td> <td>0     </td> <td>0      </td> <td>0      </td> <td>0    </td> <td>0   </td> <td>0   </td> <td>0   </td> <td>0   </td> <td>0     </td> <td>0    </td> <td>0     </td> <td>0    </td> <td>0     </td> <td>0      </td> <td>0      </td> <td>0    </td> <td>0   </td> <td>0   </td> <td>0      </td> <td>0     </td> <td>0    </td> <td>0     </td> <td>0    </td> <td>0   </td> <td>0      </td> <td>0    </td> <td>0   </td> <td>0    </td> <td>0   </td> <td>0      </td> <td>0     </td> <td>0   </td> <td>0   </td> <td>0    </td> <td>0    </td> <td>0   </td> <td>0   </td> <td>0       </td> <td>0    </td> <td>0    </td> <td>0   </td> <td>0   </td> <td>0    </td> <td>0     </td> <td>0       </td> <td>0    </td> <td>0        </td> <td>0    </td> <td>0      </td> <td>0     </td> <td>0     </td> <td>0      </td> <td>0       </td> <td>0     </td> <td>0     </td> <td>0          </td> <td>0         </td> <td>0   </td> <td>0    </td> <td>0    </td> <td>0   </td> <td>0   </td> <td>0       </td> <td>0     </td> <td>0    </td> <td>0   </td> <td>0   </td> <td>0   </td> <td>0    </td> <td>0    </td> <td>0     </td> <td>0   </td> <td>0      </td> <td>0      </td> <td>0   </td> <td>0   </td> <td>0   </td> <td>0    </td> <td>0    </td> <td>0   </td> <td>0    </td> <td>0   </td> <td>0   </td> <td>0    </td> <td>0   </td> <td>0    </td> <td>0     </td> <td>0      </td> <td>0    </td> <td>0   </td> <td>0    </td> <td>0    </td> <td>0   </td> <td>0     </td> <td>0    </td> <td>0    </td> <td>0   </td> <td>0     </td> <td>0      </td> <td>0   </td> <td>0    </td> <td>0   </td> <td>0   </td> <td>0    </td> <td>0      </td> <td>0   </td> <td>0   </td> <td>0   </td> <td>0   </td> <td>0     </td> <td>0   </td> <td>0    </td> <td>0     </td> <td>0      </td> <td>0   </td> <td>0   </td> <td>0   </td> <td>0    </td> <td>0   </td> <td>0   </td> <td>0     </td> <td>0   </td> <td>0    </td> <td>0   </td> <td>0    </td> <td>0     </td> <td>0   </td> <td>0     </td> <td>0     </td> <td>0   </td> <td>0    </td> <td>0     </td> <td>0   </td> <td>0      </td> <td>0   </td> <td>0         </td> <td>0      </td> <td>0   </td> <td>0    </td> <td>0   </td> <td>0   </td> <td>0    </td> <td>0      </td> <td>0      </td> <td>0    </td> <td>0   </td> <td>0      </td> <td>0    </td> <td>0    </td> <td>0   </td> <td>0    </td> <td>0    </td> <td>0    </td> <td>0       </td> <td>0     </td> <td>0       </td> <td>0     </td> <td>0   </td> <td>0   </td> <td>0    </td> <td>0   </td> <td>0    </td> <td>0     </td> <td>0   </td> <td>0     </td> <td>0      </td> <td>0    </td> <td>0    </td> <td>0   </td> <td>0    </td> <td>0   </td> <td>0     </td> <td>0    </td> <td>0      </td> <td>0   </td> <td>0     </td> <td>0      </td> <td>0   </td> <td>0     </td> <td>0   </td> <td>0    </td> <td>0      </td> <td>0     </td> <td>0     </td> <td>0      </td> <td>0   </td> <td>0   </td> <td>0    </td> <td>0    </td> <td>0   </td> <td>0    </td> <td>0     </td> <td>0        </td> <td>0   </td> <td>0   </td> <td>0      </td> <td>0    </td> <td>0   </td> <td>0    </td> <td>0        </td> <td>0   </td> <td>0   </td> <td>0   </td> <td>0   </td> <td>0    </td> <td>0   </td> <td>0      </td> <td>0     </td> <td>0   </td> <td>0   </td> <td>0      </td> <td>0    </td> <td>0   </td> <td>0    </td> <td>0     </td> <td>0    </td> <td>0.00154799</td> <td>0     </td> <td>0    </td> <td>0   </td> <td>0   </td> <td>0   </td> <td>0     </td> <td>0    </td> <td>0    </td> <td>0    </td> <td>0    </td> <td>0   </td> <td>0    </td> <td>0       </td> <td>0    </td> <td>0   </td> <td>0   </td> <td>0    </td> <td>0   </td> <td>0   </td> <td>0      </td> <td>0   </td> <td>0   </td> <td>0   </td> <td>0     </td> <td>0    </td> <td>0       </td> <td>0   </td> <td>0     </td> <td>0     </td> <td>0    </td> <td>0     </td> <td>0   </td> <td>0      </td> <td>0   </td> <td>0   </td> <td>0   </td> <td>0      </td> <td>0.00154799</td> <td>0   </td> <td>0         </td> <td>0   </td> <td>0     </td> <td>0       </td> <td>0     </td> <td>0   </td> <td>0     </td> <td>0   </td> <td>0   </td> <td>0   </td> <td>0      </td> <td>0    </td> <td>0     </td> <td>0   </td> <td>0    </td> <td>0   </td> <td>0   </td> <td>0   </td> <td>0    </td> <td>0       </td> <td>0     </td> <td>0    </td> <td>0    </td> <td>0   </td> <td>0   </td> <td>0   </td> <td>0   </td> <td>0       </td> <td>0   </td> <td>0    </td> <td>0        </td> <td>0    </td> <td>0   </td> <td>0    </td> <td>0   </td> <td>0    </td> <td>0    </td> <td>0       </td> <td>0    </td> <td>0      </td> <td>0    </td> <td>0   </td> <td>0    </td> <td>0      </td> <td>0       </td> <td>0      </td> <td>0        </td> <td>0   </td> <td>0    </td> <td>0   </td> <td>0   </td> <td>0      </td> <td>0   </td> <td>0    </td> <td>0   </td> <td>0    </td> <td>0     </td> <td>0           </td> <td>0     </td> <td>0     </td> <td>0   </td> <td>0    </td> <td>0    </td> <td>0    </td> <td>0   </td> <td>0   </td> <td>0   </td> <td>0      </td> <td>0   </td> <td>0     </td> <td>0     </td> <td>0     </td> <td>0    </td> <td>0   </td> <td>0   </td> <td>0    </td> <td>0      </td> <td>0     </td> <td>0    </td> <td>0     </td> <td>0   </td> <td>0    </td> <td>0     </td> <td>0        </td> <td>0    </td> <td>0    </td> <td>0     </td> <td>0     </td> <td>0     </td> <td>0   </td> <td>0     </td> <td>0   </td> <td>0      </td> <td>0      </td> <td>0   </td> <td>0   </td> <td>0    </td> <td>0   </td> <td>0   </td> <td>0     </td> <td>0   </td> <td>0   </td> <td>0      </td> <td>0   </td> <td>0   </td> <td>0    </td> <td>0   </td> <td>0      </td> <td>0   </td> <td>0     </td> <td>0     </td> <td>0    </td> <td>0       </td> <td>0   </td> <td>0   </td> <td>0     </td> <td>0     </td> <td>0   </td> <td>0   </td> <td>0     </td> <td>0     </td> <td>0   </td> <td>0   </td> <td>0   </td> <td>0       </td> <td>0   </td> <td>0    </td> <td>0     </td> <td>0    </td> <td>0     </td> <td>0   </td> <td>0   </td> <td>0    </td> <td>0       </td> <td>0    </td> <td>0     </td> <td>0   </td> <td>0    </td> <td>0    </td> <td>0   </td> <td>0   </td> <td>0   </td> <td>0   </td> <td>0    </td> <td>0    </td> <td>0     </td> <td>0   </td> <td>0   </td> <td>0      </td> <td>0    </td> <td>0     </td> <td>0      </td> <td>0    </td> <td>0    </td> <td>0   </td> <td>0   </td> <td>0      </td> <td>0   </td> <td>0   </td> <td>0   </td> <td>0   </td> <td>0   </td> <td>0     </td> <td>0     </td> <td>0    </td> <td>0     </td> <td>0   </td> <td>0    </td> <td>0   </td> <td>0     </td> <td>0     </td> <td>0    </td> <td>0     </td> <td>0    </td> <td>0     </td> <td>0   </td> <td>0   </td> <td>0   </td> <td>0    </td> <td>0     </td> <td>0   </td> <td>0    </td> <td>0   </td> <td>0     </td> <td>0        </td> <td>0   </td> <td>0     </td> <td>0    </td> <td>0     </td> <td>0     </td> <td>0   </td> <td>0    </td> <td>0    </td> <td>0   </td> <td>0   </td> <td>0   </td> <td>0      </td> <td>0     </td> <td>0       </td> <td>0    </td> <td>0    </td> <td>0    </td> <td>0   </td> <td>0    </td> <td>0   </td> <td>0   </td> <td>0   </td> <td>0      </td> <td>0     </td> <td>0    </td> <td>0   </td> <td>0    </td> <td>0   </td> <td>0   </td> <td>0      </td> <td>0   </td> <td>0     </td> <td>0       </td> <td>0     </td> <td>0   </td> <td>0      </td> <td>0   </td> <td>0     </td> <td>0         </td> <td>0    </td> <td>0     </td> <td>0      </td> <td>0     </td> <td>0    </td> <td>0   </td> <td>0    </td> <td>0    </td> <td>0   </td> <td>0   </td> <td>0     </td> <td>0     </td> <td>0    </td> <td>0     </td> <td>0        </td> <td>0   </td> <td>0     </td> <td>0     </td> <td>0     </td> <td>0     </td> <td>0     </td> <td>0   </td> <td>0     </td> <td>0   </td> <td>0     </td> <td>0    </td> <td>0   </td> <td>0       </td> <td>0   </td> <td>0    </td> <td>0     </td> <td>0   </td> <td>0   </td> <td>0   </td> <td>0      </td> <td>0   </td> <td>0   </td> <td>0    </td> <td>0    </td> <td>0      </td> <td>0   </td> <td>0    </td> <td>0     </td> <td>0   </td> <td>0      </td> <td>0    </td> <td>0     </td> <td>0    </td> <td>0      </td> <td>0   </td> <td>0   </td> <td>0   </td> <td>0     </td> <td>0   </td> <td>0     </td> <td>0    </td> <td>0   </td> <td>0   </td> <td>0   </td> <td>0    </td> <td>0   </td> <td>0     </td> <td>0     </td> <td>0    </td> <td>0   </td> <td>0    </td> <td>0   </td> <td>0   </td> <td>0     </td> <td>0   </td> <td>0    </td> <td>0   </td> <td>0     </td> <td>0     </td> <td>0      </td> <td>0   </td> <td>0     </td> <td>0    </td> <td>0   </td> <td>0    </td> <td>0      </td> <td>0   </td> <td>0         </td> <td>0   </td> <td>0       </td> <td>0     </td> <td>0      </td> <td>0    </td> <td>0      </td> <td>0    </td> <td>0     </td> <td>0   </td> <td>0   </td> <td>0   </td> <td>0        </td> <td>0   </td> <td>0         </td> <td>0     </td> <td>0      </td> <td>0   </td> <td>0      </td> <td>0     </td> <td>0   </td> <td>0      </td> <td>0     </td> <td>0    </td> <td>0   </td> <td>0   </td> <td>0   </td> <td>0    </td> <td>0    </td> <td>0   </td> <td>0   </td> <td>0      </td> <td>0      </td> <td>0   </td> <td>0    </td> <td>0    </td> <td>0    </td> <td>0   </td> <td>0   </td> <td>0   </td> <td>0      </td> <td>0      </td> <td>0   </td> <td>0        </td> <td>0       </td> <td>0   </td> <td>0    </td> <td>0   </td> <td>0   </td> <td>0   </td> <td>0       </td> <td>0     </td> <td>0   </td> <td>0     </td> <td>0   </td> <td>0    </td> <td>0   </td> <td>0    </td> <td>0    </td> <td>0     </td> <td>0   </td> <td>0      </td> <td>0   </td> <td>0    </td> <td>0   </td> <td>0    </td> <td>0      </td> <td>0     </td> <td>0   </td> <td>0   </td> <td>0   </td> <td>0     </td> <td>0       </td> <td>0     </td> <td>0      </td> <td>0   </td> <td>0     </td> <td>0     </td> <td>0   </td> <td>0        </td> <td>0       </td> <td>0   </td> <td>0     </td> <td>0     </td> <td>0     </td> <td>0   </td> <td>0   </td> <td>0    </td> <td>0    </td> <td>0      </td> <td>0    </td> <td>0       </td> <td>0    </td> <td>0   </td> <td>0   </td> <td>0   </td> <td>0     </td> <td>0   </td> <td>0     </td> <td>0       </td> <td>0   </td> <td>0    </td> <td>0     </td> <td>0    </td> <td>0   </td> <td>0     </td> <td>0   </td> <td>0       </td> <td>0    </td> <td>0       </td> <td>0     </td> <td>0      </td> <td>0   </td> <td>0   </td> <td>0    </td> <td>0   </td> <td>0      </td> <td>0    </td> <td>0    </td> <td>0    </td> <td>0   </td> <td>0     </td> <td>0   </td> <td>0     </td> <td>0     </td> <td>0   </td> <td>0     </td> <td>0   </td> <td>0   </td> <td>0   </td> <td>0     </td> <td>0   </td> <td>0     </td> <td>0     </td> <td>0   </td> <td>0       </td> <td>0   </td> <td>0   </td> <td>0    </td> <td>0   </td> <td>0     </td> <td>0     </td> <td>0    </td> <td>0   </td> <td>0   </td> <td>0      </td> <td>0   </td> <td>0        </td> <td>0    </td> <td>0     </td> <td>0    </td> <td>0       </td> <td>0    </td> <td>0       </td> <td>0     </td> <td>0      </td> <td>0.00154799</td> <td>0        </td> <td>0    </td> <td>0     </td> <td>0       </td> <td>0     </td> <td>0     </td> <td>0   </td> <td>0      </td> <td>0   </td> <td>0   </td> <td>0      </td> <td>0       </td> <td>0   </td> <td>0     </td> <td>0      </td> <td>0     </td> <td>0     </td> <td>0   </td> <td>0        </td> <td>0     </td> <td>0   </td> <td>0     </td> <td>0    </td> <td>0     </td> <td>0   </td> <td>0    </td> <td>0      </td> <td>0   </td> <td>0     </td> <td>0   </td> <td>0     </td> <td>0   </td> <td>0   </td> <td>0    </td> <td>0   </td> <td>0   </td> <td>0      </td> <td>0       </td> <td>0     </td> <td>0   </td> <td>0     </td> <td>0     </td> <td>0   </td> <td>0     </td> <td>0.00154799</td> <td>0     </td> <td>0     </td> <td>0   </td> <td>0    </td> <td>0    </td> <td>0   </td> <td>0    </td> <td>0   </td> <td>0      </td> <td>0     </td> <td>0   </td> <td>0    </td> <td>0    </td> <td>0    </td> <td>0    </td> <td>0    </td> <td>0    </td> <td>0     </td> <td>0    </td> <td>0    </td> <td>0       </td> <td>0    </td> <td>0     </td> <td>0    </td> <td>0   </td> <td>0    </td> <td>0    </td> <td>0     </td> <td>0         </td> <td>0   </td> <td>0      </td> <td>0   </td> <td>0   </td> <td>0       </td> <td>0   </td> <td>0    </td> <td>0   </td> <td>0     </td> <td>0   </td> <td>0   </td> <td>0     </td> <td>0     </td> <td>0     </td> <td>0     </td> <td>0       </td> <td>0    </td> <td>0     </td> <td>0     </td> <td>0    </td> <td>0     </td> <td>0    </td> <td>0   </td> <td>0     </td> <td>0   </td> <td>0    </td> <td>0     </td> <td>0    </td> <td>0       </td> <td>0   </td> <td>0    </td> <td>0   </td> <td>0        </td> <td>0    </td> <td>0   </td> <td>0      </td> <td>0     </td> <td>0   </td> <td>0     </td> <td>0   </td> <td>0      </td> <td>0   </td> <td>0     </td> <td>0   </td> <td>0   </td> <td>0      </td> <td>0    </td> <td>0        </td> <td>0.00154799</td> <td>0    </td> <td>0    </td> <td>0   </td> <td>0      </td> <td>0   </td> <td>0   </td> <td>0      </td> <td>0    </td> <td>0     </td> <td>0     </td> <td>0   </td> <td>0   </td> <td>0.00154799</td> <td>0    </td> <td>0   </td> <td>0      </td> <td>0     </td> <td>0      </td> <td>0   </td> <td>0     </td> <td>0     </td> <td>0     </td> <td>0   </td> <td>0    </td> <td>0     </td> <td>0     </td> <td>0    </td> <td>0   </td> <td>0     </td> <td>0        </td> <td>0   </td> <td>0        </td> <td>0    </td> <td>0    </td> <td>0     </td> <td>0     </td> <td>0    </td> <td>0   </td> <td>0   </td> <td>0    </td> <td>0      </td> <td>0        </td> <td>0      </td> <td>0    </td> <td>0        </td> <td>0     </td> <td>0     </td> <td>0     </td> <td>0   </td> <td>0   </td> <td>0   </td> <td>0   </td> <td>0   </td> <td>0    </td> <td>0     </td> <td>0     </td> <td>0     </td> <td>0   </td> <td>0   </td> <td>0   </td> <td>0     </td> <td>0      </td> <td>0      </td> <td>0    </td> <td>0       </td> <td>0     </td> <td>0    </td> <td>0   </td> <td>0     </td> <td>0   </td> <td>0   </td> <td>0    </td> <td>0   </td> <td>0   </td> <td>0      </td> <td>0     </td> <td>0    </td> <td>0        </td> <td>0      </td> <td>0       </td> <td>0     </td> <td>0    </td> <td>0      </td> <td>0    </td> <td>0   </td> <td>0   </td> <td>0      </td> <td>0    </td> <td>0      </td> <td>0     </td> <td>0   </td> <td>0     </td> <td>0    </td> <td>0       </td> <td>0   </td> <td>0    </td> <td>0     </td> <td>0     </td> <td>0      </td> <td>0    </td> <td>0     </td> <td>0     </td> <td>0   </td> <td>0   </td> <td>0   </td> <td>0   </td> <td>0    </td> <td>0    </td> <td>0      </td> <td>0   </td> <td>0    </td> <td>0    </td> <td>0   </td> <td>0   </td> <td>0   </td> <td>0   </td> <td>0     </td> <td>0   </td> <td>0   </td> <td>0   </td> <td>0     </td> <td>0    </td> <td>0     </td> <td>0   </td> <td>0     </td> <td>0        </td> <td>0    </td> <td>0        </td> <td>0      </td> <td>0       </td> <td>0    </td> <td>0     </td> <td>0    </td> <td>0   </td> <td>0     </td> <td>0   </td> <td>0        </td> <td>0          </td> <td>0    </td> <td>0   </td> <td>0       </td> <td>0   </td> <td>0    </td> <td>0     </td> <td>0      </td> <td>0    </td> <td>0     </td> <td>0   </td> <td>0   </td> <td>0   </td> <td>0    </td> <td>0   </td> <td>0   </td> <td>0   </td> <td>0      </td> <td>0     </td> <td>0   </td> <td>0     </td> <td>0   </td> <td>0      </td> <td>0      </td> <td>0       </td> <td>0     </td> <td>0       </td> <td>0     </td> <td>0    </td> <td>0   </td> <td>0    </td> <td>0     </td> <td>0     </td> <td>0    </td> <td>0   </td> <td>0    </td> <td>0       </td> <td>0     </td> <td>0   </td> <td>0    </td> <td>0    </td> <td>0    </td> <td>0        </td> <td>0    </td> <td>0     </td> <td>0      </td> <td>0      </td> <td>0   </td> <td>0   </td> <td>0      </td> <td>0       </td> <td>0   </td> <td>0     </td> <td>0     </td> <td>0       </td> <td>0     </td> <td>0    </td> <td>0    </td> <td>0   </td> <td>0   </td> <td>0   </td> <td>0     </td> <td>0    </td> <td>0   </td> <td>0    </td> <td>0   </td> <td>0      </td> <td>0      </td> <td>0     </td> <td>0   </td> <td>0     </td> <td>0     </td> <td>0   </td> <td>0      </td> <td>0        </td> <td>0      </td> <td>0      </td> <td>0      </td> <td>0   </td> <td>0       </td> <td>0     </td> <td>0    </td> <td>0      </td> <td>0    </td> <td>0   </td> <td>0      </td> <td>0       </td> <td>0     </td> <td>0   </td> <td>0       </td> <td>0   </td> <td>0    </td> <td>0   </td> <td>0     </td> <td>0     </td> <td>0       </td> <td>0    </td> <td>0    </td> <td>0   </td> <td>0     </td> <td>0   </td> <td>0   </td> <td>0   </td> <td>0    </td> <td>0   </td> <td>0     </td> <td>0       </td> <td>0    </td> <td>0     </td> <td>0      </td> <td>0      </td> <td>0     </td> <td>0     </td> <td>0   </td> <td>0   </td> <td>0    </td> <td>0    </td> <td>0       </td> <td>0.00154799</td> <td>0    </td> <td>0       </td> <td>0   </td> <td>0      </td> <td>0    </td> <td>0   </td> <td>0    </td> <td>0   </td> <td>0     </td> <td>0    </td> <td>0    </td> <td>0    </td> <td>0     </td> <td>0    </td> <td>0     </td> <td>0   </td> <td>0      </td> <td>0   </td> <td>0   </td> <td>0     </td> <td>0      </td> <td>0    </td> <td>0    </td> <td>0   </td> <td>0   </td> <td>0      </td> <td>0   </td> <td>0     </td> <td>0    </td> <td>0   </td> <td>0     </td> <td>0   </td> <td>0      </td> <td>0    </td> <td>0   </td> <td>0   </td> <td>0   </td> <td>0   </td> <td>0      </td> <td>0    </td> <td>0    </td> <td>0      </td> <td>0     </td> <td>0      </td> <td>0    </td> <td>0    </td> <td>0    </td> <td>0    </td> <td>0     </td> <td>0   </td> <td>0     </td> <td>0       </td> <td>0     </td> <td>0    </td> <td>0    </td> <td>0    </td> <td>0    </td> <td>0      </td> <td>0    </td> <td>0    </td> <td>0     </td> <td>0     </td> <td>0     </td> <td>0   </td> <td>0     </td> <td>0    </td> <td>0   </td> <td>0     </td> <td>0   </td> <td>0   </td> <td>0      </td> <td>0   </td> <td>0     </td> <td>0   </td> <td>0   </td> <td>0     </td> <td>0    </td> <td>0    </td> <td>0   </td> <td>0   </td> <td>0    </td> <td>0   </td> <td>0    </td> <td>0    </td> <td>0   </td> <td>0     </td> <td>0   </td> <td>0   </td> <td>0     </td> <td>0            </td> <td>0    </td> <td>0       </td> <td>0    </td> <td>0   </td> <td>0     </td> <td>0        </td> <td>0    </td> <td>0      </td> <td>0     </td> <td>0   </td> <td>0   </td> <td>0   </td> <td>0    </td> <td>0     </td> <td>0     </td> <td>0     </td> <td>0   </td> <td>0    </td> <td>0     </td> <td>0     </td> <td>0     </td> <td>0     </td> <td>0     </td> <td>0     </td> <td>0    </td> <td>0   </td> <td>0    </td> <td>0    </td> <td>0       </td> <td>0    </td> <td>0       </td> <td>0   </td> <td>0   </td> <td>0   </td> <td>0   </td> <td>0   </td> <td>0       </td> <td>0     </td> <td>0         </td> <td>0      </td> <td>0   </td> <td>0   </td> <td>0     </td> <td>0       </td> <td>0    </td> <td>0     </td> <td>0    </td> <td>0   </td> <td>0   </td> <td>0   </td> <td>0   </td> <td>0     </td> <td>0       </td> <td>0       </td> <td>0   </td> <td>0     </td> <td>0    </td> <td>0    </td> <td>0   </td> <td>0    </td> <td>0     </td> <td>0    </td> <td>0    </td> <td>0   </td> <td>0   </td> <td>0    </td> <td>0    </td> <td>0     </td> <td>0       </td> <td>0         </td> <td>0    </td> <td>0     </td> <td>0       </td> <td>0   </td> <td>0     </td> <td>0     </td> <td>0   </td> <td>0    </td> <td>0    </td> <td>0    </td> <td>0   </td> <td>0   </td> <td>0      </td> <td>0   </td> <td>0   </td> <td>0   </td> <td>0    </td> <td>0    </td> <td>0   </td> <td>0     </td> <td>0    </td> <td>0      </td> <td>0   </td> <td>0   </td> <td>0   </td> <td>0    </td> <td>0   </td> <td>0      </td> <td>0   </td> <td>0   </td> <td>0    </td> <td>0    </td> <td>0   </td> <td>0   </td> <td>0   </td> <td>0   </td> <td>0     </td> <td>0    </td> <td>0      </td> <td>0    </td> <td>0   </td> <td>0    </td> <td>0.00154799</td> <td>0       </td> <td>0      </td> <td>0    </td> <td>0   </td> <td>0   </td> <td>0   </td> <td>0     </td> <td>0    </td> <td>0   </td> <td>0   </td> <td>0      </td> <td>0   </td> <td>0   </td> <td>0      </td> <td>0     </td> <td>0   </td> <td>0   </td> <td>0     </td> <td>0    </td> <td>0       </td> <td>0     </td> <td>0   </td> <td>0      </td> <td>0   </td> <td>0    </td> <td>0   </td> <td>0     </td> <td>0       </td> <td>0     </td> <td>0      </td> <td>0   </td> <td>0     </td> <td>0    </td> <td>0   </td> <td>0    </td> <td>0   </td> <td>0        </td> <td>0    </td> <td>0    </td> <td>0       </td> <td>0   </td> <td>0     </td> <td>0      </td> <td>0     </td> <td>0    </td> <td>0   </td> <td>0     </td> <td>0       </td> <td>0   </td> <td>0   </td> <td>0    </td> <td>0    </td> <td>0   </td> <td>0   </td> <td>0   </td> <td>0     </td> <td>0    </td> <td>0      </td> <td>0          </td> <td>0      </td> <td>0    </td> <td>0       </td> <td>0      </td> <td>0     </td> <td>0   </td> <td>0       </td> <td>0   </td> <td>0    </td> <td>0   </td> <td>0      </td> <td>0       </td> <td>0    </td> <td>0      </td> <td>0   </td> <td>0     </td> <td>0    </td> <td>0   </td> <td>0    </td> <td>0   </td> <td>0   </td> <td>0   </td> <td>0    </td> <td>0      </td> <td>0    </td> <td>0       </td> <td>0   </td> <td>0    </td> <td>0   </td> <td>0   </td> <td>0    </td> <td>0     </td> <td>0     </td> <td>0   </td> <td>0   </td> <td>0    </td> <td>0   </td> <td>0   </td> <td>0     </td> <td>0   </td> <td>0   </td> <td>0    </td> <td>0   </td> <td>0      </td> <td>0   </td> <td>0   </td> <td>0     </td> <td>0    </td> <td>0   </td> <td>0      </td> <td>0    </td> <td>0     </td> <td>0      </td> <td>0   </td> <td>0   </td> <td>0      </td> <td>0    </td> <td>0      </td> <td>0   </td> <td>0   </td> <td>0   </td> <td>0     </td> <td>0     </td> <td>0     </td> <td>0    </td> <td>0     </td> <td>0     </td> <td>0         </td> <td>0   </td> <td>0   </td> <td>0     </td> <td>0        </td> <td>0   </td> <td>0       </td> <td>0    </td> <td>0     </td> <td>0      </td> <td>0    </td> <td>0   </td> <td>0   </td> <td>0    </td> <td>0      </td> <td>0     </td> <td>0   </td> <td>0    </td> <td>0    </td> <td>0   </td> <td>0    </td> <td>0   </td> <td>0     </td> <td>0    </td> <td>0   </td> <td>0     </td> <td>0   </td> <td>0    </td> <td>0     </td> <td>0     </td> <td>0    </td> <td>0   </td> <td>0      </td> <td>0   </td> <td>0   </td> <td>0   </td> <td>0    </td> <td>0    </td> <td>0   </td> <td>0    </td> <td>0        </td> <td>0     </td> <td>0      </td> <td>0     </td> <td>0     </td> <td>0     </td> <td>0   </td> <td>0       </td> <td>0    </td> <td>0    </td> <td>0   </td> <td>0     </td> <td>0      </td> <td>0    </td> <td>0    </td> <td>0   </td> <td>0     </td> <td>0      </td> <td>0    </td> <td>0     </td> <td>0     </td> <td>0     </td> <td>0     </td> <td>0   </td> <td>0   </td> <td>0     </td> <td>0     </td> <td>0       </td> <td>0         </td> <td>0     </td> <td>0    </td> <td>0   </td> <td>0      </td> <td>0     </td> <td>0      </td> <td>0      </td> <td>0   </td> <td>0     </td> <td>0     </td> <td>0   </td> <td>0     </td> <td>0        </td> <td>0    </td> <td>0      </td> <td>0      </td> <td>0     </td> <td>0     </td> <td>0   </td> <td>0     </td> <td>0   </td> <td>0   </td> <td>0      </td> <td>0    </td> <td>0    </td> <td>0     </td> <td>0     </td> <td>0      </td> <td>0    </td> <td>0    </td> <td>0      </td> <td>0    </td> <td>0   </td> <td>0   </td> <td>0    </td> <td>0     </td> <td>0    </td> <td>0     </td> <td>0   </td> <td>0    </td> <td>0      </td> <td>0   </td> <td>0   </td> <td>0    </td> <td>0     </td> <td>0   </td> <td>0        </td> <td>0     </td> <td>0   </td> <td>0     </td> <td>0   </td> <td>0   </td> <td>0    </td> <td>0       </td> <td>0     </td> <td>0   </td> <td>0   </td> <td>0   </td> <td>0     </td> <td>0    </td> <td>0   </td> <td>0      </td> <td>0    </td> <td>0       </td> <td>0   </td> <td>0    </td> <td>0     </td> <td>0     </td> <td>0   </td> <td>0   </td> <td>0    </td> <td>0      </td> <td>0   </td> <td>0      </td> <td>0     </td> <td>0     </td> <td>0    </td> <td>0     </td> <td>0     </td> <td>0     </td> <td>0   </td> <td>0    </td> <td>0      </td> <td>0       </td> <td>0       </td> <td>0    </td> <td>0    </td> <td>0        </td> <td>0   </td> <td>0   </td> <td>0     </td> <td>0   </td> <td>0       </td> <td>0    </td> <td>0     </td> <td>0    </td> <td>0       </td> <td>0       </td> <td>0        </td> <td>0    </td> <td>0    </td> <td>0      </td> <td>0      </td> <td>0     </td> <td>0   </td> <td>0     </td> <td>0      </td> <td>0      </td> <td>0   </td> <td>0   </td> <td>0      </td> <td>0    </td> <td>0   </td> <td>0      </td> <td>0     </td> <td>0   </td> <td>0      </td> <td>0   </td> <td>0   </td> <td>0    </td> <td>0      </td> <td>0     </td> <td>0    </td> <td>0    </td> <td>0   </td> <td>0     </td> <td>0   </td> <td>0   </td> <td>0     </td> <td>0   </td> <td>0      </td> <td>0       </td> <td>0   </td> <td>0       </td> <td>0     </td> <td>0      </td> <td>0    </td> <td>0     </td> <td>0     </td> <td>0   </td> <td>0     </td> <td>0    </td> <td>0   </td> <td>0   </td> <td>0     </td>\n",
       "        </tr>\n",
       "    </tbody>\n",
       "</table>"
      ],
      "text/plain": [
       "Title                     | Artist      | Genre   | i         | the       | you       | to        | and        | a          | me        | it         | not       | in         | my        | is         | of         | your      | that      | do        | on         | are        | we   | am         | will       | all        | for        | no         | be         | have       | love       | so        | know       | this       | but  | with       | what      | just       | when      | like       | now        | que  | time       | can  | come       | de   | there      | go        | up         | oh         | la   | one        | they      | out        | down | get        | she  | was        | see        | if   | got        | never      | from      | he         | feel | want      | let        | make | way  | say        | take       | would      | as         | ca         | day        | at         | babi | away | life | yeah       | y    | back       | by         | her  | heart | here       | how        | could | night | need | our  | look | where      | en   | eye  | thing      | world      | more       | caus | gonna | die  | right      | been       | tell      | think | un   | who        | el   | through | man        | live       | again | give | too        | onli       | te   | tri        | tu   | or   | whi        | se   | keep      | dream | well       | mind       | an   | wo   | still | us   | his  | long       | mi   | girl | wanna      | find | fall | around | good       | about | some       | over | littl      | turn       | hand | then | noth       | light | said       | call | everi | alway | were       | did        | into | e    | wait | leav | home | had        | hold | run  | es   | walk | ever       | them       | lie  | face | end  | hear | gone | head | believ | everyth | ya   | has  | cri  | alon | yo         | hey        | their | le   | someth | si   | insid | du   | befor | o    | word | stay | place | much       | chang | ich  | god  | stand      | these      | better | last       | friend | soul | anoth | je   | left | new  | him  | than      | stop      | tonight | burn | sun  | off        | por  | lo   | play | thought    | sing | show       | lost | peopl      | made | break | und  | start | should     | realli     | chorus | hard | sky  | old  | da   | even | boy  | pleas      | song       | care | without | hope | watch      | pain | amor | move | wrong      | put  | free | gotta      | name | et   | same       | blue | con  | danc | talk | seem | own  | mine | dark | na   | far  | tear | true | fire | use        | dead | bring | other | sin  | someon | myself | forev | close | sleep | rain | those      | must | una  | les  | sweet | mean | fight | rememb     | star | while | kiss | kill | high | breath | doe  | yes  | al   | wish | che  | real       | smile | two        | cold | lord | year | open | il   | fear | di   | done | side | fli  | black | line | rock       | blood | lose | found | onc  | non  | door | bad  | ooh  | wonder | ti   | como | enough     | para | sound | togeth | mayb | los  | help | shine | mani | heaven     | becaus | work       | touch | behind     | yourself | today | big  | might | death | hate | miss | ride | street     | came | ask  | hide | everybodi | save | till | may  | beauti | roll | sure | deep | arm  | son  | wind | bodi | forget | happi | understand | ai   | best | ma   | town | war  | ah   | listen     | seen | der  | sometim | lone | hell | morn | until | set  | hurt | told       | first      | knew | goe  | round | em         | alright | music      | sea  | truth | qui  | beat | nicht | eu   | las  | todo | pass | under | del  | late | after | ani  | ground | fool | pas  | broken | goodby | das  | des  | kind | wall | angel | est  | road | reason | dan  | money | chanc | quiero | mai  | part | matter     | learn | els  | rise | pour | saw  | grow | ha         | sit  | land | fade | air  | took | nobodi | ne   | fill       | easi | game | follow | wake | anyth | aliv | solo | water | heard | though | white | vida | ist  | voic | woman      | blind | each | citi | young | lay  | moon | reach | readi | fine | soon | along | à    | crazi | past | red  | room | such | ein  | step       | scream     | tomorrow | control | memori | strong | hit        | everyon    | wast | não  | men  | earth | s    | upon | final | shake | im   | abov | ja   | moment | rest | guess | hous | born | somebodi   | feet | mas  | sad  | laugh | esta | happen     | went | cest | blow | noch | meet | whole      | lover | drive | car  | lead | su   | veri | ni   | promis | bed  | apart | um   | empti | shadow | full | begin | pull       | child | pretti | drink | pray | king | cut  | t    | power | gave       | hay  | peac | hang | next | ser  | mother | é    | cuando | between | pay  | carri | tire | speak      | lot  | tree | den  | skin | tout | til  | slow | sinc       | anymor | kid        | clear | mich | jesus | differ | fast | becom | va   | gun  | nos  | zu   | más  | river | faith | floor | cross | ladi       | near | fun  | ring | answer | pero | afraid | jag  | repeat | great | stori | yet  | cannot | hot  | wir  | nada | hour | summer | stone | bleed | sign | mir  | lyric | children | trust | wild | felt | troubl     | honey | sick | perfect | human | bright | bien | mama | dich | parti | train | plan | porqu | sorri | plus | hair | secret | silenc | tast | brother | throw | within | per  | push | m    | somewher | three | cloud | shall | vez  | low  | window | knee | lip  | futur | dear | search | 2    | sie  | drop | det  | cool | flame | outsid     | worri | bout       | goin | met  | stare | sight | most | mon  | voy  | across | wear | wave | tus  | pick | er   | send | siempr | wie  | bone | flow      | piec | soy  | uh         | thank | mis  | straight | blame | catch | au   | ce   | tight | &    | mile | holi | darl | auf  | mouth | christma | which | moi  | against | mad  | both | share | caught | father | read | warm | wing | nunca | belong | damn | eat  | win  | sens | comm | u    | fell | evil | dem  | ho   | pictur | second | nowher | dog  | rule | une  | mal  | mountain | joy  | mit  | top  | tan  | som  | bit        | cover | point | thousand | hoy  | n          | gold       | bell | è    | devil | bird | sur  | quit | brain | return | build | kick | rose | babe | guy  | whoa | shame | mein | space | whisper | tiempo | cos        | write | dir  | tengo | count | slip | ver  | desir | sei  | nice | weak | rais | jai  | ocean | number     | drown | spirit | scare | strang | ik   | half | known | pretend | worth | someday | act  | beyond | fair | million    | finger | question | doubt | meant | smoke | comin | flesh | dawn | daddi | storm | hole | color | jump | remain | mundo | etern | nothin | buy  | nur  | anyon | dress | 1    | minut | dont | pra  | snow | d    | dig  | estoy | forc | spend | shot | everyday | puedo | tú   | chain | dri  | grace | green | glori | doch | everywher | freedom | realiz | lock | pride | whatev | feed | mistak | vers | fate | meu  | escap | wash | mess       | você | sand | front | forgiv | vi   | winter | tanto | magic | flower | pa   | closer | safe | wenn | sol  | bless | suffer | longer | dein | hello | san  | grave | alreadi | yesterday | wide | radio | sorrow | ten  | tien | phone | crawl | surviv | ay   | tie  | exist | anyway | io   | spin | insan | nous | slowli | dond | ear  | crowd | clean      | natur | knock | four | poor | loud | shoe | bar  | está | lovin | higher | race | silent | lift | destroy | cuz  | soft       | paint | mar  | dirti | check      | ta   | held | vie  | shout | sail | twist | guitar | simpl | quand | sa   | ei   | deni | fail | van  | famili | vision | toi  | lookin | track | broke | dia  | state | welcom | ghost | almost | shut | entr | somehow | glass | yea  | gent | choos | für  | bin  | glad | shoot | ell  | small | hill | wine | treat | dos  | stranger | regret | refrain | corazón | machin | problem    | feelin | sister | era  | steal | endless | vai  | awak | key  | grand | cada | age  | bridg | dust | wit  | merci | wheel | ere  | crack | taken | prais | heal | queen | mirror | von  | corner | ba   | ago  | buri | book | ahora | climb | quando | okay | cloth | band | school | stick | circl | ou   | tv         | don  | strength | og   | five | countri | beneath | sunshin | sabe | alma | ice  | ça   | bound | less | sell | tongu | path | cielo | travel | hasta | hat  | rather | heat | innoc | confus | cosa | golden | ohh  | mari | singl | ahead | bye  | silver | tryin | doo  | mes  | sai  | chase | pued | più  | few  | sein | scene      | smell | funni | enemi | swear | på   | ball | beg  | sind | x2   | prayer | wound | otra | ton  | disappear | besid | hace | toda | ignor | mr   | yall | style      | ihr  | brought | given | quiet | rage | mano | realiti | sink | 3    | quier | spread | crime | vain | nadi | fallen | self | decid | ella | c    | fue  | imagin | hier | stuck | view | vas  | kept | demon | sui  | busi       | ok   | record     | law  | choic | har  | fit  | remind | emot | field | crash | suppos | sen  | cmon | dentro | mehr | danger | sich | letter | midnight | com  | kein | nation | edg  | surpris | rien | murder | deal | complet | loos | price | instrument | luck | rip  | drift | poison | battl      | livin | gimm | gettin | haunt | sex  | proud | re   | heavi | guid | nie  | drag | middl | bare | dare | bang | ojo  | pure | embrac | aus  | suck | stupid | fake | week | news | tes  | master | float | satisfi | sent | christ | fait | scar | bear | dime | quick | poi  | swing | below | prove      | figur | diamond | none | instead | pleasur | curs | rich | cat  | spent | seek | paper | mysteri | passion | brand | siento | bomb | luz  | bitter | tender | fact | job  | qué  | bet  | oooh | sempr | cast | sono | trip | pack | explain | talkin | lucki | ci   | l    | eso  | special | mark | form | shoulder | warn | creat | seven | ship | bist | miseri | sunday | six  | quien | tune | wrap | muy  | pop  | surround | doin | hero | gate | comfort | han  | 2x   | rush | drug | mejor | vivir | least | short | sé   | dann | cruel | par  | rhyme | written | swallow | wander | reflect | dice | aunqu | tide | join | bottl | steel | paradis | mia  | día  | cant | auch | wife | shore | leg  | somethin | draw | slave | march | jour | algo | beso | immer | swim | built | tempo | women | corazon | om   | fix  | trap | torn | vein | estar | releas | hors | casa | spell | glow | grab | denn | drum | bite | brown | won  | i’m  | sugar | forgotten | stronger | rhythm | victim | messag | later | person | darlin | así  | poco | avec | huh        | dat  | dio  | uma  | sudden | stood | hundr | kann | runnin | sólo | season | sueño | surrend | bore | vou  | crush | histori | wont | luna | ourselv | verdad | weight | mí   | 4    | lust | dolor | park | expect | só   | speed | shade | calm | bow  | bend | mig  | strike | thrill | anim | aquí | leben | thunder | soldier | vous | hacer | west | destini | spit | ran  | twice | drunk | page | med  | desert | block      | tall | anywher | distanc | mio  | spring | gather | g    | temp | foi  | cuerpo | dollar | echo | knife | melt | mujer | anybodi | otro | aqui | så   | grey | asleep | gentl | sem  | direct | load | divin | earli | toward | kun  | weather | ash  | ve   | os   | seed | highway | harder | sus  | boom | esa  | attack | action | thee | fin  | quon | art  | pie  | club | wird | contigo | kan  | rap  | case | hab  | tous | thinkin | metal | underneath | breez | teeth | respect | outta | john | neck | precious | nine | idea | rainbow | thi  | lieb | laid | offer | gut  | saber | nois | begun | resist | garden | sigh | bag  | disguis | noon | quem | string | colour | nu   | ooo  | gift | aint       | shape | york | jetzt | schon | teach | don’t | test | lado | arriv | amar | diseas | sold       | clock | flash | youth | box  | rot  | lugar | mighti | certain | protect | mond | ruin | romanc | vamo | sweat | fantasi | vien | kinda | nacht | deserv | piel | jeg  | hora | univers | desper | ach  | hall | anger | beast | stuff | jack | tabl | punk | movi | tudo | feliz | mucho | nightmar | doctor | freak | marri | crown | serv       | satan | hallelujah | amigo | trace | main | nem  | makin | prison | moonlight | voz  | thin | deeper | appear | amaz | bought | weep | walkin | ant  | même | chi  | voi  | hungri | wire | pocket | jamai | note | south | eh         | woke | momento | illus | nail | junto | paid | bis  | liar | bottom | plain | ill  | notic | melodi | alla | camino | destruct | daughter | eas  | fat  | whenev     | ador | church | bill | card | cours | nake | sacrific | zeit | system | pensar | order | stage | celebr | hip  | total | welt | sera | fist | dit  | wors | suicid | dove | bullet | senza | johnni | gain | quero | grown | wherev | slide | minha | fa   | folk | nach | hurri | lang | igual | vill | uno  | kingdom | trick | wrote | encor | tem  | choke | ll   | dame | boat | tough | sang | ese  | beer | eras | cup  | brave | reveal | distant | trist | worst | wieder | grass | frozen | ahh  | dass | faster | tard | sua  | plane | saturday | woah | taught | generat | viel | cryin | it’  | movin | store | shatter | stream | wood | ganz | sentir | pressur | wa   | sont | charm | bloodi | yellow | mo   | planet | joke | pound | vivo | struggl | petit | dumb | suit | present | revolut | nuestro | dirt | gon  | hollow | será | vece | vos  | wick | reign | miracl | rollin | stain | shelter | lifetim | claim | accept | ven  | judg | tale | desd | enter | fault | sale | mim  | betray | hast | violenc | chill | lui  | recuerdo | terror | settl | wet  | pena | foot | toujour | unknown | miedo | lonesom | nah  | excus | rockin | santa | amo  | fever | où   | doubl | dire | america | var  | asi  | hidden | b          | electr | mass       | trop | j    | já   | attent | wise | volver | laughter | fame | groov | mom  | mmm  | waitin | prepar | esto | due  | noi  | cure | began | x    | lesson | là   | hook | fish | east | hoe  | cop  | sou  | seat | whose | forgot | bother | chest | situat | candl | cash | valley | quil | further | unit | mira | aim  | journey | cell | ao   | gray | vita | everytim | tag  | throat | heartach | conmigo | tortur | mot  | cara | imag | min  | nuit | birth | woo  | refus | sword | fortun | ces  | ima  | older | spoken | chose | motion | fals | enjoy | fort | tutto | creep      | sayin | trade | hoo  | monkey | food | worship | nel  | ancient | confess | coro | sobr | deja | stole | forward | tua  | lamour | fallin | favorit | faut | toe  | toy  | nose | favor | american | class | cigarett | maria | intent | pill | poder | spill | cost | shed | po   | probabl | among | tanta | dar  | clown | consum | saint | fai  | connect | chao | mix  | dun  | goodnight | amour | sola | numb | viento | nest | salvat | island | wipe | await | spot | f    | merri | hombr | chair | press | divid | bust | bem  | compani | lick | boot | loneli | constant | dad  | bei  | cage | mañana | flight | cè   | armi | mood | killer | darkest | drain | underground | polic | querer | fresh | boogi | lean | pale | niin | vor  | ad   | explod | sexi | rape | geht | recal | exact      | freez | savior | piti | separ | except | candi | frame | honest | religion | ses  | vem  | yeux | hunger | station | although | bus  | onto | pum  | aux  | trail | mil  | boca | leur | spark | ga   | peu  | decay | bass | demand | command | beach | destin | shi  | greed | lack | ela  | via  | weg  | vert | fui  | 5    | paso | importa | sat  | palabra | monster | stumbl | komm | quiera | roam | threw | screen | ancora | thou | harm | gli  | date | cheap | north | aw   | r          | root | led  | rough | loco | energi | ment | despair | gaze | guilti | hatr | queda | joe  | asid | addict | seal | super | iron | wisdom | scratch | papa | smash      | throne | deceiv | forth | coffe | ir   | ves  | weari | posit | jah  | ugli | shop | hood | shell | horizon | w    | falta | becam | blade | playin | grew | often | ye   | gal  | victori | receiv | takin | lightn | allow | mornin | hammer | lejo | telephon | cett | admit | rat  | nuevo | flag | truli | doom | dis  | loss | sacr | limit | pasa | bigger | afternoon | fed  | engin | veux | –    | foolish    | jean | shock | breed | greatest | mental | soledad | mismo | tal  | angri | ayer | finish | row  | vuelv | convers | plastic | grip | creation | snake | regard | tick | fan  | lit  | holiday | somo | sue  | steadi | tierra | coat | funki | cheat | sort | drip | teu  | zum  | abus | possess | undon | llorar | vocal | dj   | hunt | month | possibl    | design | depend | sole | daylight | decis | sous | morir | assim | treasur | california | mare | olvidar | strip | hum  | calor | trembl | weiß | durch | invit | rope | flood | ticket | ohn  | crew | spoke | sheet | fuego | cantar | wreck | cowboy | allein | needl | decir | common | lung | monday | friday | girlfriend | piano | mission | veo  | destino | perder | rescu | lazi | coupl | hi   | coeur | p    | eight | hai  | andar | split | mortal | guard | seul | societi | hotel | easili | anch | fashion | heel | creatur | sittin | defeat | ben  | excit | pari | hung | lake | tower | dive | estrella | silencio | curtain | gas  | restless | canto | ond  | dum  | grant | unless | cheek | type | crumbl | hail | chosen | sunni | handl | lá   | lion | burnin | disco | bank | match | deux | twenti | replac | heut | you’r | score | mentira | bon  | continu | stretch | inspir | ol   | din  | forest | callin | questa | coast | mort | questo | belief | tuo  | sunlight | plant | sever | whip | ray  | oder | descend | così | simpli | singin | mirada | mankind | violent | lane | void | hop  | weil | mondo | sunset | thru | silli | corps | lass | behold | normal | agre | abandon | weapon | wed  | bella | reveng | tini | justic | weekend | meno | mic  | nor  | bloom | sam  | affair | leader | aber | aah  | nerv | 10   | ohhh | hush | historia | op   | caress | either | discov | leavin | helpless | ghetto | bread | dancin | x4   | tant | hmm  | momma | x3   | gibt | tão  | vive | pace | gusta | relax | jam  | paz  | brick | digo | dei  | complain | burden | sunris | also | linger | jungl | hopeless | abl  | bop  | fi   | pillow | damag      | mister | mask | itself | drove | pump | ska  | boss | himself | list | whiskey | moral | affect | conquer | rosa | tumbl | album      | mend | warrior | sinner | herz | mientra | tip  | express | loser | chant | ogni | crave | crystal | diga | perché | thrown | quell | encontrar | bay  | bee  | fruit | hangin | billi | hollywood | parad | bailar | weed | ciudad | switch | soir | stab | asham | vent | collect | macht | truck | instant | terra | temptat | kuin | skull | ora  | ed   | fare | rebel | meat | autumn | bom  | viver | london | jos  | deliv | perdido | cuor | doll | downtown | pink | v    | owe  | quun | sigu | howl | gana | heartbeat | core | butterfli | aquel | chick | della | wer  | noit | imposs | sangr | easier | clue | li   | fuera | shiver | pool | presenc | dread | surfac | nient | occhi | pienso | conscienc | zero | pelo | alguien | blaze | squeez | blast | haben | dope | bruis | pue  | tea  | honor | ze   | 6    | lamb | q    | recogn | flor | whistl | roof | givin | gang | bewar | tomb | lei  | euch | seguir | wow  | clap | squar | forma | workin | rider | appl | modern | tellin | magazin | cha  | coz  | inner | impress | drawn | smart | harmoni | govern | iâm | quest | gran | volar | bliss | yuh  | polit | dim  | tour | pant | cheer | quer | familiar | fought | roar | dicen | när  | pen        | obsess | centuri | i´m  | failur | jail | parec | confid | meg  | kneel | spare | pin  | vaya | import | mourn | hablar | giorno | yearn | cuenta | guilt | solut | terr | focus | cling | concret | horror | sore | dom  | unfold | bounc | nun  | goal | selfish | knowledg | canción | awaken | bath | kommt | delight | hesit | fond | parol | courag | serious | whether | ter  | sweetest | useless | invis | film | ole  | themselv | male | alcohol | sake | sway | relat | nott | tra  | stair | parent | advic | grind | negro | vento | riot | sombra | blown | bajo | 7          | burst | quel | size | sheep | fold | captur | dies | texa | lee  | dwell | frighten | fragil | einen | ave  | can’t | hacia | blew | chicken | thorn | teenag | everlast | zone | tape | feather | necesito | compar | agora | loin | pig  | carv | plagu | tiger | flat | dee  | punch | bueno | slaughter | funk | deseo | ami  | nervous | tragedi | thick | fenc | anytim | backward | brighter | voir | envi | complic | captain | purpos | ordinari | nuestra | grin | mer  | infect | spine | ought | defend | photograph | tha  | prey | patient | nombr | flip | mc   | mist | toss | castl | ici  | horn | secur | jane | k    | sympathi | creo | baila | trash | shirt | twilight | pair | dreamer | compromis | board | veil | error | standin | ke   | realis | devot | solid | babylon | fanci | ding | faz  | holdin | justifi | alor | pearl | domin | soleil | estaba | origin | llegar | reject | awhil | sag  | milk | tener | sweetheart | lil  | content | samba | extra | ka   | rotten | sucker | salt | bat  | worn | toll | pi   | buscando | yard | leather | astray | shift | third | grief | azul | upsid | buck | jingl | witch | dune | borrow | ont  | kitchen | bedroom | sient | sigo | cream | birthday | limb | court | tom  | neon | teacher | meer | overcom | depress | ingen | juli | scatter | pile | jealous    | rocket | jimmi | habit | dor  | sensat | corrupt | righteous | neighbor | rob  | moan | quello | dormir | virgin | labio | port | libertad | depth | revel | pasar | screw | stress     | wolf | sto  | augen | él   | rum  | sir  | beau | espera | beam | add  | farewel | shower | concern | pasado | measur | oui  | licht | voglio | 4x   | raini | remov | ceas | tail | ive  | apolog | peur | border | breakin | viva | charg | frustrat | perfum | bent | bubbl | unto | dag  | terribl | ciel | eve  | disgrac | soil | pro  | puerta | wrath | dreamin | feast | nas  | reaction | duel | 9    | scheme     | awar | smooth | shallow | razón | pode | trigger | patienc | fatal | brazo | warmth | nai  | ceil | sweep | starv | deje | princ | olho | collaps | fuel | david      | skip | entend | greet | haze | wore | crow | pueda | coup | guerra | å    | vale | fe   | privat | nyt  | jame | herself | bullshit | teardrop | commit | blink | pensando | disast | lon  | ang  | olvido | siren | glorious | frown | glanc | absolut | convinc | palm | guarante | mention | ridin | rent | mike | vaan | sentiment | tutti | heartbreak | pobr | haut | año  | unser | corp | vow  | tristeza | stray | vuoi | oi   | punish | libr | i’ll | morgen | televis | cama | suffoc | mann | click | torment | repent | fri  | contra | condit | alt  | teas | linda | prize | michael | yell | jou  | jo   | ego        | donât | ander | cook | cave | darken | attitud | collid | adesso | mirar | mitt | sleev | parar | despué | sting | plenti | werd | coração | gay  | devour | peut | eagl | fors | equal | empir | prend | balanc | ala  | cultur | soak | jeder | quarter | tone | herida | amanec | summertim | unseen | thang | sharp | proof | sonrisa | earn | preacher | über | base | belli | mach | lullabi | louder | dulc | panic | flore | social | werden | rang | shown | sung | understood | progress | cambiar | strand | seh  | role | despertar | bride | crook | fiesta | 3x   | thug | bind | quoi | notr | shove | suert | gangsta | frent | cherri | mill | há   | oil  | coisa | dude | deed | oclock | cabeza | st   | tres | ama  | drank | strain | espero | muert | dragon | homm | wrist | team | jen  | thirst | einfach | basta | playa | pronto | avoid | inch | ecstasi | muero | inform | mud  | deus | gehen | madr | purpl | razor | rust | femm | famous | pui  | defin | atrá | don´t | bold | bibl | pit  | kaikki | burnt | choir | trial | entertain | penni | comment | rio  | bras | tenho | demis | serpent | lleva | alguna | emerg | rue  | stolen | ooooh | alarm | autr | hug  | arrow | buena | templ | también | rejoic | bene | code | vuelva | damour | itâ | taim | dancer | odd  | gloria | map  | adio | presid | aha  | afford | southern | mala | drivin | rag  | organ | experi | spite | boil | movement | highest | avant | immort | pens | plate | cake | esperando | esperar | qu   | bobbi | slam       | jet  | vom  | chanson | halt | soar | cancion | bob  | swell | bo   | warum | pot  | funer | christian | gen  | yeh  | niño | risk | ritmo | felicidad | scienc | plead | llevo | vu   | drinkin | maker | amen | giant | level | raw  | nella | ess  | flew | 8    | até  | languag | deepest | pido | zurück | encuentro | motor | visit | z    | sweeter | pose | aldrig | cradl | threat | partir | hoje | driver | attract | buddi | public | avenu | co   | busco | tempt | chemic | jone | shakin | ny   | mie  | siamo | nena | bein | daili | sta  | stack | nasti | satisfact | center | tame | pierc | obvious | worthi | pourquoi | consid | gar  | anda | sparkl | willst | fulfil | i’v  | prophet | vanish | pan  | slap | quién | hypnot | spoon | posso | thread | china | chew | quanto | canta | whatcha | bump | humbl | claw | preach | cadillac | mate | chaqu | sí   | bond | grain | ninguém | dieser | são  | mucha | voce | cómo | saniti | blank | già  | degre | wither | snap | fog  | doy  | despis | endur | luce | busca | salir | sip  | dedic | pine | alley | rearrang | saviour | donn | traffic | sincer | liberti | volta | gypsi | pare | ko   | struck | deinen | chip | puls | scent | meinen | lame | stir | chop | fuert | sehen | condemn | llena | cleans | neither | buzz | tai  | indian | muss | enfant | negra | rub  | prima | blowin | cancer | solitud | driven | kommer | klein | sooner | success | media | viejo | blacken | foreign | vuelta | greater | sourc | boyfriend | medicin | rare | hago | lace | decemb | colder | camera | quelqu | bail | sagt | vivr | tool | oper | crimin | havin | interest | paul | être | llega | vet  | runaway | slept | footstep | sixteen | fuerza | priest | nana | egg  | intro | aussi | realidad | turnin | alien | vengeanc | kannst | dejar | stake | días | sonn | noir | sooth | cuanto | rein | watchin | sentido | peel | stormi | player | dinner | hardest | respons | juego | worm | tak  | aye  | ar   | perhap | dizer | orlean | blond | critic | stomach | niemand | toast | oye  | bug  | crucifi | sailor | steam | clever | claus | uncl | graviti | chica | reap | sento | farm | opinion | estamo | whom | blir | grasp | mamma | tore | dale | hurrican | mesmo | thief | tuoi | vibe | shini | muerto | sidewalk | passa | conscious | glove | perform | lluvia | winner | consequ | cantando | bleibt | buscar | sentimiento | disappoint | ann  | lamor | amant | ki   | jede | satellit | tattoo | muito | weit | tas  | deg  | usual | hecho | cocain | tot  | tuesday | tension | rout | educ | bitt | zombi | mieux | furi | alter | lend | valu | ainda | coal | mommi | velvet | blanket | drama | bowl | orang | amart | uhh  | reborn | angst | lotta | lyin | especi | conceal | rid  | ideal | dal  | sos  | willi | sentenc | tête | dell | adió | tar  | button | nao  | strap | meinem | display | fra  | ihn  | tap  | sagen | miei | hon  | signal | sul  | shook | dot  | jewel | himmel | vine | redeem | musica | cow  | einer | termin | meus | pattern | ur   | throughout | younger | coin | verso | deaf | ahhh | expos | compass | personn | donna | num  | describ | lower | brush | mm   | outro | fazer | tangl | instinct | effect | approach | breast | volt | dart | franc | ow   | repli | provid | fim  | declar | nuclear | swore | llama | vino | están | solv | piensa | steht | distort | lair | rubber | factori | post | artist | anni | peter | biggest | brutal | extrem | english | jerk | aún  | calma | laiss | debt | perch | shield | esperanza | haar | doi  | redempt | model | sido | weigh | resurrect | alto | curl | cent | june | slice | sha  | insecur | coward | ra   | usa  | georgia | estou | cute | cruis | mexico | invad | jealousi   | futuro | fuist | dejo | halo | tras | beaten | luego | shelf | motiv | twelv | it´  | rumor | tennesse | swept | anna | jaim | nosso | nuh  | jamá | contain | nein | wort | ate  | sleigh | schön | champagn | aun  | defens | deceit | weird | relief | tá   | product | dip  | zwei | 12   | gesicht | singer     | vera | vielleicht | spi  | target | souvenir | stereo | rude | manera | ab   | reli | woh  | harvest | corpo | liquid | exit | sonho | 20   | web  | casi | facil | princess | einmal | muscl | booti | blur | ii   | ahí  | duck | respirar | evid | idiot | breakdown | liber | sow  | georg | dans | einem | flyin | symphoni | ficar | automat | robot | igen | realm | practic | distract | extraño | judgement | sane | april | caer | gear | vicious | womb | visto | h    | major | willow | neighborhood | static | wealth | reel | joint | dónde | venus | dijo | evri | wolv | ventana | lala | cariño | dinero | africa | coraz | homi | sock | arena | support | credit | regga | repres | miro | matin | sleepi | worthless | video | griev | meiner | branch | achiev | denk | demain | maze | knockin | correct | dial | file | misma | soi  | malo | filthi | jim  | juic | convict | cycl | ceux | perdu | ello | disturb | pein | chocol | rapper | olvid | forgiven | sinn | tend | corpor | tunnel | loca | dai  | legend | dimens | tief | idol | dyin | forsaken | allá | fella | physic | matar | tragic | gris | soll | forti | communic | dough | denial | liv  | local | algún | urg  | céu  | hijo | taxi | ambit | voyag | locura | mere | dull | unleash | tread | smokin | william | gleam | civil | defi | haga | amongst | ob   | heed | bull | host | dieu | villag | unkind | altar | arriba | sal  | bunch | croi | weiter | pardon | aller | despit | ignit | cotton | nei  | dr   | verd | phase | gracia | tue  | depoi | link | intern | seventeen | shes | coffin | hound | decept | health | frei | alibi | vengo | bled | rubi | leaf | attempt | tienen | llorando | suelo | thumb | razon | rode | sober | buen | pela | joka | crimson | height | frost | acid | glaub | net  | pimp | empezar | font | selbst | shepherd | hunter | jive | prevail | jaw  | circus | background | fairi | sufrir | quieren | symbol | sabor | geh  | sulla | jeden | peak | plot | guarda | blanco | manag | safeti | sleepless | chez | liquor | narrow | explos | object | there’ | meal | unholi | nós  | deiner | untru | wah  | fountain | ô    | penso | spider | mata | inde | poet | flicker | vote | tank | salli | scale | halfway | jsui | traum | keepin | foe  | honesti | creer | missin | torch | infinit | niña | wär  | haus | holler | gott | attend | skill | ref  | atom | bas  | scorn | cap  | keiner | vibrat | faint | nen  | offic | pave | peux | stroll | piu  | bello | ahi  | voodoo | cétait | caricia | knot | thirti | thigh | tuyo | tenga | process | duro | estribillo | gern | valentin | fright | spiritu | stock | fiction | senti | memphi | padr | ¿qué | olla | overwhelm | mami | friendship | vampir | paralyz | coke | hardcor | pistol | bush | cherish | spiral | infin | weav | sack | bam  | hacen | dalla | inna | chin | parasit | contact | dado | losin | était | fleur | raus | weh  | wage | tambien | dissolv | cu   | superstar | searchin | ali  | nueva | hart | diss | whoo | almighti | unwind | plea | sexual | dew  | negat | bu   | spoil | junki | puppet | gin  | blossom | fuss | plein | vast | stell | histoir | stroke | seam | rey  | medo | prefer | northern | author | disgust | dure | devant | wretch | sarà | atmospher | daydream | pipe | remors | martyr | yonder | moin | hizo | sneak | abyss | version | papel | comprend | uhhuh | isso | oooo | pon  | gutter | rate | vaikka | pavement | od   | dusti | roller | label | deck | vultur | tun  | careless | glide | wirklich | vorbei | fifteen | bord | nut  | mentr | quis | spanish | impos | fifti | stink | leap | penetr | dam  | ritual | fellow | clip | suppli | flee | elev | mail | ribbon | corr | hospit | ladder | wail | bathroom | dá   | sait | jenni | heur | revolv | barrio | knive | vice | firm | chicago | ikk  | breakfast | despu | darker | upset | oblivion | hustl | favourit | reward | servant | rewind     | primavera | culpa | enslav | solament | charli | pueblo | fuse | aquella | toca | tin  | opposit | propheci | zur  | oughta | sorriso | carpet | servic | dort | oscuridad | comput | mont | invent | acaba | strive | muev | chord | sleepin | foul | scrape | erst | captiv | ey   | bid  | ohhhh | jar  | drew | definit | wonderin | slight | pole | fascin | shorti | bark | killin | produc     | alguém | mystic | peep | grate | tranc | nube | resto | nome | oppress | batter | bike | liegt | harri | medic | glück | accid | waltz | asshol | soñar | stall | problema | deixa | finest | fácil | rome | quedo | savag | bonita | politician | seiz | general | hör  | parl | independ | très | wirst | ain  | perchè | seit | dine | pollut | french | phrase | niemal | circumst | rattl | musiqu | romant | ultim | deinem | union | habe | stench | sest | couch | sourir | accus | determin | risa | prime | nom  | enamorado | hater | egal | bonheur | meadow | klar | saudad | beep | shotgun | gira | contar | lamp | elvi | trumpet | porch | graveyard | gentlemen  | seren | grito | vil  | glitter | larg | kopf | secreto | group | profit | declin | lou  | sour | involv     | quizá | boo  | project | materi | ilusión | noel | placer | execut | revers | luci | gambl | summon | também | señor | fest | melhor | madrugada | fo   | microphon | claro | virus | explor | speech | venom | fino | sehr | vacat | partner | cualquier | youâr | sotto | silhouett | notion | entrar | market | slay | rail | mold | rêve | yah  | raven | insiem | knight | cuento | heb  | cose | bli  | eterno | digniti | escapar | depui | adventur | depart | letra | lawn | essenc | fr   | paus | outra | tut  | sil  | preciso | obscur | smack | childhood | memoria | lipstick | shinin | photo | enchant | tocar | hei  | ira  | farther | sport | gasolin | latest | rosi | guardo | fiend | concentr | mina | palac | aboard | strife | lágrima | llora | anchor | dreamt | corn | clay | déjà | café | dizzi | spray | messiah | voix | brake | pleur | cafe | sum  | pet  | jade | combin | può  | tod  | hur  | apathi | desol | crippl | axe  | rabbit | sanctuari | valor | transform | uniform | confront | swift | barrel | filth | vrai | entonc | lune | masquerad | mississippi | chime | 50   | railroad | qua  | llego | actual | shoulda | gloom | escond | perd | 15   | jama | conoc | abr  | blut | inn  | phantom | appeal | plug | vaniti | poni | mainten | cristal | fearless | stitch | fragment | clutch | pecho | 30   | squad | cambio | makeup | stalk | surf | outer | basement | obscen | gehn | passé | fiddl | steve | boulevard | chart | arrang | increas | septemb | i`m  | rua  | endlich | guitarra | leve | evolut | wooden | vraiment | kickin | unter | logic | 40   | toma | feat | gotten | tryna | mire | esser | hid  | fighter | husband | jumpin | suo  | machen | pasión | maim | program | demasiado | majesti | retreat | appreci | daze | challeng | queria | letzt | nosotro | sogno | ku   | subject | standard | troppo | jazz | opportun | sehn | miser | col  | legion | submit | qualquer | cough | medio | teen | wilder | sed  | peau | pone | studi | dije | jacket | overflow | vient | suprem | butcher | balloon | pushin | tradit | pane | cur | stomp | alegr | judgment | industri   | jugar | introduc | lai  | esquina | venir | iba  | taint | pude | counti | fleet | rêves | allah | groovi | sogni | chrome | blah | genocid | kalt |     | unreal | slumber | thiev | frank | id   | lurk | unhappi | ihm  | morena | chico | dusk | cuatro | lap  | dynamit | blick | twin | muer | dub  | yi   | thirsti | skirt | hopin | predict | heroin | escucha | ormai | scari | steer | genau | besoin | ana  | llanto | screamin | routin | contr | tooth | paura | sopra | perdida | vuela | fuori | pierdo | remedi | cloudi | adam | raison | perro | amus | closet | ner  | ano  | western | ness | piedra | beef | aprè | featur | robin | decad | qued | bald | wollt | neue | whine | chees | feu  | aprend | dish | leva | brauch | misunderstood | misti | diferent | habla | når  | psycho | spotlight | reviv | suitcas | freund | duda | etwa | geld | stadt | mellow | poetri | lumièr | bean | print | confin | kommen | domani | correr | perman | strada | inhal | idl  | allen | statu | bluebird | uniti | reckless | robe | leer | lhe  | vite | modo | menschen | incred | aujourdhui | anticip | etc  | estc | keinen | raindrop | puzzl | chemin | lindo | wax  | foss | junk | veut | kaiken | contempl | skeleton | caso | wollen | ruido | grade | leau | ‘caus | effort | dêtre | hippi | fil  | curv | dabei | nossa | eventu | recordar | disconnect | carol | strung | infierno | daß  | cousin | radiat | pal  | stiff | trend | lento | fore | vide | channel | joli | parc | vuol | então | stern | cope | garbag | admir | blister | sull | mão  | odio | pitch | carn | slippin | we’r | debo | honki | shark | afar | jest | pu   | ust  | hiphop | ident | billion | punto | oon  | romeo | banana     | escuchar | richard | livet | jung | fiel | noos | beggin | trunk | ink  | mash | succeed | toni | bi   | spinnin | powder | fou  | hun  | butter | fatto | manchmal | llevar | fur  | disagre | voll | assur | från | savoir | horizont | carnav | drunken | tuck | keeper | broad | maid | flock | gib  | tellement | vieux | tango | bailando | larm | berlin | handsom | gefühl | blunt | qual | inject | timeless | gi   | cor  | bonni | clone | allí | mall | wink | blanca | sinto | mirando | meaningless | nessuno | legal | hypocrit | hermano | pasion | aid  | brooklyn | donc | delus | term | primera | pourtant | layin | conceiv | seel | devast | slick | vega | pluie | tax  | frío | ty   | virtu | lontano | unabl | distress | bla  | ember | wee  | mmmm | pedir | beckon | galaxi | diz  | ley  | passo | mous | issu | absurd | imma | zoo  | rocki | pide | jackson | neat | itch | insect | shred | 000  | segundo | avait | bonito | foundat | 13   | mag  | scarlet | lunch | cansado | leak | près | bah  | giorni | siehst | consol | flirt | absenc | lalala | comprehend | hin  | scum | stride | fingertip | lua  | translat | reput | starri | conclus | pouco | belt | sig  | tribe | illumin | knowin | forg | minor | behav | oli  | croir | troi | passer | dautr | vela | anyhow | mock | habrá | espejo | intens | saddl | glue | rendezv | cd   | mío  | rave | dimmi | retir | vara | molli | forbidden | combat | trippin | ingent | deepli | puttin | silk | paranoia | weißt | whirl | duti | quedan | adentro | ditch | shave | esté | sicken | premier | bleib | reliev | restor | unawar | quella | dash | gore | acabar | kissin | indiffer | temperatur | messin | rumbl | argu | freeway | vuelto | manipul | annihil | mek  | passag | minuto | fora | cosmic | despierta | betti | request | pudiera | bucket | proper | ace  | gritar | puro | gown | chapter | digit | actor | cambia | prendr | creator | skate | askin | difícil | flown | nurs | sim  | waist | gleich | saben | collar | joue | demai | current | flaw | 16   | doigt | olvida | comb | headlight | diablo | suav | ascend | cree | vete | pledg | mistaken | method | vagu | dura | voit | maiden | sangu | ando | element | entir | alleluia | oft  | intox | besser | pueden | rug  | aura | guest | chamber | sere | jukebox | skinni | wissen | holla | cherch | hurtin | tenemo | dedo | droit | glisten | assassin | landscap | mutil | seein | senseless | golp | lili | jaurai | auto | structur | assum | veneno | spawn | proclaim | threaten | distancia | magia | swirl | curious | complex | uptown | 100  | advanc | alegría | empieza | hah  | dug  | aquello | lucif | cruz | jamaica | flavor | 24   | anguish | foto | chat | jétai | caminho | observ | altro | javai | oer  | nickel | booz | sew  | música | stai | naughti | entiendo | står | champion | forsak | seventh | capit | writer | motivo | bake | insist | santo | pe   | gee  | colleg\n",
       "Slicker Than Your Average | Craig David | Hip-hop | 0.0495356 | 0.0170279 | 0.0356037 | 0.0201238 | 0.00773994 | 0.00619195 | 0.0588235 | 0.00928793 | 0.0139319 | 0.00619195 | 0.0216718 | 0.00309597 | 0.00154799 | 0.0263158 | 0.0263158 | 0.0247678 | 0.00309597 | 0.00928793 | 0    | 0.00928793 | 0.00154799 | 0.00309597 | 0.00154799 | 0.00773994 | 0.00464396 | 0.00464396 | 0.00154799 | 0.0139319 | 0.00619195 | 0.00309597 | 0    | 0.00154799 | 0.0278638 | 0.00309597 | 0.0139319 | 0.00464396 | 0.00928793 | 0    | 0.00464396 | 0    | 0.00154799 | 0    | 0.00773994 | 0.0170279 | 0.00464396 | 0.00309597 | 0    | 0.00309597 | 0.0247678 | 0.00154799 | 0    | 0.00154799 | 0    | 0.00928793 | 0.00154799 | 0    | 0.00309597 | 0.00154799 | 0.0216718 | 0.00154799 | 0    | 0.0201238 | 0.00619195 | 0    | 0    | 0.00464396 | 0.00464396 | 0.00154799 | 0.00309597 | 0.00309597 | 0.00154799 | 0.00154799 | 0    | 0    | 0    | 0.00619195 | 0    | 0.00154799 | 0.00154799 | 0    | 0     | 0.00154799 | 0.00619195 | 0     | 0     | 0    | 0    | 0    | 0.00154799 | 0    | 0    | 0.00154799 | 0.00154799 | 0.00154799 | 0    | 0     | 0    | 0.00619195 | 0.00154799 | 0.0263158 | 0     | 0    | 0.00309597 | 0    | 0       | 0.00154799 | 0.00154799 | 0     | 0    | 0.00464396 | 0.00154799 | 0    | 0.00464396 | 0    | 0    | 0.00773994 | 0    | 0.0108359 | 0     | 0.00154799 | 0.00154799 | 0    | 0    | 0     | 0    | 0    | 0.00154799 | 0    | 0    | 0.00464396 | 0    | 0    | 0      | 0.00154799 | 0     | 0.00309597 | 0    | 0.00154799 | 0.00154799 | 0    | 0    | 0.00154799 | 0     | 0.00154799 | 0    | 0     | 0     | 0.00309597 | 0.00309597 | 0    | 0    | 0    | 0    | 0    | 0.00154799 | 0    | 0    | 0    | 0    | 0.00154799 | 0.00619195 | 0    | 0    | 0    | 0    | 0    | 0    | 0      | 0       | 0    | 0    | 0    | 0    | 0.00309597 | 0.00464396 | 0     | 0    | 0      | 0    | 0     | 0    | 0     | 0    | 0    | 0    | 0     | 0.00464396 | 0     | 0    | 0    | 0.00309597 | 0.00154799 | 0      | 0.00154799 | 0      | 0    | 0     | 0    | 0    | 0    | 0    | 0.0201238 | 0.0123839 | 0       | 0    | 0    | 0.00154799 | 0    | 0    | 0    | 0.00154799 | 0    | 0.00309597 | 0    | 0.00309597 | 0    | 0     | 0    | 0     | 0.00309597 | 0.00154799 | 0      | 0    | 0    | 0    | 0    | 0    | 0    | 0.00464396 | 0.00154799 | 0    | 0       | 0    | 0.00309597 | 0    | 0    | 0    | 0.00154799 | 0    | 0    | 0.00309597 | 0    | 0    | 0.00154799 | 0    | 0    | 0    | 0    | 0    | 0    | 0    | 0    | 0    | 0    | 0    | 0    | 0    | 0.00154799 | 0    | 0     | 0     | 0    | 0      | 0      | 0     | 0     | 0     | 0    | 0.00154799 | 0    | 0    | 0    | 0     | 0    | 0     | 0.00154799 | 0    | 0     | 0    | 0    | 0    | 0      | 0    | 0    | 0    | 0    | 0    | 0.00309597 | 0     | 0.00154799 | 0    | 0    | 0    | 0    | 0    | 0    | 0    | 0    | 0    | 0    | 0     | 0    | 0.00154799 | 0     | 0    | 0     | 0    | 0    | 0    | 0    | 0    | 0      | 0    | 0    | 0.00154799 | 0    | 0     | 0      | 0    | 0    | 0    | 0     | 0    | 0.00154799 | 0      | 0.00154799 | 0     | 0.00154799 | 0        | 0     | 0    | 0     | 0     | 0    | 0    | 0    | 0.00154799 | 0    | 0    | 0    | 0         | 0    | 0    | 0    | 0      | 0    | 0    | 0    | 0    | 0    | 0    | 0    | 0      | 0     | 0.00154799 | 0    | 0    | 0    | 0    | 0    | 0    | 0.00309597 | 0    | 0    | 0       | 0    | 0    | 0    | 0     | 0    | 0    | 0.00309597 | 0.00154799 | 0    | 0    | 0     | 0.00154799 | 0       | 0.00309597 | 0    | 0     | 0    | 0    | 0     | 0    | 0    | 0    | 0    | 0     | 0    | 0    | 0     | 0    | 0      | 0    | 0    | 0      | 0      | 0    | 0    | 0    | 0    | 0     | 0    | 0    | 0      | 0    | 0     | 0     | 0      | 0    | 0    | 0.00154799 | 0     | 0    | 0    | 0    | 0    | 0    | 0.00154799 | 0    | 0    | 0    | 0    | 0    | 0      | 0    | 0.00154799 | 0    | 0    | 0      | 0    | 0     | 0    | 0    | 0     | 0     | 0      | 0     | 0    | 0    | 0    | 0.00154799 | 0     | 0    | 0    | 0     | 0    | 0    | 0     | 0     | 0    | 0    | 0     | 0    | 0     | 0    | 0    | 0    | 0    | 0    | 0.00154799 | 0.00154799 | 0        | 0       | 0      | 0      | 0.00154799 | 0.00154799 | 0    | 0    | 0    | 0     | 0    | 0    | 0     | 0     | 0    | 0    | 0    | 0      | 0    | 0     | 0    | 0    | 0.00309597 | 0    | 0    | 0    | 0     | 0    | 0.00154799 | 0    | 0    | 0    | 0    | 0    | 0.00154799 | 0     | 0     | 0    | 0    | 0    | 0    | 0    | 0      | 0    | 0     | 0    | 0     | 0      | 0    | 0     | 0.00154799 | 0     | 0      | 0     | 0    | 0    | 0    | 0    | 0     | 0.00154799 | 0    | 0    | 0    | 0    | 0    | 0      | 0    | 0      | 0       | 0    | 0     | 0    | 0.00154799 | 0    | 0    | 0    | 0    | 0    | 0    | 0    | 0.00154799 | 0      | 0.00154799 | 0     | 0    | 0     | 0      | 0    | 0     | 0    | 0    | 0    | 0    | 0    | 0     | 0     | 0     | 0     | 0.00154799 | 0    | 0    | 0    | 0      | 0    | 0      | 0    | 0      | 0     | 0     | 0    | 0      | 0    | 0    | 0    | 0    | 0      | 0     | 0     | 0    | 0    | 0     | 0        | 0     | 0    | 0    | 0.00154799 | 0     | 0    | 0       | 0     | 0      | 0    | 0    | 0    | 0     | 0     | 0    | 0     | 0     | 0    | 0    | 0      | 0      | 0    | 0       | 0     | 0      | 0    | 0    | 0    | 0        | 0     | 0     | 0     | 0    | 0    | 0      | 0    | 0    | 0     | 0    | 0      | 0    | 0    | 0    | 0    | 0    | 0     | 0.00154799 | 0     | 0.00154799 | 0    | 0    | 0     | 0     | 0    | 0    | 0    | 0      | 0    | 0    | 0    | 0    | 0    | 0    | 0      | 0    | 0    | 0.0123839 | 0    | 0    | 0.00154799 | 0     | 0    | 0        | 0     | 0     | 0    | 0    | 0     | 0    | 0    | 0    | 0    | 0    | 0     | 0        | 0     | 0    | 0       | 0    | 0    | 0     | 0      | 0      | 0    | 0    | 0    | 0     | 0      | 0    | 0    | 0    | 0    | 0    | 0    | 0    | 0    | 0    | 0    | 0      | 0      | 0      | 0    | 0    | 0    | 0    | 0        | 0    | 0    | 0    | 0    | 0    | 0.00154799 | 0     | 0     | 0        | 0    | 0.00154799 | 0.00309597 | 0    | 0    | 0     | 0    | 0    | 0    | 0     | 0      | 0     | 0    | 0    | 0    | 0    | 0    | 0     | 0    | 0     | 0       | 0      | 0.00154799 | 0     | 0    | 0     | 0     | 0    | 0    | 0     | 0    | 0    | 0    | 0    | 0    | 0     | 0.00154799 | 0     | 0      | 0     | 0      | 0    | 0    | 0     | 0       | 0     | 0       | 0    | 0      | 0    | 0.00154799 | 0      | 0        | 0     | 0     | 0     | 0     | 0     | 0    | 0     | 0     | 0    | 0     | 0    | 0      | 0     | 0     | 0      | 0    | 0    | 0     | 0     | 0    | 0     | 0    | 0    | 0    | 0    | 0    | 0     | 0    | 0     | 0    | 0        | 0     | 0    | 0     | 0    | 0     | 0     | 0     | 0    | 0.0123839 | 0       | 0      | 0    | 0     | 0      | 0    | 0      | 0    | 0    | 0    | 0     | 0    | 0.00154799 | 0    | 0    | 0     | 0      | 0    | 0      | 0     | 0     | 0      | 0    | 0      | 0    | 0    | 0    | 0     | 0      | 0      | 0    | 0     | 0    | 0     | 0       | 0         | 0    | 0     | 0      | 0    | 0    | 0     | 0     | 0      | 0    | 0    | 0     | 0      | 0    | 0    | 0     | 0    | 0      | 0    | 0    | 0     | 0.00154799 | 0     | 0     | 0    | 0    | 0    | 0    | 0    | 0    | 0     | 0      | 0    | 0      | 0    | 0       | 0    | 0.00154799 | 0     | 0    | 0     | 0.00154799 | 0    | 0    | 0    | 0     | 0    | 0     | 0      | 0     | 0     | 0    | 0    | 0    | 0    | 0    | 0      | 0      | 0    | 0      | 0     | 0     | 0    | 0     | 0      | 0     | 0      | 0    | 0    | 0       | 0     | 0    | 0    | 0     | 0    | 0    | 0    | 0     | 0    | 0     | 0    | 0    | 0     | 0    | 0        | 0      | 0       | 0       | 0      | 0.00154799 | 0      | 0      | 0    | 0     | 0       | 0    | 0    | 0    | 0     | 0    | 0    | 0     | 0    | 0    | 0     | 0     | 0    | 0     | 0     | 0     | 0    | 0     | 0      | 0    | 0      | 0    | 0    | 0    | 0    | 0     | 0     | 0      | 0    | 0     | 0    | 0      | 0     | 0     | 0    | 0.00154799 | 0    | 0        | 0    | 0    | 0       | 0       | 0       | 0    | 0    | 0    | 0    | 0     | 0    | 0    | 0     | 0    | 0     | 0      | 0     | 0    | 0      | 0    | 0     | 0      | 0    | 0      | 0    | 0    | 0     | 0     | 0    | 0      | 0     | 0    | 0    | 0    | 0     | 0    | 0    | 0    | 0    | 0.00309597 | 0     | 0     | 0     | 0     | 0    | 0    | 0    | 0    | 0    | 0      | 0     | 0    | 0    | 0         | 0     | 0    | 0    | 0     | 0    | 0    | 0.00154799 | 0    | 0       | 0     | 0     | 0    | 0    | 0       | 0    | 0    | 0     | 0      | 0     | 0    | 0    | 0      | 0    | 0     | 0    | 0    | 0    | 0      | 0    | 0     | 0    | 0    | 0    | 0     | 0    | 0.00154799 | 0    | 0.00309597 | 0    | 0     | 0    | 0    | 0      | 0    | 0     | 0     | 0      | 0    | 0    | 0      | 0    | 0      | 0    | 0      | 0        | 0    | 0    | 0      | 0    | 0       | 0    | 0      | 0    | 0       | 0    | 0     | 0          | 0    | 0    | 0     | 0      | 0.00154799 | 0     | 0    | 0      | 0     | 0    | 0     | 0    | 0     | 0    | 0    | 0    | 0     | 0    | 0    | 0    | 0    | 0    | 0      | 0    | 0    | 0      | 0    | 0    | 0    | 0    | 0      | 0     | 0       | 0    | 0      | 0    | 0    | 0    | 0    | 0     | 0    | 0     | 0     | 0.00154799 | 0     | 0       | 0    | 0       | 0       | 0    | 0    | 0    | 0     | 0    | 0     | 0       | 0       | 0     | 0      | 0    | 0    | 0      | 0      | 0    | 0    | 0    | 0    | 0    | 0     | 0    | 0    | 0    | 0    | 0       | 0      | 0     | 0    | 0    | 0    | 0       | 0    | 0    | 0        | 0    | 0     | 0     | 0    | 0    | 0      | 0      | 0    | 0     | 0    | 0    | 0    | 0    | 0        | 0    | 0    | 0    | 0       | 0    | 0    | 0    | 0    | 0     | 0     | 0     | 0     | 0    | 0    | 0     | 0    | 0     | 0       | 0       | 0      | 0       | 0    | 0     | 0    | 0    | 0     | 0     | 0       | 0    | 0    | 0    | 0    | 0    | 0     | 0    | 0        | 0    | 0     | 0     | 0    | 0    | 0    | 0     | 0    | 0     | 0     | 0     | 0       | 0    | 0    | 0    | 0    | 0    | 0     | 0      | 0    | 0    | 0     | 0    | 0    | 0    | 0    | 0    | 0     | 0    | 0    | 0     | 0         | 0        | 0      | 0      | 0      | 0     | 0      | 0      | 0    | 0    | 0    | 0.00154799 | 0    | 0    | 0    | 0      | 0     | 0     | 0    | 0      | 0    | 0      | 0     | 0       | 0    | 0    | 0     | 0       | 0    | 0    | 0       | 0      | 0      | 0    | 0    | 0    | 0     | 0    | 0      | 0    | 0     | 0     | 0    | 0    | 0    | 0    | 0      | 0      | 0    | 0    | 0     | 0       | 0       | 0    | 0     | 0    | 0       | 0    | 0    | 0     | 0     | 0    | 0    | 0      | 0.00154799 | 0    | 0       | 0       | 0    | 0      | 0      | 0    | 0    | 0    | 0      | 0      | 0    | 0     | 0    | 0     | 0       | 0    | 0    | 0    | 0    | 0      | 0     | 0    | 0      | 0    | 0     | 0     | 0      | 0    | 0       | 0    | 0    | 0    | 0    | 0       | 0      | 0    | 0    | 0    | 0      | 0      | 0    | 0    | 0    | 0    | 0    | 0    | 0    | 0       | 0    | 0    | 0    | 0    | 0    | 0       | 0     | 0          | 0     | 0     | 0       | 0     | 0    | 0    | 0        | 0    | 0    | 0       | 0    | 0    | 0    | 0     | 0    | 0     | 0    | 0     | 0      | 0      | 0    | 0    | 0       | 0    | 0    | 0      | 0      | 0    | 0    | 0    | 0.00154799 | 0     | 0    | 0     | 0     | 0     | 0     | 0    | 0    | 0     | 0    | 0      | 0.00154799 | 0     | 0     | 0     | 0    | 0    | 0     | 0      | 0       | 0       | 0    | 0    | 0      | 0    | 0     | 0       | 0    | 0     | 0     | 0      | 0    | 0    | 0    | 0       | 0      | 0    | 0    | 0     | 0     | 0     | 0    | 0    | 0    | 0    | 0    | 0     | 0     | 0        | 0      | 0     | 0     | 0     | 0.00309597 | 0     | 0          | 0     | 0     | 0    | 0    | 0     | 0      | 0         | 0    | 0    | 0      | 0      | 0    | 0      | 0    | 0      | 0    | 0    | 0    | 0    | 0      | 0    | 0      | 0     | 0    | 0     | 0.00154799 | 0    | 0       | 0     | 0    | 0     | 0    | 0    | 0    | 0      | 0     | 0    | 0     | 0      | 0    | 0      | 0        | 0        | 0    | 0    | 0.00154799 | 0    | 0      | 0    | 0    | 0     | 0    | 0        | 0    | 0      | 0      | 0     | 0     | 0      | 0    | 0     | 0    | 0    | 0    | 0    | 0    | 0      | 0    | 0      | 0     | 0      | 0    | 0     | 0     | 0      | 0     | 0     | 0    | 0    | 0    | 0     | 0    | 0     | 0    | 0    | 0       | 0     | 0     | 0     | 0    | 0     | 0    | 0    | 0    | 0     | 0    | 0    | 0    | 0    | 0    | 0     | 0      | 0       | 0     | 0     | 0      | 0     | 0      | 0    | 0    | 0      | 0    | 0    | 0     | 0        | 0    | 0      | 0       | 0    | 0     | 0    | 0     | 0     | 0       | 0      | 0    | 0    | 0      | 0       | 0    | 0    | 0     | 0      | 0      | 0    | 0      | 0    | 0     | 0    | 0       | 0     | 0    | 0    | 0       | 0       | 0       | 0    | 0    | 0      | 0    | 0    | 0    | 0    | 0     | 0      | 0      | 0     | 0       | 0       | 0     | 0      | 0    | 0    | 0    | 0    | 0     | 0     | 0    | 0    | 0      | 0    | 0       | 0     | 0    | 0        | 0      | 0     | 0    | 0    | 0    | 0       | 0       | 0     | 0       | 0    | 0     | 0      | 0     | 0    | 0     | 0    | 0     | 0    | 0       | 0    | 0    | 0      | 0.00154799 | 0      | 0.00154799 | 0    | 0    | 0    | 0      | 0    | 0      | 0        | 0    | 0     | 0    | 0    | 0      | 0      | 0    | 0    | 0    | 0    | 0     | 0    | 0      | 0    | 0    | 0    | 0    | 0    | 0    | 0    | 0    | 0     | 0      | 0      | 0     | 0      | 0     | 0    | 0      | 0    | 0       | 0    | 0    | 0    | 0       | 0    | 0    | 0    | 0    | 0        | 0    | 0      | 0        | 0       | 0      | 0    | 0    | 0    | 0    | 0    | 0     | 0    | 0     | 0     | 0      | 0    | 0    | 0     | 0      | 0     | 0      | 0    | 0     | 0    | 0     | 0.00154799 | 0     | 0     | 0    | 0      | 0    | 0       | 0    | 0       | 0       | 0    | 0    | 0    | 0     | 0       | 0    | 0      | 0      | 0       | 0    | 0    | 0    | 0    | 0     | 0        | 0     | 0        | 0     | 0      | 0    | 0     | 0     | 0    | 0    | 0    | 0       | 0     | 0     | 0    | 0     | 0      | 0     | 0    | 0       | 0    | 0    | 0    | 0         | 0     | 0    | 0    | 0      | 0    | 0      | 0      | 0    | 0     | 0    | 0    | 0     | 0     | 0     | 0     | 0     | 0    | 0    | 0       | 0    | 0    | 0      | 0        | 0    | 0    | 0    | 0      | 0      | 0    | 0    | 0    | 0      | 0       | 0     | 0           | 0     | 0      | 0     | 0     | 0    | 0    | 0    | 0    | 0    | 0      | 0    | 0    | 0    | 0     | 0.00154799 | 0     | 0      | 0    | 0     | 0      | 0     | 0     | 0      | 0        | 0    | 0    | 0    | 0      | 0       | 0        | 0    | 0    | 0    | 0    | 0     | 0    | 0    | 0    | 0     | 0    | 0    | 0     | 0    | 0      | 0       | 0     | 0      | 0    | 0     | 0    | 0    | 0    | 0    | 0    | 0    | 0    | 0    | 0       | 0    | 0       | 0       | 0      | 0    | 0      | 0    | 0     | 0      | 0      | 0    | 0    | 0    | 0    | 0     | 0     | 0    | 0.00154799 | 0    | 0    | 0     | 0    | 0      | 0    | 0       | 0    | 0      | 0    | 0     | 0    | 0    | 0      | 0    | 0     | 0    | 0      | 0       | 0    | 0.00154799 | 0      | 0      | 0     | 0     | 0    | 0    | 0     | 0     | 0    | 0    | 0    | 0    | 0     | 0       | 0    | 0     | 0     | 0     | 0      | 0    | 0     | 0    | 0    | 0       | 0      | 0     | 0      | 0     | 0      | 0      | 0    | 0        | 0    | 0     | 0    | 0     | 0    | 0     | 0    | 0    | 0    | 0    | 0     | 0    | 0      | 0         | 0    | 0     | 0    | 0    | 0.00154799 | 0    | 0     | 0     | 0        | 0      | 0       | 0     | 0    | 0     | 0    | 0      | 0    | 0     | 0       | 0       | 0    | 0        | 0     | 0      | 0    | 0    | 0    | 0       | 0    | 0    | 0      | 0      | 0    | 0     | 0     | 0    | 0    | 0    | 0    | 0    | 0       | 0     | 0      | 0     | 0    | 0    | 0     | 0.00154799 | 0      | 0      | 0    | 0        | 0     | 0    | 0     | 0     | 0       | 0          | 0    | 0       | 0     | 0    | 0     | 0      | 0    | 0     | 0     | 0    | 0     | 0      | 0    | 0    | 0     | 0     | 0     | 0      | 0     | 0      | 0      | 0     | 0     | 0      | 0    | 0      | 0      | 0          | 0     | 0       | 0    | 0       | 0      | 0     | 0    | 0     | 0    | 0     | 0    | 0     | 0    | 0     | 0     | 0      | 0     | 0    | 0       | 0     | 0      | 0    | 0       | 0    | 0       | 0      | 0      | 0    | 0     | 0    | 0    | 0    | 0     | 0    | 0        | 0        | 0       | 0    | 0        | 0     | 0    | 0    | 0     | 0      | 0     | 0    | 0      | 0    | 0      | 0     | 0     | 0    | 0    | 0      | 0     | 0    | 0     | 0    | 0      | 0      | 0    | 0     | 0     | 0       | 0    | 0       | 0       | 0      | 0    | 0    | 0      | 0      | 0      | 0     | 0    | 0      | 0      | 0    | 0        | 0     | 0     | 0    | 0    | 0    | 0       | 0    | 0      | 0      | 0      | 0       | 0       | 0    | 0    | 0    | 0    | 0     | 0      | 0    | 0     | 0     | 0    | 0      | 0      | 0    | 0       | 0      | 0    | 0     | 0      | 0    | 0      | 0       | 0    | 0    | 0    | 0     | 0    | 0      | 0      | 0    | 0    | 0    | 0    | 0    | 0    | 0        | 0    | 0      | 0      | 0      | 0      | 0        | 0      | 0     | 0      | 0    | 0    | 0    | 0     | 0    | 0    | 0    | 0    | 0    | 0     | 0     | 0    | 0    | 0     | 0    | 0    | 0        | 0      | 0      | 0    | 0      | 0     | 0        | 0    | 0    | 0    | 0      | 0.00154799 | 0      | 0    | 0      | 0     | 0    | 0    | 0    | 0       | 0    | 0       | 0     | 0      | 0       | 0    | 0     | 0.00309597 | 0    | 0       | 0      | 0    | 0       | 0    | 0       | 0     | 0     | 0    | 0     | 0       | 0    | 0      | 0      | 0     | 0         | 0    | 0    | 0     | 0      | 0     | 0         | 0     | 0      | 0    | 0      | 0      | 0    | 0    | 0     | 0    | 0       | 0     | 0     | 0       | 0     | 0       | 0    | 0     | 0    | 0    | 0    | 0     | 0    | 0      | 0    | 0     | 0      | 0    | 0     | 0       | 0    | 0    | 0        | 0    | 0    | 0    | 0    | 0    | 0    | 0    | 0         | 0    | 0         | 0     | 0     | 0     | 0    | 0    | 0      | 0     | 0      | 0    | 0    | 0     | 0      | 0    | 0       | 0     | 0      | 0     | 0     | 0      | 0         | 0    | 0    | 0       | 0     | 0      | 0     | 0     | 0    | 0     | 0    | 0    | 0     | 0    | 0    | 0    | 0    | 0      | 0    | 0      | 0    | 0     | 0    | 0     | 0    | 0    | 0    | 0      | 0    | 0    | 0     | 0     | 0      | 0     | 0    | 0      | 0      | 0       | 0    | 0    | 0     | 0       | 0     | 0     | 0       | 0      | 0     | 0     | 0    | 0     | 0     | 0    | 0     | 0    | 0    | 0    | 0     | 0    | 0        | 0      | 0    | 0     | 0    | 0.00154799 | 0      | 0       | 0    | 0      | 0    | 0     | 0      | 0    | 0     | 0     | 0    | 0    | 0      | 0     | 0      | 0      | 0     | 0      | 0     | 0     | 0    | 0     | 0     | 0       | 0      | 0    | 0    | 0      | 0     | 0    | 0    | 0       | 0        | 0       | 0      | 0    | 0     | 0       | 0     | 0    | 0     | 0      | 0       | 0       | 0    | 0        | 0       | 0     | 0    | 0    | 0        | 0    | 0       | 0    | 0    | 0     | 0    | 0    | 0     | 0      | 0     | 0     | 0     | 0     | 0    | 0      | 0     | 0    | 0.00154799 | 0     | 0    | 0    | 0     | 0    | 0      | 0    | 0    | 0    | 0     | 0        | 0      | 0     | 0    | 0     | 0     | 0    | 0       | 0     | 0      | 0        | 0    | 0    | 0       | 0        | 0      | 0     | 0    | 0    | 0    | 0     | 0     | 0    | 0    | 0     | 0     | 0         | 0    | 0     | 0    | 0       | 0       | 0     | 0    | 0      | 0        | 0        | 0    | 0    | 0       | 0       | 0      | 0        | 0       | 0    | 0    | 0      | 0     | 0     | 0      | 0          | 0    | 0    | 0       | 0     | 0    | 0    | 0    | 0    | 0     | 0    | 0    | 0     | 0    | 0    | 0        | 0    | 0     | 0     | 0     | 0        | 0    | 0       | 0         | 0     | 0    | 0     | 0       | 0    | 0      | 0     | 0     | 0       | 0     | 0    | 0    | 0      | 0       | 0    | 0     | 0     | 0      | 0      | 0      | 0      | 0      | 0     | 0    | 0    | 0     | 0          | 0    | 0       | 0     | 0     | 0    | 0      | 0      | 0    | 0    | 0    | 0    | 0    | 0        | 0    | 0       | 0      | 0     | 0     | 0     | 0    | 0     | 0    | 0     | 0     | 0    | 0      | 0    | 0       | 0       | 0     | 0    | 0     | 0        | 0    | 0     | 0    | 0    | 0       | 0    | 0       | 0       | 0     | 0    | 0       | 0    | 0.00154799 | 0      | 0     | 0     | 0    | 0      | 0       | 0         | 0        | 0    | 0    | 0      | 0      | 0      | 0     | 0    | 0        | 0     | 0     | 0     | 0     | 0.00154799 | 0    | 0    | 0     | 0    | 0    | 0    | 0    | 0      | 0    | 0    | 0       | 0      | 0       | 0      | 0      | 0    | 0     | 0      | 0    | 0     | 0     | 0    | 0    | 0    | 0      | 0    | 0      | 0       | 0    | 0     | 0        | 0      | 0    | 0     | 0    | 0    | 0       | 0    | 0    | 0       | 0    | 0    | 0      | 0     | 0       | 0     | 0    | 0        | 0    | 0    | 0.00154799 | 0    | 0      | 0       | 0     | 0    | 0       | 0       | 0     | 0     | 0      | 0    | 0    | 0     | 0     | 0    | 0     | 0    | 0       | 0    | 0.00154799 | 0    | 0      | 0     | 0    | 0    | 0    | 0     | 0    | 0      | 0    | 0    | 0    | 0      | 0    | 0    | 0       | 0        | 0        | 0      | 0     | 0        | 0      | 0    | 0    | 0      | 0     | 0        | 0     | 0     | 0       | 0       | 0    | 0        | 0       | 0     | 0    | 0    | 0    | 0         | 0     | 0          | 0    | 0    | 0    | 0     | 0    | 0    | 0        | 0     | 0    | 0    | 0      | 0    | 0    | 0      | 0       | 0    | 0      | 0    | 0     | 0       | 0      | 0    | 0      | 0      | 0    | 0    | 0     | 0     | 0       | 0    | 0    | 0    | 0.00154799 | 0       | 0     | 0    | 0    | 0      | 0       | 0      | 0      | 0     | 0    | 0     | 0     | 0      | 0     | 0      | 0    | 0       | 0    | 0      | 0    | 0    | 0    | 0     | 0     | 0     | 0      | 0    | 0      | 0    | 0     | 0       | 0    | 0      | 0      | 0         | 0      | 0     | 0     | 0     | 0       | 0    | 0        | 0    | 0    | 0     | 0    | 0       | 0      | 0    | 0     | 0     | 0      | 0      | 0    | 0     | 0    | 0          | 0        | 0       | 0      | 0    | 0    | 0         | 0     | 0     | 0      | 0    | 0    | 0    | 0    | 0    | 0     | 0     | 0       | 0     | 0      | 0    | 0    | 0    | 0     | 0    | 0    | 0      | 0      | 0    | 0    | 0    | 0     | 0      | 0      | 0     | 0      | 0    | 0     | 0    | 0    | 0      | 0       | 0     | 0     | 0      | 0     | 0    | 0       | 0     | 0      | 0    | 0    | 0     | 0    | 0     | 0     | 0    | 0    | 0      | 0    | 0     | 0    | 0     | 0    | 0    | 0    | 0      | 0     | 0     | 0     | 0         | 0     | 0       | 0    | 0    | 0     | 0     | 0       | 0     | 0      | 0     | 0    | 0      | 0     | 0     | 0    | 0    | 0     | 0     | 0     | 0       | 0      | 0    | 0    | 0      | 0      | 0     | 0    | 0      | 0    | 0      | 0    | 0    | 0      | 0    | 0      | 0        | 0    | 0      | 0    | 0     | 0      | 0     | 0    | 0        | 0       | 0     | 0      | 0    | 0     | 0    | 0         | 0       | 0    | 0     | 0.00154799 | 0    | 0    | 0       | 0    | 0    | 0       | 0    | 0     | 0    | 0     | 0    | 0     | 0         | 0    | 0    | 0    | 0    | 0     | 0         | 0      | 0     | 0     | 0    | 0       | 0     | 0    | 0     | 0     | 0    | 0     | 0    | 0    | 0    | 0    | 0       | 0       | 0    | 0      | 0         | 0     | 0     | 0    | 0       | 0    | 0      | 0     | 0      | 0      | 0    | 0      | 0       | 0     | 0      | 0     | 0    | 0     | 0     | 0      | 0    | 0      | 0    | 0    | 0     | 0    | 0    | 0     | 0    | 0     | 0     | 0         | 0      | 0    | 0     | 0       | 0      | 0        | 0      | 0    | 0    | 0      | 0      | 0      | 0    | 0       | 0      | 0    | 0    | 0     | 0      | 0     | 0     | 0      | 0     | 0    | 0      | 0     | 0       | 0    | 0     | 0    | 0      | 0        | 0    | 0     | 0    | 0    | 0     | 0       | 0      | 0    | 0     | 0    | 0    | 0      | 0     | 0    | 0     | 0      | 0    | 0    | 0    | 0      | 0     | 0    | 0     | 0     | 0    | 0     | 0    | 0     | 0        | 0       | 0    | 0       | 0      | 0       | 0     | 0     | 0    | 0    | 0      | 0      | 0    | 0    | 0     | 0      | 0    | 0    | 0    | 0     | 0     | 0       | 0     | 0      | 0       | 0    | 0    | 0      | 0    | 0      | 0     | 0    | 0     | 0      | 0      | 0       | 0      | 0      | 0     | 0      | 0       | 0     | 0     | 0       | 0       | 0      | 0       | 0     | 0         | 0       | 0    | 0    | 0    | 0      | 0      | 0      | 0      | 0    | 0    | 0    | 0    | 0    | 0      | 0     | 0        | 0    | 0    | 0     | 0    | 0       | 0     | 0        | 0       | 0      | 0      | 0    | 0    | 0     | 0     | 0        | 0      | 0     | 0        | 0      | 0     | 0     | 0    | 0    | 0    | 0     | 0      | 0    | 0       | 0       | 0    | 0      | 0      | 0      | 0       | 0       | 0     | 0    | 0    | 0    | 0    | 0      | 0     | 0      | 0     | 0      | 0       | 0       | 0     | 0    | 0    | 0       | 0      | 0     | 0      | 0     | 0    | 0       | 0     | 0    | 0     | 0    | 0       | 0      | 0    | 0    | 0     | 0     | 0    | 0    | 0        | 0     | 0     | 0    | 0    | 0     | 0      | 0        | 0     | 0         | 0     | 0       | 0      | 0      | 0       | 0        | 0      | 0      | 0           | 0          | 0    | 0     | 0     | 0    | 0    | 0        | 0      | 0     | 0    | 0    | 0    | 0     | 0     | 0      | 0    | 0       | 0       | 0    | 0    | 0    | 0     | 0     | 0    | 0     | 0    | 0    | 0     | 0    | 0     | 0      | 0       | 0     | 0    | 0     | 0     | 0    | 0      | 0     | 0     | 0    | 0      | 0       | 0    | 0     | 0    | 0    | 0     | 0       | 0    | 0    | 0    | 0    | 0      | 0    | 0     | 0      | 0       | 0    | 0    | 0    | 0     | 0    | 0    | 0      | 0    | 0     | 0    | 0     | 0      | 0    | 0      | 0      | 0    | 0     | 0      | 0    | 0       | 0    | 0          | 0       | 0    | 0     | 0    | 0    | 0     | 0       | 0       | 0     | 0    | 0       | 0     | 0     | 0    | 0     | 0     | 0     | 0        | 0      | 0        | 0      | 0    | 0    | 0     | 0    | 0     | 0      | 0    | 0      | 0       | 0     | 0     | 0    | 0     | 0    | 0      | 0     | 0       | 0    | 0      | 0       | 0    | 0      | 0    | 0     | 0       | 0      | 0      | 0       | 0    | 0    | 0     | 0     | 0    | 0     | 0      | 0         | 0    | 0    | 0       | 0     | 0    | 0     | 0         | 0    | 0    | 0    | 0    | 0     | 0    | 0       | 0      | 0    | 0    | 0       | 0     | 0    | 0     | 0      | 0     | 0.00154799 | 0      | 0     | 0    | 0    | 0    | 0      | 0     | 0     | 0     | 0     | 0    | 0     | 0        | 0     | 0    | 0    | 0     | 0    | 0    | 0       | 0    | 0    | 0    | 0      | 0     | 0        | 0    | 0      | 0      | 0     | 0      | 0    | 0       | 0    | 0    | 0    | 0       | 0.00154799 | 0    | 0          | 0    | 0      | 0        | 0      | 0    | 0      | 0    | 0    | 0    | 0       | 0     | 0      | 0    | 0     | 0    | 0    | 0    | 0     | 0        | 0      | 0     | 0     | 0    | 0    | 0    | 0    | 0        | 0    | 0     | 0         | 0     | 0    | 0     | 0    | 0     | 0     | 0        | 0     | 0       | 0     | 0    | 0     | 0       | 0        | 0       | 0         | 0    | 0     | 0    | 0    | 0       | 0    | 0     | 0    | 0     | 0      | 0            | 0      | 0      | 0    | 0     | 0     | 0     | 0    | 0    | 0    | 0       | 0    | 0      | 0      | 0      | 0     | 0    | 0    | 0     | 0       | 0      | 0     | 0      | 0    | 0     | 0      | 0         | 0     | 0     | 0      | 0      | 0      | 0    | 0      | 0    | 0       | 0       | 0    | 0    | 0     | 0    | 0    | 0      | 0    | 0    | 0       | 0    | 0    | 0     | 0    | 0       | 0    | 0      | 0      | 0     | 0        | 0    | 0    | 0      | 0      | 0    | 0    | 0      | 0      | 0    | 0    | 0    | 0        | 0    | 0     | 0      | 0     | 0      | 0    | 0    | 0     | 0        | 0     | 0      | 0    | 0     | 0     | 0    | 0    | 0    | 0    | 0     | 0     | 0      | 0    | 0    | 0       | 0     | 0      | 0       | 0     | 0     | 0    | 0    | 0       | 0    | 0    | 0    | 0    | 0    | 0      | 0      | 0     | 0      | 0    | 0     | 0    | 0      | 0      | 0     | 0      | 0     | 0      | 0    | 0    | 0    | 0     | 0      | 0    | 0     | 0    | 0      | 0         | 0    | 0      | 0     | 0      | 0      | 0    | 0     | 0     | 0    | 0    | 0    | 0       | 0      | 0        | 0     | 0     | 0     | 0    | 0     | 0    | 0    | 0    | 0       | 0      | 0     | 0    | 0     | 0    | 0    | 0       | 0    | 0      | 0        | 0      | 0    | 0       | 0    | 0      | 0          | 0     | 0      | 0       | 0      | 0     | 0    | 0     | 0     | 0    | 0    | 0      | 0      | 0     | 0      | 0         | 0    | 0      | 0      | 0      | 0      | 0      | 0    | 0      | 0    | 0      | 0     | 0    | 0        | 0    | 0     | 0      | 0    | 0    | 0    | 0       | 0    | 0    | 0     | 0     | 0       | 0    | 0     | 0      | 0    | 0       | 0     | 0      | 0     | 0       | 0    | 0    | 0    | 0      | 0    | 0      | 0     | 0    | 0    | 0    | 0     | 0    | 0      | 0      | 0     | 0    | 0     | 0    | 0    | 0      | 0    | 0     | 0    | 0      | 0      | 0       | 0    | 0      | 0     | 0    | 0     | 0       | 0    | 0          | 0    | 0        | 0      | 0       | 0     | 0       | 0     | 0      | 0    | 0    | 0    | 0         | 0    | 0          | 0      | 0       | 0    | 0       | 0      | 0    | 0       | 0      | 0     | 0    | 0    | 0    | 0     | 0     | 0    | 0    | 0       | 0       | 0    | 0     | 0     | 0     | 0    | 0    | 0    | 0       | 0       | 0    | 0         | 0        | 0    | 0     | 0    | 0    | 0    | 0        | 0      | 0    | 0      | 0    | 0     | 0    | 0     | 0     | 0      | 0    | 0       | 0    | 0     | 0    | 0     | 0       | 0      | 0    | 0    | 0    | 0      | 0        | 0      | 0       | 0    | 0      | 0      | 0    | 0         | 0        | 0    | 0      | 0      | 0      | 0    | 0    | 0     | 0     | 0       | 0     | 0        | 0     | 0    | 0    | 0    | 0      | 0    | 0      | 0        | 0    | 0     | 0      | 0     | 0    | 0      | 0    | 0        | 0     | 0        | 0      | 0       | 0    | 0    | 0     | 0    | 0       | 0     | 0     | 0     | 0    | 0      | 0    | 0      | 0      | 0    | 0      | 0    | 0    | 0    | 0      | 0    | 0      | 0      | 0    | 0        | 0    | 0    | 0     | 0    | 0      | 0      | 0     | 0    | 0    | 0       | 0    | 0         | 0     | 0      | 0     | 0        | 0     | 0        | 0      | 0       | 0.00154799 | 0         | 0     | 0      | 0        | 0      | 0      | 0    | 0       | 0    | 0    | 0       | 0        | 0    | 0      | 0       | 0      | 0      | 0    | 0         | 0      | 0    | 0      | 0     | 0      | 0    | 0     | 0       | 0    | 0      | 0    | 0      | 0    | 0    | 0     | 0    | 0    | 0       | 0        | 0      | 0    | 0      | 0      | 0    | 0      | 0.00154799 | 0      | 0      | 0    | 0     | 0     | 0    | 0     | 0    | 0       | 0      | 0    | 0     | 0     | 0     | 0     | 0     | 0     | 0      | 0     | 0     | 0        | 0     | 0      | 0     | 0    | 0     | 0     | 0      | 0          | 0    | 0       | 0    | 0    | 0        | 0    | 0     | 0    | 0      | 0    | 0    | 0      | 0      | 0      | 0      | 0        | 0     | 0      | 0      | 0     | 0      | 0     | 0    | 0      | 0    | 0     | 0      | 0     | 0        | 0    | 0     | 0    | 0         | 0     | 0    | 0       | 0      | 0    | 0      | 0    | 0       | 0    | 0      | 0    | 0    | 0       | 0     | 0         | 0.00154799 | 0     | 0     | 0    | 0       | 0    | 0    | 0       | 0     | 0      | 0      | 0    | 0    | 0.00154799 | 0     | 0    | 0       | 0      | 0       | 0    | 0      | 0      | 0      | 0    | 0     | 0      | 0      | 0     | 0    | 0      | 0         | 0    | 0         | 0     | 0     | 0      | 0      | 0     | 0    | 0    | 0     | 0       | 0         | 0       | 0     | 0         | 0      | 0      | 0      | 0    | 0    | 0    | 0    | 0    | 0     | 0      | 0      | 0      | 0    | 0    | 0    | 0      | 0       | 0       | 0     | 0        | 0      | 0     | 0    | 0      | 0    | 0    | 0     | 0    | 0    | 0       | 0      | 0     | 0         | 0       | 0        | 0      | 0     | 0       | 0     | 0    | 0    | 0       | 0     | 0       | 0      | 0    | 0      | 0     | 0        | 0    | 0     | 0      | 0      | 0       | 0     | 0      | 0      | 0    | 0    | 0    | 0    | 0     | 0     | 0       | 0    | 0     | 0     | 0    | 0    | 0    | 0    | 0      | 0    | 0    | 0    | 0      | 0     | 0      | 0    | 0      | 0         | 0     | 0         | 0       | 0        | 0     | 0      | 0     | 0    | 0      | 0    | 0         | 0           | 0     | 0    | 0        | 0    | 0     | 0      | 0       | 0     | 0      | 0    | 0    | 0    | 0     | 0    | 0    | 0    | 0       | 0      | 0    | 0      | 0    | 0       | 0       | 0        | 0      | 0        | 0      | 0     | 0    | 0     | 0      | 0      | 0     | 0    | 0     | 0        | 0      | 0    | 0     | 0     | 0     | 0         | 0     | 0      | 0       | 0       | 0    | 0    | 0       | 0        | 0    | 0      | 0      | 0        | 0      | 0     | 0     | 0    | 0    | 0    | 0      | 0     | 0    | 0     | 0    | 0       | 0       | 0      | 0    | 0      | 0      | 0    | 0       | 0         | 0       | 0       | 0       | 0    | 0        | 0      | 0     | 0       | 0     | 0    | 0       | 0        | 0      | 0    | 0        | 0    | 0     | 0    | 0      | 0      | 0        | 0     | 0     | 0    | 0      | 0    | 0    | 0    | 0     | 0    | 0      | 0        | 0     | 0      | 0       | 0       | 0      | 0      | 0    | 0    | 0     | 0     | 0        | 0.00154799 | 0     | 0        | 0    | 0       | 0     | 0    | 0     | 0    | 0      | 0     | 0     | 0     | 0      | 0     | 0      | 0    | 0       | 0    | 0    | 0      | 0       | 0     | 0     | 0    | 0    | 0       | 0    | 0      | 0     | 0    | 0      | 0    | 0       | 0     | 0    | 0    | 0    | 0    | 0       | 0     | 0     | 0       | 0      | 0       | 0     | 0     | 0     | 0     | 0      | 0    | 0      | 0        | 0      | 0     | 0     | 0     | 0     | 0       | 0     | 0     | 0      | 0      | 0      | 0    | 0      | 0     | 0    | 0      | 0    | 0    | 0       | 0    | 0      | 0    | 0    | 0      | 0     | 0     | 0    | 0    | 0     | 0    | 0     | 0     | 0    | 0      | 0    | 0    | 0      | 0             | 0     | 0        | 0     | 0    | 0      | 0         | 0     | 0       | 0      | 0    | 0    | 0    | 0     | 0      | 0      | 0      | 0    | 0     | 0      | 0      | 0      | 0      | 0      | 0      | 0     | 0    | 0     | 0     | 0        | 0     | 0        | 0    | 0    | 0    | 0    | 0    | 0        | 0      | 0          | 0       | 0    | 0    | 0      | 0        | 0     | 0      | 0     | 0    | 0    | 0    | 0    | 0      | 0        | 0        | 0    | 0      | 0     | 0     | 0    | 0     | 0      | 0     | 0     | 0    | 0    | 0     | 0     | 0      | 0        | 0          | 0     | 0      | 0        | 0    | 0      | 0      | 0    | 0     | 0     | 0     | 0    | 0    | 0       | 0    | 0    | 0    | 0     | 0     | 0    | 0      | 0     | 0       | 0    | 0    | 0    | 0     | 0    | 0       | 0    | 0    | 0     | 0     | 0    | 0    | 0    | 0    | 0      | 0     | 0       | 0     | 0    | 0     | 0.00154799 | 0        | 0       | 0     | 0    | 0    | 0    | 0      | 0     | 0    | 0    | 0       | 0    | 0    | 0       | 0      | 0    | 0    | 0      | 0     | 0        | 0      | 0    | 0       | 0    | 0     | 0    | 0      | 0        | 0      | 0       | 0    | 0      | 0     | 0    | 0     | 0    | 0         | 0     | 0     | 0        | 0    | 0      | 0       | 0      | 0     | 0    | 0      | 0        | 0    | 0    | 0     | 0     | 0    | 0    | 0    | 0      | 0     | 0       | 0           | 0       | 0     | 0        | 0       | 0      | 0    | 0        | 0    | 0     | 0    | 0       | 0        | 0     | 0       | 0    | 0      | 0     | 0    | 0     | 0    | 0    | 0    | 0     | 0       | 0     | 0        | 0    | 0     | 0    | 0    | 0     | 0      | 0      | 0    | 0    | 0     | 0    | 0    | 0      | 0    | 0    | 0     | 0    | 0       | 0    | 0    | 0      | 0     | 0    | 0       | 0     | 0      | 0       | 0    | 0    | 0       | 0     | 0       | 0    | 0    | 0    | 0      | 0      | 0      | 0     | 0      | 0      | 0          | 0    | 0    | 0      | 0         | 0    | 0        | 0     | 0      | 0       | 0     | 0    | 0    | 0     | 0       | 0      | 0    | 0     | 0     | 0    | 0     | 0    | 0      | 0     | 0    | 0      | 0    | 0     | 0      | 0      | 0     | 0    | 0       | 0    | 0    | 0    | 0     | 0     | 0    | 0     | 0         | 0      | 0       | 0      | 0      | 0      | 0    | 0        | 0     | 0     | 0    | 0      | 0       | 0     | 0     | 0    | 0      | 0       | 0     | 0      | 0      | 0      | 0      | 0    | 0    | 0      | 0      | 0        | 0          | 0      | 0     | 0    | 0       | 0      | 0       | 0       | 0    | 0      | 0      | 0    | 0      | 0         | 0     | 0       | 0       | 0      | 0      | 0    | 0      | 0    | 0    | 0       | 0     | 0     | 0      | 0      | 0       | 0     | 0     | 0       | 0     | 0    | 0    | 0     | 0      | 0     | 0      | 0    | 0     | 0       | 0    | 0    | 0     | 0      | 0    | 0         | 0      | 0    | 0      | 0    | 0    | 0     | 0        | 0      | 0    | 0    | 0    | 0      | 0     | 0    | 0       | 0     | 0        | 0    | 0     | 0      | 0      | 0    | 0    | 0     | 0       | 0    | 0       | 0      | 0      | 0     | 0      | 0      | 0      | 0    | 0     | 0       | 0        | 0        | 0     | 0     | 0         | 0    | 0    | 0      | 0    | 0        | 0     | 0      | 0     | 0        | 0        | 0         | 0     | 0     | 0       | 0       | 0      | 0    | 0      | 0       | 0       | 0    | 0    | 0       | 0     | 0    | 0       | 0      | 0    | 0       | 0    | 0    | 0     | 0       | 0      | 0     | 0     | 0    | 0      | 0    | 0    | 0      | 0    | 0       | 0        | 0    | 0        | 0      | 0       | 0     | 0      | 0      | 0    | 0      | 0     | 0    | 0    | 0"
      ]
     },
     "execution_count": 41,
     "metadata": {},
     "output_type": "execute_result"
    }
   ],
   "source": [
    "lyrics.take(0)"
   ]
  },
  {
   "cell_type": "markdown",
   "metadata": {
    "deletable": true,
    "editable": true
   },
   "source": [
    "This test makes sure that you have chosen words such that at least one appears in each song. If you can't find words that satisfy this test just through intuition, try writing code to print out the titles of songs that do not contain any words from your list, then look at the words they do contain."
   ]
  },
  {
   "cell_type": "code",
   "execution_count": 42,
   "metadata": {
    "collapsed": false,
    "deletable": true,
    "editable": true
   },
   "outputs": [
    {
     "name": "stdout",
     "output_type": "stream",
     "text": [
      "~~~~~~~~~~~~~~~~~~~~~~~~~~~~~~~~~~~~~~~~~~~~~~~~~~~~~~~~~~~~~~~~~~~~~\n",
      "Running tests\n",
      "\n",
      "---------------------------------------------------------------------\n",
      "Test summary\n",
      "    Passed: 3\n",
      "    Failed: 0\n",
      "[ooooooooook] 100.0% passed\n",
      "\n"
     ]
    }
   ],
   "source": [
    "_ = ok.grade(\"q3_1_1\")"
   ]
  },
  {
   "cell_type": "markdown",
   "metadata": {
    "deletable": true,
    "editable": true
   },
   "source": [
    "#### Question 3.1.2\n",
    "In two sentences or less, describe how you selected your features. "
   ]
  },
  {
   "cell_type": "markdown",
   "metadata": {
    "deletable": true,
    "editable": true,
    "manual_problem_id": "music_3_1_2"
   },
   "source": [
    "Essentially, I looked at the first 3 hip-hop and first 3 country songs, and I chose features that had a proportion greater than 0 for a majority either hip-hop songs or majority of country songs, and a proportion of 0 for the other genre."
   ]
  },
  {
   "cell_type": "markdown",
   "metadata": {
    "deletable": true,
    "editable": true
   },
   "source": [
    "Next, let's classify the first song from our test set using these features.  You can examine the song by running the cells below. Do you think it will be classified correctly?"
   ]
  },
  {
   "cell_type": "code",
   "execution_count": 43,
   "metadata": {
    "collapsed": false,
    "deletable": true,
    "editable": true
   },
   "outputs": [
    {
     "name": "stdout",
     "output_type": "stream",
     "text": [
      "Song:\n"
     ]
    },
    {
     "data": {
      "text/html": [
       "<table border=\"1\" class=\"dataframe\">\n",
       "    <thead>\n",
       "        <tr>\n",
       "            <th>Title</th> <th>Artist</th> <th>Genre</th>\n",
       "        </tr>\n",
       "    </thead>\n",
       "    <tbody>\n",
       "        <tr>\n",
       "            <td>That Kind of Love</td> <td>Alison Krauss</td> <td>Country</td>\n",
       "        </tr>\n",
       "    </tbody>\n",
       "</table>"
      ],
      "text/plain": [
       "<IPython.core.display.HTML object>"
      ]
     },
     "metadata": {},
     "output_type": "display_data"
    },
    {
     "name": "stdout",
     "output_type": "stream",
     "text": [
      "Features:\n"
     ]
    },
    {
     "data": {
      "text/html": [
       "<table border=\"1\" class=\"dataframe\">\n",
       "    <thead>\n",
       "        <tr>\n",
       "            <th>in</th> <th>your</th> <th>be</th> <th>with</th> <th>what</th> <th>like</th> <th>out</th> <th>get</th> <th>got</th> <th>never</th> <th>from</th> <th>he</th> <th>let</th> <th>would</th> <th>back</th> <th>here</th> <th>thing</th> <th>right</th> <th>who</th> <th>two</th>\n",
       "        </tr>\n",
       "    </thead>\n",
       "    <tbody>\n",
       "        <tr>\n",
       "            <td>0.005291</td> <td>0   </td> <td>0.010582</td> <td>0.005291</td> <td>0.005291</td> <td>0.010582</td> <td>0   </td> <td>0.005291</td> <td>0   </td> <td>0    </td> <td>0   </td> <td>0   </td> <td>0   </td> <td>0.005291</td> <td>0   </td> <td>0   </td> <td>0    </td> <td>0    </td> <td>0.005291</td> <td>0   </td>\n",
       "        </tr>\n",
       "    </tbody>\n",
       "</table>"
      ],
      "text/plain": [
       "<IPython.core.display.HTML object>"
      ]
     },
     "metadata": {},
     "output_type": "display_data"
    }
   ],
   "source": [
    "print(\"Song:\")\n",
    "test_lyrics.take(0).select('Title', 'Artist', 'Genre').show()\n",
    "print(\"Features:\")\n",
    "test_20.take(0).show()"
   ]
  },
  {
   "cell_type": "markdown",
   "metadata": {
    "deletable": true,
    "editable": true
   },
   "source": [
    "As before, we want to look for the songs in the training set that are most alike our test song.  We will calculate the Euclidean distances from the test song (using the 20 selected features) to all songs in the training set.  You could do this with a `for` loop, but to make it computationally faster, we have provided a function, `fast_distances`, to do this for you.  Read its documentation to make sure you understand what it does.  (You don't need to read the code in its body unless you want to.)"
   ]
  },
  {
   "cell_type": "code",
   "execution_count": 44,
   "metadata": {
    "collapsed": false,
    "deletable": true,
    "editable": true
   },
   "outputs": [],
   "source": [
    "# Just run this cell to define fast_distances.\n",
    "\n",
    "def fast_distances(test_row, train_rows):\n",
    "    \"\"\"An array of the distances between test_row and each row in train_rows.\n",
    "\n",
    "    Takes 2 arguments:\n",
    "      test_row: A row of a table containing features of one\n",
    "        test song (e.g., test_20.row(0)).\n",
    "      train_rows: A table of features (for example, the whole\n",
    "        table train_20).\"\"\"\n",
    "    assert train_rows.num_columns < 50, \"Make sure you're not using all the features of the lyrics table.\"\n",
    "    counts_matrix = np.asmatrix(train_rows.columns).transpose()\n",
    "    diff = np.tile(np.array(test_row), [counts_matrix.shape[0], 1]) - counts_matrix\n",
    "    distances = np.squeeze(np.asarray(np.sqrt(np.square(diff).sum(1))))\n",
    "    return distances"
   ]
  },
  {
   "cell_type": "markdown",
   "metadata": {
    "deletable": true,
    "editable": true
   },
   "source": [
    "#### Question 3.1.3\n",
    "Use the `fast_distances` function provided above to compute the distance from the first song in the test set to all the songs in the training set, **using your set of 20 features**.  Make a new table called `genre_and_distances` with one row for each song in the training set and two columns:\n",
    "* The `\"Genre\"` of the training song\n",
    "* The `\"Distance\"` from the first song in the test set \n",
    "\n",
    "Ensure that `genre_and_distances` is **sorted in increasing order by distance to the first test song**."
   ]
  },
  {
   "cell_type": "code",
   "execution_count": 45,
   "metadata": {
    "collapsed": false,
    "deletable": true,
    "editable": true,
    "for_assignment_type": "student"
   },
   "outputs": [
    {
     "data": {
      "text/html": [
       "<table border=\"1\" class=\"dataframe\">\n",
       "    <thead>\n",
       "        <tr>\n",
       "            <th>Genre</th> <th>Distance</th>\n",
       "        </tr>\n",
       "    </thead>\n",
       "    <tbody>\n",
       "        <tr>\n",
       "            <td>Hip-hop</td> <td>0.0108077</td>\n",
       "        </tr>\n",
       "    </tbody>\n",
       "        <tr>\n",
       "            <td>Country</td> <td>0.011642 </td>\n",
       "        </tr>\n",
       "    </tbody>\n",
       "        <tr>\n",
       "            <td>Hip-hop</td> <td>0.0127479</td>\n",
       "        </tr>\n",
       "    </tbody>\n",
       "        <tr>\n",
       "            <td>Country</td> <td>0.0129603</td>\n",
       "        </tr>\n",
       "    </tbody>\n",
       "        <tr>\n",
       "            <td>Country</td> <td>0.0137479</td>\n",
       "        </tr>\n",
       "    </tbody>\n",
       "        <tr>\n",
       "            <td>Hip-hop</td> <td>0.0138345</td>\n",
       "        </tr>\n",
       "    </tbody>\n",
       "        <tr>\n",
       "            <td>Hip-hop</td> <td>0.0138846</td>\n",
       "        </tr>\n",
       "    </tbody>\n",
       "        <tr>\n",
       "            <td>Country</td> <td>0.0142801</td>\n",
       "        </tr>\n",
       "    </tbody>\n",
       "        <tr>\n",
       "            <td>Country</td> <td>0.014314 </td>\n",
       "        </tr>\n",
       "    </tbody>\n",
       "        <tr>\n",
       "            <td>Country</td> <td>0.0146802</td>\n",
       "        </tr>\n",
       "    </tbody>\n",
       "</table>\n",
       "<p>... (1173 rows omitted)</p"
      ],
      "text/plain": [
       "Genre   | Distance\n",
       "Hip-hop | 0.0108077\n",
       "Country | 0.011642\n",
       "Hip-hop | 0.0127479\n",
       "Country | 0.0129603\n",
       "Country | 0.0137479\n",
       "Hip-hop | 0.0138345\n",
       "Hip-hop | 0.0138846\n",
       "Country | 0.0142801\n",
       "Country | 0.014314\n",
       "Country | 0.0146802\n",
       "... (1173 rows omitted)"
      ]
     },
     "execution_count": 45,
     "metadata": {},
     "output_type": "execute_result"
    }
   ],
   "source": [
    "# The staff solution took 4 lines of code.\n",
    "distances = fast_distances(test_20.row(0), train_20)\n",
    "genre_and_distances = Table().with_columns(\n",
    "\"Genre\", train_lyrics.column(\"Genre\"),\n",
    "\"Distance\", distances).sort(\"Distance\")\n",
    "genre_and_distances"
   ]
  },
  {
   "cell_type": "code",
   "execution_count": 46,
   "metadata": {
    "collapsed": false,
    "deletable": true,
    "editable": true
   },
   "outputs": [
    {
     "name": "stdout",
     "output_type": "stream",
     "text": [
      "~~~~~~~~~~~~~~~~~~~~~~~~~~~~~~~~~~~~~~~~~~~~~~~~~~~~~~~~~~~~~~~~~~~~~\n",
      "Running tests\n",
      "\n",
      "---------------------------------------------------------------------\n",
      "Test summary\n",
      "    Passed: 2\n",
      "    Failed: 0\n",
      "[ooooooooook] 100.0% passed\n",
      "\n"
     ]
    }
   ],
   "source": [
    "_ = ok.grade(\"q3_1_3\")"
   ]
  },
  {
   "cell_type": "markdown",
   "metadata": {
    "deletable": true,
    "editable": true
   },
   "source": [
    "#### Question 3.1.4\n",
    "Now compute the 5-nearest neighbors classification of the first song in the test set.  That is, decide on its genre by finding the most common genre among its 5 nearest neighbors, according to the distances you've calculated.  Then check whether your classifier chose the right genre.  (Depending on the features you chose, your classifier might not get this song right, and that's okay.)"
   ]
  },
  {
   "cell_type": "code",
   "execution_count": 47,
   "metadata": {
    "collapsed": false,
    "deletable": true,
    "editable": true
   },
   "outputs": [
    {
     "name": "stdout",
     "output_type": "stream",
     "text": [
      "The assigned genre, Country, was correct.\n"
     ]
    }
   ],
   "source": [
    "# Set my_assigned_genre to the most common genre among these.\n",
    "my_assigned_genre = 'Country'\n",
    "\n",
    "# Set my_assigned_genre_was_correct to True if my_assigned_genre\n",
    "# matches the actual genre of the first song in the test set.\n",
    "my_assigned_genre_was_correct = True\n",
    "\n",
    "print(\"The assigned genre, {}, was{}correct.\".format(my_assigned_genre, \" \" if my_assigned_genre_was_correct else \" not \"))"
   ]
  },
  {
   "cell_type": "code",
   "execution_count": 48,
   "metadata": {
    "collapsed": false,
    "deletable": true,
    "editable": true
   },
   "outputs": [
    {
     "name": "stdout",
     "output_type": "stream",
     "text": [
      "~~~~~~~~~~~~~~~~~~~~~~~~~~~~~~~~~~~~~~~~~~~~~~~~~~~~~~~~~~~~~~~~~~~~~\n",
      "Running tests\n",
      "\n",
      "---------------------------------------------------------------------\n",
      "Test summary\n",
      "    Passed: 1\n",
      "    Failed: 0\n",
      "[ooooooooook] 100.0% passed\n",
      "\n"
     ]
    }
   ],
   "source": [
    "_ = ok.grade(\"q3_1_4\")"
   ]
  },
  {
   "cell_type": "markdown",
   "metadata": {
    "deletable": true,
    "editable": true
   },
   "source": [
    "## 3.2. A classifier function\n",
    "\n",
    "Now we can write a single function that encapsulates the whole process of classification."
   ]
  },
  {
   "cell_type": "markdown",
   "metadata": {
    "deletable": true,
    "editable": true
   },
   "source": [
    "#### Question 3.2.1\n",
    "Write a function called `classify`.  It should take the following four arguments:\n",
    "* A row of features for a song to classify (e.g., `test_20.row(0)`).\n",
    "* A table with a column for each feature (for example, `train_20`).\n",
    "* An array of classes that has as many items as the previous table has rows, and in the same order.\n",
    "* `k`, the number of neighbors to use in classification.\n",
    "\n",
    "It should return the class a `k`-nearest neighbor classifier picks for the given row of features (the string `'Country'` or the string `'Hip-hop'`)."
   ]
  },
  {
   "cell_type": "code",
   "execution_count": 49,
   "metadata": {
    "collapsed": false,
    "deletable": true,
    "editable": true
   },
   "outputs": [],
   "source": [
    "def classify(test_row, train_rows, train_classes, k):\n",
    "    \"\"\"Return the most common class among k nearest neigbors to test_row.\"\"\"\n",
    "    distances = fast_distances(test_row, train_rows)\n",
    "    genre_and_distances = Table().with_columns(\n",
    "    'Genre', train_classes,\n",
    "    'Distance', distances).sort('Distance')\n",
    "    return most_common(\"Genre\", genre_and_distances.take(np.arange(k)))"
   ]
  },
  {
   "cell_type": "code",
   "execution_count": 50,
   "metadata": {
    "collapsed": false,
    "deletable": true,
    "editable": true
   },
   "outputs": [
    {
     "name": "stdout",
     "output_type": "stream",
     "text": [
      "~~~~~~~~~~~~~~~~~~~~~~~~~~~~~~~~~~~~~~~~~~~~~~~~~~~~~~~~~~~~~~~~~~~~~\n",
      "Running tests\n",
      "\n",
      "---------------------------------------------------------------------\n",
      "Test summary\n",
      "    Passed: 1\n",
      "    Failed: 0\n",
      "[ooooooooook] 100.0% passed\n",
      "\n"
     ]
    }
   ],
   "source": [
    "_ = ok.grade(\"q3_2_1\")"
   ]
  },
  {
   "cell_type": "markdown",
   "metadata": {
    "deletable": true,
    "editable": true
   },
   "source": [
    "#### Question 3.2.2\n",
    "Assign `grandpa_genre` to the genre predicted by your classifier for the song \"Grandpa Got Runned Over By A John Deere\" in the test set, using **9 neighbors** and using your 20 features."
   ]
  },
  {
   "cell_type": "code",
   "execution_count": 51,
   "metadata": {
    "collapsed": false,
    "deletable": true,
    "editable": true
   },
   "outputs": [
    {
     "data": {
      "text/plain": [
       "'Country'"
      ]
     },
     "execution_count": 51,
     "metadata": {},
     "output_type": "execute_result"
    }
   ],
   "source": [
    "# The staff solution first defined a row object called grandpa_features.\n",
    "grandpa_features = test_lyrics.where('Title', \"Grandpa Got Runned Over By A John Deere\").select(my_20_features).row(0)\n",
    "grandpa_genre = classify(grandpa_features, train_20, train_lyrics.column('Genre'), 9)\n",
    "grandpa_genre"
   ]
  },
  {
   "cell_type": "code",
   "execution_count": 52,
   "metadata": {
    "collapsed": false,
    "deletable": true,
    "editable": true
   },
   "outputs": [
    {
     "name": "stdout",
     "output_type": "stream",
     "text": [
      "~~~~~~~~~~~~~~~~~~~~~~~~~~~~~~~~~~~~~~~~~~~~~~~~~~~~~~~~~~~~~~~~~~~~~\n",
      "Running tests\n",
      "\n",
      "---------------------------------------------------------------------\n",
      "Test summary\n",
      "    Passed: 1\n",
      "    Failed: 0\n",
      "[ooooooooook] 100.0% passed\n",
      "\n"
     ]
    }
   ],
   "source": [
    "_ = ok.grade(\"q3_2_2\")"
   ]
  },
  {
   "cell_type": "markdown",
   "metadata": {
    "deletable": true,
    "editable": true
   },
   "source": [
    "Finally, when we evaluate our classifier, it will be useful to have a classification function that is specialized to use a fixed training set and a fixed value of `k`."
   ]
  },
  {
   "cell_type": "markdown",
   "metadata": {
    "deletable": true,
    "editable": true
   },
   "source": [
    "#### Question 3.2.3\n",
    "Create a classification function that takes as its argument a row containing your 20 features and classifies that row using the 5-nearest neighbors algorithm with `train_20` as its training set."
   ]
  },
  {
   "cell_type": "code",
   "execution_count": 106,
   "metadata": {
    "collapsed": false,
    "deletable": true,
    "editable": true
   },
   "outputs": [
    {
     "data": {
      "text/plain": [
       "'Country'"
      ]
     },
     "execution_count": 106,
     "metadata": {},
     "output_type": "execute_result"
    }
   ],
   "source": [
    "def classify_one_argument(row):\n",
    "    return classify(row, train_20, train_lyrics.column('Genre'), 5)\n",
    "# When you're done, this should produce 'Hip-hop' or 'Country'.\n",
    "classify_one_argument(test_20.row(0))"
   ]
  },
  {
   "cell_type": "code",
   "execution_count": 107,
   "metadata": {
    "collapsed": false,
    "deletable": true,
    "editable": true
   },
   "outputs": [
    {
     "name": "stdout",
     "output_type": "stream",
     "text": [
      "~~~~~~~~~~~~~~~~~~~~~~~~~~~~~~~~~~~~~~~~~~~~~~~~~~~~~~~~~~~~~~~~~~~~~\n",
      "Running tests\n",
      "\n",
      "---------------------------------------------------------------------\n",
      "Test summary\n",
      "    Passed: 1\n",
      "    Failed: 0\n",
      "[ooooooooook] 100.0% passed\n",
      "\n"
     ]
    }
   ],
   "source": [
    "_ = ok.grade(\"q3_2_3\")"
   ]
  },
  {
   "cell_type": "markdown",
   "metadata": {
    "deletable": true,
    "editable": true
   },
   "source": [
    "## 3.3. Evaluating your classifier"
   ]
  },
  {
   "cell_type": "markdown",
   "metadata": {
    "deletable": true,
    "editable": true
   },
   "source": [
    "Now that it's easy to use the classifier, let's see how accurate it is on the whole test set.\n",
    "\n",
    "**Question 3.3.1.** Use `classify_one_argument` and `apply` to classify every song in the test set.  Name these guesses `test_guesses`.  **Then**, compute the proportion of correct classifications. "
   ]
  },
  {
   "cell_type": "code",
   "execution_count": 110,
   "metadata": {
    "collapsed": false,
    "deletable": true,
    "editable": true
   },
   "outputs": [
    {
     "data": {
      "text/plain": [
       "0.6858736059479554"
      ]
     },
     "execution_count": 110,
     "metadata": {},
     "output_type": "execute_result"
    }
   ],
   "source": [
    "test_guesses = make_array()\n",
    "for i in np.arange(test_20.num_rows):\n",
    "    guess = classify_one_argument(test_20.row(i))\n",
    "    test_guesses = np.append(test_guesses, guess)\n",
    "proportion_correct = np.count_nonzero(test_guesses == test_lyrics.column('Genre')) / len(test_guesses)\n",
    "proportion_correct"
   ]
  },
  {
   "cell_type": "code",
   "execution_count": 111,
   "metadata": {
    "collapsed": false,
    "deletable": true,
    "editable": true
   },
   "outputs": [
    {
     "name": "stdout",
     "output_type": "stream",
     "text": [
      "~~~~~~~~~~~~~~~~~~~~~~~~~~~~~~~~~~~~~~~~~~~~~~~~~~~~~~~~~~~~~~~~~~~~~\n",
      "Running tests\n",
      "\n",
      "---------------------------------------------------------------------\n",
      "Test summary\n",
      "    Passed: 1\n",
      "    Failed: 0\n",
      "[ooooooooook] 100.0% passed\n",
      "\n"
     ]
    }
   ],
   "source": [
    "_ = ok.grade(\"q3_3_1\")"
   ]
  },
  {
   "cell_type": "markdown",
   "metadata": {
    "deletable": true,
    "editable": true
   },
   "source": [
    "At this point, you've gone through one cycle of classifier design.  Let's summarize the steps:\n",
    "1. From available data, select test and training sets.\n",
    "2. Choose an algorithm you're going to use for classification.\n",
    "3. Identify some features.\n",
    "4. Define a classifier function using your features and the training set.\n",
    "5. Evaluate its performance (the proportion of correct classifications) on the test set."
   ]
  },
  {
   "cell_type": "markdown",
   "metadata": {
    "deletable": true,
    "editable": true
   },
   "source": [
    "## 4. Extra Explorations\n",
    "Now that you know how to evaluate a classifier, it's time to build a better one."
   ]
  },
  {
   "cell_type": "markdown",
   "metadata": {
    "deletable": true,
    "editable": true
   },
   "source": [
    "#### Question 4.1\n",
    "Find a classifier with better test-set accuracy than `classify_one_argument`.  (Your new function should have the same arguments as `classify_one_argument` and return a classification.  Name it `another_classifier`.)  You can use more or different features, or you can try different values of `k`.  (Of course, you still have to use `train_lyrics` as your training set!)"
   ]
  },
  {
   "cell_type": "code",
   "execution_count": 66,
   "metadata": {
    "collapsed": false,
    "deletable": true,
    "editable": true
   },
   "outputs": [
    {
     "data": {
      "text/plain": [
       "'Country'"
      ]
     },
     "execution_count": 66,
     "metadata": {},
     "output_type": "execute_result"
    }
   ],
   "source": [
    "# To start you off, here's a list of possibly-useful features:\n",
    "staff_features = make_array(\"come\", \"do\", \"have\", \"heart\", \"make\", \"never\", \"now\", \"wanna\", \"with\", \"yo\", \"in\", \"your\", \"be\", \"with\", \"what\", \"like\", \"out\", \"get\", \"got\", \"never\", \"from\", \"he\", \"let\", \"would\", \"back\", \"here\", \"thing\", \"right\", \"who\", \"two\")\n",
    "\n",
    "train_staff = train_lyrics.select(staff_features)\n",
    "test_staff = test_lyrics.select(staff_features)\n",
    "\n",
    "def another_classifier(row):\n",
    "    distances = fast_distances(row, train_staff)\n",
    "    genre_and_distances = Table().with_columns(\n",
    "    'Genre', train_lyrics.column('Genre'),\n",
    "    'Distance', distances)\n",
    "    return classify(row, train_staff, train_lyrics.column('Genre'), 20)\n",
    "another_classifier(test_staff.row(0))"
   ]
  },
  {
   "cell_type": "markdown",
   "metadata": {
    "deletable": true,
    "editable": true
   },
   "source": [
    "Briefly describe what you tried to improve your classifier. As long as you put in some effort to improving your classifier and describe what you have done, you will receive full credit for this problem."
   ]
  },
  {
   "cell_type": "markdown",
   "metadata": {
    "deletable": true,
    "editable": true,
    "manual_problem_id": "music_4_1"
   },
   "source": [
    "To improve the classifier, I added more features, by appending the staff features with my 20 features. Furthermore, I increased the number of neighbors that I used to compare classifications, allowing me to increase the accuracy the data I was looking at. Ultimately, I was able to increase the accuracy of my classifier by about 1 percent."
   ]
  },
  {
   "cell_type": "markdown",
   "metadata": {
    "deletable": true,
    "editable": true
   },
   "source": [
    "Congratulations: you're done with the required portion of the project! Time to submit."
   ]
  },
  {
   "cell_type": "code",
   "execution_count": null,
   "metadata": {
    "collapsed": false,
    "deletable": true,
    "editable": true
   },
   "outputs": [
    {
     "data": {
      "application/javascript": [
       "IPython.notebook.save_checkpoint();"
      ],
      "text/plain": [
       "<IPython.core.display.Javascript object>"
      ]
     },
     "metadata": {},
     "output_type": "display_data"
    },
    {
     "data": {
      "application/javascript": [
       "IPython.notebook.save_notebook();"
      ],
      "text/plain": [
       "<IPython.core.display.Javascript object>"
      ]
     },
     "metadata": {},
     "output_type": "display_data"
    }
   ],
   "source": [
    "_ = ok.submit()"
   ]
  },
  {
   "cell_type": "markdown",
   "metadata": {
    "deletable": true,
    "editable": true
   },
   "source": [
    "## Ungraded and Optional: A Custom Classifier\n",
    "Try to create an even better classifier. You're not restricted to using only word proportions as features.  For example, given the data, you could compute various notions of vocabulary size or estimated song length.  If you're feeling very adventurous, you could also try other classification methods, like logistic regression.  If you think you built a classifier that works well, post on Piazza and let us know."
   ]
  },
  {
   "cell_type": "code",
   "execution_count": null,
   "metadata": {
    "collapsed": false,
    "deletable": true,
    "editable": true
   },
   "outputs": [],
   "source": [
    "#####################\n",
    "# Custom Classifier #\n",
    "#####################\n"
   ]
  },
  {
   "cell_type": "markdown",
   "metadata": {
    "deletable": true,
    "editable": true
   },
   "source": [
    "## Kaggle Competition\n",
    "\n",
    "**Note:** This part is completely optional and will not contribute towards your grade in any way.\n",
    "\n",
    "We decided to *hold out* a set of 100 songs, for which we have provided the attributes but not the genres. You can use this set to evaluate how well you classifier performs on data for which you have never seen the correct genres. Optionally, you can submit your predictions on this dataset to Kaggle to compare your classifier to others (whoever else decides to participate).\n",
    "\n",
    "To participate, use your classifier to predict the genre of each row in the `holdout` table. Then, call ```create_competition_submission``` to generate a CSV file that you can submit to the competition!\n",
    "\n",
    "If you want to participate in the competition, you will have to create a Kaggle account. It's easiest for the staff to determine the winners of the competition if you use your `@berkeley.edu` email when doing so, but you can also contact your GSI if you decide to use another email address. Winners may receive honor and glory, but no material benefit.\n",
    "\n",
    "When you are ready to make a submission, go to https://inclass.kaggle.com/c/hip-hop-or-country for further instructions."
   ]
  },
  {
   "cell_type": "code",
   "execution_count": null,
   "metadata": {
    "collapsed": false,
    "deletable": true,
    "editable": true
   },
   "outputs": [],
   "source": [
    "holdout = Table.read_table('holdout_attributes.csv').drop('Id')\n",
    "holdout.select(0, 1, 2, 3, 4).show(5)"
   ]
  },
  {
   "cell_type": "code",
   "execution_count": null,
   "metadata": {
    "collapsed": true,
    "deletable": true,
    "editable": true
   },
   "outputs": [],
   "source": [
    "def create_competition_submission(predictions, filename='my_submission.csv'):\n",
    "    \"\"\"\n",
    "    Create a submission CSV for the Kaggle competition.\n",
    "    \n",
    "    Inputs:\n",
    "      predictions - list or array of your predictions (Generated as in Question 3.3.1.)\n",
    "    \"\"\"\n",
    "    Table().with_columns('Id', np.arange(len(predictions)), 'Predictions', predictions).to_csv(filename)\n",
    "    print('Created', filename)"
   ]
  },
  {
   "cell_type": "markdown",
   "metadata": {
    "deletable": true,
    "editable": true
   },
   "source": [
    "Here's an example of how to generate a submission file."
   ]
  },
  {
   "cell_type": "code",
   "execution_count": null,
   "metadata": {
    "collapsed": false,
    "deletable": true,
    "editable": true
   },
   "outputs": [],
   "source": [
    "create_competition_submission(holdout.select(*my_20_features).apply(classify_one_argument))"
   ]
  },
  {
   "cell_type": "code",
   "execution_count": null,
   "metadata": {
    "collapsed": true,
    "deletable": true,
    "editable": true
   },
   "outputs": [],
   "source": [
    "_ = ok.submit()"
   ]
  },
  {
   "cell_type": "code",
   "execution_count": null,
   "metadata": {
    "collapsed": true,
    "deletable": true,
    "editable": true
   },
   "outputs": [],
   "source": [
    "# For your convenience, you can run this cell to run all the tests at once!\n",
    "import os\n",
    "print(\"Running all tests...\")\n",
    "_ = [ok.grade(q[:-3]) for q in os.listdir(\"tests\") if q.startswith('q')]\n",
    "print(\"Finished running all tests.\")"
   ]
  }
 ],
 "metadata": {
  "kernelspec": {
   "display_name": "Python 3",
   "language": "python",
   "name": "python3"
  },
  "language_info": {
   "codemirror_mode": {
    "name": "ipython",
    "version": 3
   },
   "file_extension": ".py",
   "mimetype": "text/x-python",
   "name": "python",
   "nbconvert_exporter": "python",
   "pygments_lexer": "ipython3",
   "version": "3.5.2"
  }
 },
 "nbformat": 4,
 "nbformat_minor": 0
}
